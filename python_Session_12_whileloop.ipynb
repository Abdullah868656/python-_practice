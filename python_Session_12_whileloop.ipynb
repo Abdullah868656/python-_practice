{
 "cells": [
  {
   "cell_type": "markdown",
   "id": "aef6bc42-a305-4592-9b49-f321c6ec1eef",
   "metadata": {},
   "source": [
    "**While Loop**\n",
    "\n",
    "- If you want to apply unlimited iteration then we choose while loop\n",
    "\n",
    "- Any loop we required 3 things\n",
    "  \n",
    "   - Intial point or start point\n",
    " \n",
    "   - Condition to stop\n",
    " \n",
    "   - Increment or decrement\n",
    "\n",
    "- In for loop we are using all these 3 in a single line\n",
    "\n",
    "- In whlie loop we will use all there 3 in 3 lines\n",
    "\n",
    "  "
   ]
  },
  {
   "cell_type": "code",
   "execution_count": null,
   "id": "9b97fdea-c56b-4fc6-9638-411637de42c6",
   "metadata": {},
   "outputs": [],
   "source": [
    "# intial point \n",
    "# while <condition>:\n",
    "#    <statments>\n",
    "#    <increment or decrement>"
   ]
  },
  {
   "cell_type": "code",
   "execution_count": null,
   "id": "1ee79e65-41bd-4104-b093-67f1edca6b32",
   "metadata": {},
   "outputs": [],
   "source": [
    "for i in range(1,6):\n",
    "    print(i,end=' ')\n",
    "\n"
   ]
  },
  {
   "cell_type": "code",
   "execution_count": 8,
   "id": "31052ece-ec55-4d6f-93e5-da8bcb307f1d",
   "metadata": {},
   "outputs": [
    {
     "name": "stdout",
     "output_type": "stream",
     "text": [
      "1 2 3 4 5 "
     ]
    }
   ],
   "source": [
    "#case-1:\n",
    "i=1\n",
    "while (i<6):\n",
    "    print(i,end=' ')\n",
    "    i=i+1"
   ]
  },
  {
   "cell_type": "markdown",
   "id": "c08644c6-1740-4ca5-a06a-842f58d4e741",
   "metadata": {},
   "source": [
    "**Infinite loop**\n",
    "\n",
    "- whenever infinite loop occures\n",
    "\n",
    "- apply the condition an stop by \"break\""
   ]
  },
  {
   "cell_type": "code",
   "execution_count": 10,
   "id": "8d76a4fe-485d-443e-8886-a03843295cd2",
   "metadata": {},
   "outputs": [
    {
     "name": "stdout",
     "output_type": "stream",
     "text": [
      "1 2 3 4 5 6 7 8 9 10 "
     ]
    }
   ],
   "source": [
    "i=1\n",
    "while i!=0:\n",
    "    print(i,end=' ')\n",
    "    i=i+1\n",
    "    if i==11:\n",
    "        break"
   ]
  },
  {
   "cell_type": "code",
   "execution_count": null,
   "id": "8d40dfab-911b-4b4f-970d-3d6dfe288b61",
   "metadata": {},
   "outputs": [],
   "source": [
    "**True**\n",
    "\n",
    "- when we want to use infinite loop"
   ]
  },
  {
   "cell_type": "code",
   "execution_count": 11,
   "id": "e179611a-0547-40be-8b3f-9935d39e26ec",
   "metadata": {},
   "outputs": [
    {
     "name": "stdout",
     "output_type": "stream",
     "text": [
      "1 2 3 4 5 6 7 8 9 10 "
     ]
    }
   ],
   "source": [
    "i=1\n",
    "while True :\n",
    "    print(i,end=' ')\n",
    "    i=i+1\n",
    "    if i==11:\n",
    "        break"
   ]
  },
  {
   "cell_type": "code",
   "execution_count": null,
   "id": "b039ede6-2b13-427b-9713-b94c49961bd3",
   "metadata": {},
   "outputs": [],
   "source": [
    "# wap to print -10 to -1\n",
    "# using for loop and while loop\n",
    "\n",
    "for i in range(-10,-1):\n",
    "    print(i,end=' ')\n",
    "\n",
    "# wap to print -1 to -10\n",
    "# using for loop and while loop\n",
    "\n",
    "# wap to print 10 to 1\n",
    "# using for loop and while loop"
   ]
  },
  {
   "cell_type": "code",
   "execution_count": 16,
   "id": "d5f2e001-e441-44c6-80ad-fe353cd45d4a",
   "metadata": {},
   "outputs": [
    {
     "name": "stdout",
     "output_type": "stream",
     "text": [
      "-10 -9 -8 -7 -6 -5 -4 -3 -2 -1 "
     ]
    }
   ],
   "source": [
    "i=-10\n",
    "while i<0:\n",
    "    print(i,end=' ')\n",
    "    i=i+1"
   ]
  },
  {
   "cell_type": "code",
   "execution_count": 21,
   "id": "411fe9a4-29c9-4578-b4a1-ccf8b50950a2",
   "metadata": {},
   "outputs": [
    {
     "name": "stdout",
     "output_type": "stream",
     "text": [
      "-1 -2 -3 -4 -5 -6 -7 -8 -9 -10 "
     ]
    }
   ],
   "source": [
    "#for i in range (-1,-10,-1):\n",
    " #   print(i,end=' ')\n",
    "i=-1\n",
    "while i>=-10:\n",
    "    print(i,end=' ')\n",
    "    i=i-1"
   ]
  },
  {
   "cell_type": "code",
   "execution_count": 30,
   "id": "70997332-9847-49e8-8cea-a6a71978f250",
   "metadata": {},
   "outputs": [
    {
     "name": "stdout",
     "output_type": "stream",
     "text": [
      "1 2 3 4 5 6 7 8 9 10 "
     ]
    }
   ],
   "source": [
    "i=1\n",
    "while i<=10:\n",
    "    print(i,end=' ')\n",
    "    i=i+1"
   ]
  },
  {
   "cell_type": "code",
   "execution_count": 27,
   "id": "732cae27-7f81-44e4-b1ec-d811583b67fb",
   "metadata": {},
   "outputs": [
    {
     "name": "stdout",
     "output_type": "stream",
     "text": [
      "11 is an odd number\n",
      "12 is an even number\n",
      "13 is an odd number\n",
      "14 is an even number\n",
      "15 is an odd number\n",
      "16 is an even number\n",
      "17 is an odd number\n",
      "18 is an even number\n",
      "19 is an odd number\n",
      "20 is an even number\n",
      "21 is an odd number\n",
      "22 is an even number\n"
     ]
    }
   ],
   "source": [
    "i=11\n",
    "while i<=22:\n",
    "    if i%2==0:\n",
    "        print(f'{i} is an even number')\n",
    "    else:\n",
    "        print(f'{i} is an odd number')\n",
    "    i=i+1"
   ]
  },
  {
   "cell_type": "code",
   "execution_count": null,
   "id": "9208b788-3da0-4137-b79a-d8b2f350500e",
   "metadata": {},
   "outputs": [],
   "source": []
  },
  {
   "cell_type": "code",
   "execution_count": null,
   "id": "3b80d676-182b-4f24-9cea-e7e360d3e6e6",
   "metadata": {},
   "outputs": [],
   "source": []
  }
 ],
 "metadata": {
  "kernelspec": {
   "display_name": "Python 3 (ipykernel)",
   "language": "python",
   "name": "python3"
  },
  "language_info": {
   "codemirror_mode": {
    "name": "ipython",
    "version": 3
   },
   "file_extension": ".py",
   "mimetype": "text/x-python",
   "name": "python",
   "nbconvert_exporter": "python",
   "pygments_lexer": "ipython3",
   "version": "3.11.7"
  }
 },
 "nbformat": 4,
 "nbformat_minor": 5
}
