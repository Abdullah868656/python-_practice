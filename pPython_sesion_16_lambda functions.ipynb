{
 "cells": [
  {
   "cell_type": "markdown",
   "id": "0815b053-7fda-4672-a927-ec8b61aef2aa",
   "metadata": {},
   "source": [
    "- Lambda funxtion also a fuction\n",
    "\n",
    "- It is a kind of a sinle line function\n",
    "\n",
    "- we alrready seen list comprehension which means single line\n",
    "\n",
    "- Lambda function give a flexibility to stop writing many lines\n",
    "\n",
    "-  on iterative execution it will save the timing"
   ]
  },
  {
   "cell_type": "code",
   "execution_count": 1,
   "id": "5af9bb2e-9eb6-4716-bbb9-8321127cdd9e",
   "metadata": {},
   "outputs": [
    {
     "data": {
      "text/plain": [
       "30"
      ]
     },
     "execution_count": 1,
     "metadata": {},
     "output_type": "execute_result"
    }
   ],
   "source": [
    "def summ(num):\n",
    "    return(num+10)\n",
    "summ(20)"
   ]
  },
  {
   "cell_type": "markdown",
   "id": "8828c33a-988f-4ad6-9171-01f0f2bf1624",
   "metadata": {},
   "source": [
    "$pattern-1$"
   ]
  },
  {
   "cell_type": "markdown",
   "id": "7fb16b47-1967-4c72-9fb3-4feedf447f3d",
   "metadata": {},
   "source": [
    "- function name\n",
    "\n",
    "- variable name\n",
    "\n",
    "- return output\n",
    "\n",
    " "
   ]
  },
  {
   "cell_type": "code",
   "execution_count": 3,
   "id": "32101405-c06a-45cf-832a-6c6c79dc792e",
   "metadata": {},
   "outputs": [],
   "source": [
    "#<function_name>=lambda <variable_name>:<return_output>"
   ]
  },
  {
   "cell_type": "code",
   "execution_count": 4,
   "id": "a45fe25b-a4ec-4408-838f-6d8d1024fe14",
   "metadata": {},
   "outputs": [
    {
     "data": {
      "text/plain": [
       "40"
      ]
     },
     "execution_count": 4,
     "metadata": {},
     "output_type": "execute_result"
    }
   ],
   "source": [
    "summ=lambda num:num+10\n",
    "summ(30)"
   ]
  },
  {
   "cell_type": "code",
   "execution_count": 7,
   "id": "50ba3e1e-bb41-41a8-a8d1-ffbab0f9c0c4",
   "metadata": {},
   "outputs": [
    {
     "data": {
      "text/plain": [
       "1000"
      ]
     },
     "execution_count": 7,
     "metadata": {},
     "output_type": "execute_result"
    }
   ],
   "source": [
    "cube=lambda x : x*x*x\n",
    "cube(10)"
   ]
  },
  {
   "cell_type": "markdown",
   "id": "41ffac81-6d6e-4217-9835-d99a9a7364fd",
   "metadata": {},
   "source": [
    "$pattern-2$"
   ]
  },
  {
   "cell_type": "code",
   "execution_count": 8,
   "id": "940ced3e-c801-4b10-8157-f433dd8ae41a",
   "metadata": {},
   "outputs": [
    {
     "data": {
      "text/plain": [
       "30"
      ]
     },
     "execution_count": 8,
     "metadata": {},
     "output_type": "execute_result"
    }
   ],
   "source": [
    "def add(n1,n2):\n",
    "    return(n1+n2)\n",
    "add(10,20)    "
   ]
  },
  {
   "cell_type": "code",
   "execution_count": 9,
   "id": "4f4bff9e-c8c1-46aa-87e4-f5a68b817610",
   "metadata": {},
   "outputs": [],
   "source": [
    "#<function_name>=lambda <arg1>,<arg2>: <output>"
   ]
  },
  {
   "cell_type": "code",
   "execution_count": 10,
   "id": "bb2b094d-5c0f-4b68-81e6-a068a9b33064",
   "metadata": {},
   "outputs": [
    {
     "data": {
      "text/plain": [
       "30"
      ]
     },
     "execution_count": 10,
     "metadata": {},
     "output_type": "execute_result"
    }
   ],
   "source": [
    "add=lambda n1,n2:n1+n2\n",
    "add(10,20)"
   ]
  },
  {
   "cell_type": "code",
   "execution_count": 11,
   "id": "fd732035-f114-4854-bdbe-2d6218fb24b6",
   "metadata": {},
   "outputs": [
    {
     "data": {
      "text/plain": [
       "110.0"
      ]
     },
     "execution_count": 11,
     "metadata": {},
     "output_type": "execute_result"
    }
   ],
   "source": [
    "avg=lambda n1,n2,n3 :round((n1+n2+n3)/3,2)\n",
    "avg(10,20,300)"
   ]
  },
  {
   "cell_type": "markdown",
   "id": "7fcdc087-6bb1-423c-8a5c-c4b1cfb0e4c2",
   "metadata": {},
   "source": [
    "$pattern-3$"
   ]
  },
  {
   "cell_type": "markdown",
   "id": "c143f4d6-98e6-4e68-ad1e-391842d761df",
   "metadata": {},
   "source": [
    "**Default arguments**"
   ]
  },
  {
   "cell_type": "code",
   "execution_count": 14,
   "id": "8d650b50-c574-4b6f-bd5d-2bffa75cfc09",
   "metadata": {},
   "outputs": [
    {
     "ename": "SyntaxError",
     "evalue": "expected ':' (3348091747.py, line 1)",
     "output_type": "error",
     "traceback": [
      "\u001b[1;36m  Cell \u001b[1;32mIn[14], line 1\u001b[1;36m\u001b[0m\n\u001b[1;33m    def avg(n1,n2,n3=100)\u001b[0m\n\u001b[1;37m                         ^\u001b[0m\n\u001b[1;31mSyntaxError\u001b[0m\u001b[1;31m:\u001b[0m expected ':'\n"
     ]
    }
   ],
   "source": [
    "def avg(n1,n2,n3=100)"
   ]
  },
  {
   "cell_type": "code",
   "execution_count": 15,
   "id": "32eeec59-ec9a-4ae9-85b1-1958d8ee065f",
   "metadata": {},
   "outputs": [
    {
     "data": {
      "text/plain": [
       "43.33"
      ]
     },
     "execution_count": 15,
     "metadata": {},
     "output_type": "execute_result"
    }
   ],
   "source": [
    "avg=lambda n1,n2,n3=100 : round((n1+n2+n3)/3,2)\n",
    "avg(10,20)"
   ]
  },
  {
   "cell_type": "markdown",
   "id": "dd338f33-e8de-4907-b7af-617d9aff7986",
   "metadata": {},
   "source": [
    "$pattern-4$\n",
    "\n",
    "**if**"
   ]
  },
  {
   "cell_type": "code",
   "execution_count": 17,
   "id": "34feffdb-a025-443c-86e9-fdce94ff95a2",
   "metadata": {},
   "outputs": [
    {
     "data": {
      "text/plain": [
       "'hello'"
      ]
     },
     "execution_count": 17,
     "metadata": {},
     "output_type": "execute_result"
    }
   ],
   "source": [
    "def greet(n1):\n",
    "    if n1>10:\n",
    "        return('hello')\n",
    "greet(20)        "
   ]
  },
  {
   "cell_type": "code",
   "execution_count": null,
   "id": "6e767230-8552-413a-b726-03cdd53405b9",
   "metadata": {},
   "outputs": [],
   "source": [
    "avg=lambda n1,n2,n3=100 : round()\n",
    "    if n1>10:\n",
    "        return(\"hello\")\n",
    "greet"
   ]
  },
  {
   "cell_type": "code",
   "execution_count": 18,
   "id": "8674b636-5617-4161-a111-d64acb9ac2d5",
   "metadata": {},
   "outputs": [],
   "source": [
    "#In the list comprehension\n",
    "#[<if_out> <for_loop><if_ condition>]\n",
    "# no for loop\n",
    "#<fun_name>=lambda <avg1>:<if_out> <if_coundition> <else><else>"
   ]
  },
  {
   "cell_type": "code",
   "execution_count": 19,
   "id": "3ff81ca7-29a1-4922-b258-100b64fb7dc1",
   "metadata": {},
   "outputs": [],
   "source": [
    "greet=lambda n1 : 'hello' if n1>10 else 'bye'"
   ]
  },
  {
   "cell_type": "code",
   "execution_count": 20,
   "id": "846bd236-09c6-4c94-9321-0cedbedb0d45",
   "metadata": {},
   "outputs": [
    {
     "data": {
      "text/plain": [
       "'bye'"
      ]
     },
     "execution_count": 20,
     "metadata": {},
     "output_type": "execute_result"
    }
   ],
   "source": [
    "greet(10)"
   ]
  },
  {
   "cell_type": "code",
   "execution_count": 22,
   "id": "1eadcc92-80ae-4c5e-94fb-b53b73e7d4ab",
   "metadata": {},
   "outputs": [
    {
     "data": {
      "text/plain": [
       "20"
      ]
     },
     "execution_count": 22,
     "metadata": {},
     "output_type": "execute_result"
    }
   ],
   "source": [
    "# WAP lamda function to identify the greatest number between 2 numbers\n",
    "maxx=lambda n1,n2:f\"{n2} is greater\"if n2>n1 else f\"{n1} is greater\"\n",
    "max(10,20)"
   ]
  },
  {
   "cell_type": "code",
   "execution_count": 21,
   "id": "611f1fac-4990-4648-bd6b-df290c7c94ca",
   "metadata": {},
   "outputs": [
    {
     "name": "stdout",
     "output_type": "stream",
     "text": [
      "20\n",
      "50\n",
      "40\n"
     ]
    }
   ],
   "source": [
    "# WAP lamda function to identify the greatest number between 2 numbers\n",
    "\n",
    "greatest = lambda n1, n2: max(n1, n2)\n",
    "\n",
    "# Test the lambda function\n",
    "print(greatest(10, 20))  # This should print 20\n",
    "print(greatest(50, 30))  # This should print 50\n",
    "print(greatest(40, 40))  # This should print 4"
   ]
  },
  {
   "cell_type": "markdown",
   "id": "ccda8d76-0240-488c-9ed6-35690c6f21dd",
   "metadata": {},
   "source": [
    "$pattern-5$"
   ]
  },
  {
   "cell_type": "markdown",
   "id": "d831671a-4410-46e0-a534-80083b02cfe8",
   "metadata": {},
   "source": [
    "**Using list**"
   ]
  },
  {
   "cell_type": "code",
   "execution_count": null,
   "id": "66a9f194-1cba-4ca7-a0ab-899d7a30f075",
   "metadata": {},
   "outputs": [],
   "source": [
    "list1=['hyd','blr','chennai']\n",
    "#op =list2['Hyd','Blr','Chennai']\n",
    "\n",
    "'hi how are you '======> hi"
   ]
  },
  {
   "cell_type": "code",
   "execution_count": 25,
   "id": "31d0c8ab-40c0-49b0-b48f-82a3e40f5595",
   "metadata": {},
   "outputs": [
    {
     "ename": "SyntaxError",
     "evalue": "invalid syntax (2495306594.py, line 4)",
     "output_type": "error",
     "traceback": [
      "\u001b[1;36m  Cell \u001b[1;32mIn[25], line 4\u001b[1;36m\u001b[0m\n\u001b[1;33m    'hi how are you' ==== > 'Hi How Are You'\u001b[0m\n\u001b[1;37m                       ^\u001b[0m\n\u001b[1;31mSyntaxError\u001b[0m\u001b[1;31m:\u001b[0m invalid syntax\n"
     ]
    }
   ],
   "source": [
    "list1=['hyd','blr','chennai']\n",
    "# op=list2=['Hyd','Blr','Chennai']\n",
    "\n",
    "'hi how are you' ==== > 'Hi How Are You' # title\n",
    "                ===== > 'Hi how are you'  # Cap\n",
    "                ====== > 'HI HOW ARE YOU'\n",
    "                ====== > 'hi how are you'\n",
    "                ====== > 'hi how are you*'"
   ]
  },
  {
   "cell_type": "code",
   "execution_count": 27,
   "id": "231630fc-9deb-4f6b-850a-6a47c20ea5e2",
   "metadata": {},
   "outputs": [
    {
     "data": {
      "text/plain": [
       "['Hyd', 'Blr', 'Chennai']"
      ]
     },
     "execution_count": 27,
     "metadata": {},
     "output_type": "execute_result"
    }
   ],
   "source": [
    "list1=['hyd','blr','chennai']\n",
    "# op=list2=['Hyd','Blr','Chennai'\n",
    "list2=[]\n",
    "for i in list1:\n",
    "    list2.append(i.capitalize())\n",
    "\n",
    "list2"
   ]
  },
  {
   "cell_type": "code",
   "execution_count": null,
   "id": "ed833b46-2203-41a6-b847-6b898c3970bd",
   "metadata": {},
   "outputs": [],
   "source": [
    "- what is the variable name ====>i\n",
    "\n",
    "- what is the return output ====>i.captitalize()\n",
    "\n",
    "- from where it is coming ====>list1\n",
    "\n",
    "lambda<variable name> : <output>,<iterable>\n",
    "\n",
    "strings are iterables\n",
    "\n",
    "list are iterables\n",
    "we can iterate using for loop"
   ]
  },
  {
   "cell_type": "code",
   "execution_count": 29,
   "id": "da143edb-a35a-4126-9fb0-7e672aa5a128",
   "metadata": {},
   "outputs": [
    {
     "data": {
      "text/plain": [
       "(<function __main__.<lambda>(i)>, ['hyd', 'blr', 'chennai'])"
      ]
     },
     "execution_count": 29,
     "metadata": {},
     "output_type": "execute_result"
    }
   ],
   "source": [
    "lambda i : i.capitalize(),list1"
   ]
  },
  {
   "cell_type": "code",
   "execution_count": 31,
   "id": "94c6a0ff-0f81-41d1-8924-f6f1298633d1",
   "metadata": {},
   "outputs": [
    {
     "data": {
      "text/plain": [
       "['Hyd', 'Blr', 'Chennai']"
      ]
     },
     "execution_count": 31,
     "metadata": {},
     "output_type": "execute_result"
    }
   ],
   "source": [
    "list(map(lambda i : i.capitalize(),list1))"
   ]
  },
  {
   "cell_type": "code",
   "execution_count": null,
   "id": "58152116-38de-43ae-8bdb-ed455dd69c73",
   "metadata": {},
   "outputs": [],
   "source": [
    "#step-1 : create a normal lambda function\n",
    "#     lambda <arg> : <output>,<list>\n",
    "#step-3:map the both function and list\n",
    "#     map(lambda <arg>: <output>,<list>)\n",
    "#step-4 save the result in a list or tuple\n",
    "#      list (map(lambad <arg>: <output>,<list>))"
   ]
  },
  {
   "cell_type": "code",
   "execution_count": 32,
   "id": "362f5220-3b4f-426f-abbb-3f71eda13f76",
   "metadata": {},
   "outputs": [
    {
     "data": {
      "text/plain": [
       "['Hyd', 'Blr', 'Chennai']"
      ]
     },
     "execution_count": 32,
     "metadata": {},
     "output_type": "execute_result"
    }
   ],
   "source": [
    "\n",
    "list(map(lambda i : i.capitalize(),list1))"
   ]
  },
  {
   "cell_type": "code",
   "execution_count": 33,
   "id": "8f112e19-8def-4588-91e1-9e7cf6cfcae0",
   "metadata": {},
   "outputs": [
    {
     "data": {
      "text/plain": [
       "['HYD', 'BLR', 'CHENNAI']"
      ]
     },
     "execution_count": 33,
     "metadata": {},
     "output_type": "execute_result"
    }
   ],
   "source": [
    "list(map(lambda i : i.upper(),list1))"
   ]
  },
  {
   "cell_type": "code",
   "execution_count": 34,
   "id": "9b2b1071-6919-40ed-b856-600e96fcada7",
   "metadata": {},
   "outputs": [
    {
     "data": {
      "text/plain": [
       "['hyd', 'blr', 'chennai']"
      ]
     },
     "execution_count": 34,
     "metadata": {},
     "output_type": "execute_result"
    }
   ],
   "source": [
    "list(map(lambda i : i.lower(),list1))"
   ]
  },
  {
   "cell_type": "code",
   "execution_count": 36,
   "id": "9058a8ad-1c26-45f3-ba8d-5b232d9281ef",
   "metadata": {},
   "outputs": [
    {
     "data": {
      "text/plain": [
       "['***hyd****', '***blr****', '*chennai**']"
      ]
     },
     "execution_count": 36,
     "metadata": {},
     "output_type": "execute_result"
    }
   ],
   "source": [
    "list(map(lambda i : i.center(10,'*'),list1))"
   ]
  },
  {
   "cell_type": "code",
   "execution_count": 38,
   "id": "620b1bdd-57ec-462e-9a8b-f30ec96b5d3e",
   "metadata": {},
   "outputs": [
    {
     "data": {
      "text/plain": [
       "['Hyd', 'Blr', 'Chennai', 'che#nnai', 'mumb#ai']"
      ]
     },
     "execution_count": 38,
     "metadata": {},
     "output_type": "execute_result"
    }
   ],
   "source": [
    "list1=['hyd','blr','che#nnai','mumb#ai']\n",
    "# list2=['chennai','mumb#ai']\n",
    "for   i in list1:\n",
    "    if '#' in i:\n",
    "        list2.append(i)\n",
    "list2"
   ]
  },
  {
   "cell_type": "code",
   "execution_count": 41,
   "id": "de5cbb50-948f-4142-85ed-c82dc31a436c",
   "metadata": {},
   "outputs": [
    {
     "data": {
      "text/plain": [
       "[False, False, True, True]"
      ]
     },
     "execution_count": 41,
     "metadata": {},
     "output_type": "execute_result"
    }
   ],
   "source": [
    "lambda i : '#' in i,list1\n",
    "list(map(lambda i: '#' in i,list1))"
   ]
  },
  {
   "cell_type": "markdown",
   "id": "95ea1ce4-445f-4b66-9334-fa4f0f5c697f",
   "metadata": {},
   "source": [
    "**filter method**"
   ]
  },
  {
   "cell_type": "code",
   "execution_count": 42,
   "id": "c1eb7b41-0d56-4dff-a43a-4e123f82bded",
   "metadata": {},
   "outputs": [
    {
     "data": {
      "text/plain": [
       "['che#nnai', 'mumb#ai']"
      ]
     },
     "execution_count": 42,
     "metadata": {},
     "output_type": "execute_result"
    }
   ],
   "source": [
    "list(filter(lambda i: '#' in i,list1))"
   ]
  },
  {
   "cell_type": "code",
   "execution_count": 46,
   "id": "506a7bce-03e5-4abf-a10e-ea5783379480",
   "metadata": {},
   "outputs": [
    {
     "data": {
      "text/plain": [
       "[]"
      ]
     },
     "execution_count": 46,
     "metadata": {},
     "output_type": "execute_result"
    }
   ],
   "source": [
    "list1= ['hyd','blr','chennai','mumbai']\n",
    "#list2=['hyd','blr'] # len(i<=3)\n",
    "\n",
    "list(filter(lambda i: len(i)<3,list1))"
   ]
  },
  {
   "cell_type": "code",
   "execution_count": null,
   "id": "26309b3e-cd01-4895-a30a-08f396671753",
   "metadata": {},
   "outputs": [],
   "source": []
  }
 ],
 "metadata": {
  "kernelspec": {
   "display_name": "Python 3 (ipykernel)",
   "language": "python",
   "name": "python3"
  },
  "language_info": {
   "codemirror_mode": {
    "name": "ipython",
    "version": 3
   },
   "file_extension": ".py",
   "mimetype": "text/x-python",
   "name": "python",
   "nbconvert_exporter": "python",
   "pygments_lexer": "ipython3",
   "version": "3.11.7"
  }
 },
 "nbformat": 4,
 "nbformat_minor": 5
}
