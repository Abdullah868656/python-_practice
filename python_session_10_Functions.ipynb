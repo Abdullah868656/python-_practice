{
 "cells": [
  {
   "cell_type": "markdown",
   "id": "8098f33b-cfc6-49e9-a864-c7fb0fa993bf",
   "metadata": {},
   "source": [
    "**Functions**\n",
    "- Reuse of the code\n",
    "\n",
    "- mImagine you want to calculate tax of all tax payers\n",
    "\n",
    "- suppose there are 100 tax payers are there\n",
    "\n",
    "- In order to calculate tax we required 5line of code \n",
    "\n",
    "- For 100tax payers it will required 500 line \n",
    "\n",
    "- this is not the good appraoch \n",
    "\n",
    "- because 5lines we are repaeting for 100 members\n",
    "\n",
    "- here function will help us how to use these 5 line to all 100 tax payers"
   ]
  },
  {
   "cell_type": "code",
   "execution_count": null,
   "id": "72273dd0-d939-48b1-9477-7cbd67d13d32",
   "metadata": {},
   "outputs": [],
   "source": [
    "salary=eval(input('enter the salary:'))\n",
    "tax_per=eval(inpu('enter  the '))\n"
   ]
  },
  {
   "cell_type": "code",
   "execution_count": null,
   "id": "fbf9d42a-2b55-4b1d-8c69-f51fff7adf77",
   "metadata": {},
   "outputs": [],
   "source": [
    "#syntax\n",
    "\n",
    "#def <function_name>():\n",
    "#    <code stats here>\n"
   ]
  },
  {
   "cell_type": "code",
   "execution_count": 2,
   "id": "c4b07ee0-f9ce-4a51-b75c-2ca0b9604665",
   "metadata": {},
   "outputs": [
    {
     "name": "stdout",
     "output_type": "stream",
     "text": [
      "30\n"
     ]
    }
   ],
   "source": [
    "n1=10\n",
    "n2=20\n",
    "add=n1+n2\n",
    "print(add)"
   ]
  },
  {
   "cell_type": "code",
   "execution_count": 5,
   "id": "d62b42e9-2ca7-4c26-b33d-ee25091d3856",
   "metadata": {},
   "outputs": [],
   "source": [
    "def addition():\n",
    "    n1=10\n",
    "    n2=20\n",
    "    add=n1+n2\n",
    "    print(add)\n",
    "        "
   ]
  },
  {
   "cell_type": "code",
   "execution_count": 7,
   "id": "eacec6a8-3b8e-4014-8797-6e17cb2de536",
   "metadata": {},
   "outputs": [
    {
     "name": "stdout",
     "output_type": "stream",
     "text": [
      "30\n"
     ]
    }
   ],
   "source": [
    "addition()"
   ]
  },
  {
   "cell_type": "markdown",
   "id": "c58dea2c-3b5e-48fa-a76d-fb05b02ce2ff",
   "metadata": {},
   "source": [
    "- firdt mistake you will forget the brackets while define function\n",
    "\n",
    "- second mistake you will forget colon\n",
    "\n",
    "- third mistake you will not give indetation\n",
    "\n",
    "- fourth mistake,we will coyp the code you will forget to make the alligment\n",
    "\n",
    "- fifth mistake: variable name and function name must be different\n",
    "\n",
    "- sixt mistake :while calling the function you will forget the brackets\n",
    "\n",
    "  ****Functionalso called a method****\n",
    "  \n",
    "# whenever funtion is there brackets must"
   ]
  },
  {
   "cell_type": "code",
   "execution_count": 10,
   "id": "3235baaa-ee07-437d-bf1a-1614eaabf746",
   "metadata": {},
   "outputs": [
    {
     "ename": "IndentationError",
     "evalue": "unindent does not match any outer indentation level (<tokenize>, line 4)",
     "output_type": "error",
     "traceback": [
      "\u001b[1;36m  File \u001b[1;32m<tokenize>:4\u001b[1;36m\u001b[0m\n\u001b[1;33m    add=n1+n2\u001b[0m\n\u001b[1;37m    ^\u001b[0m\n\u001b[1;31mIndentationError\u001b[0m\u001b[1;31m:\u001b[0m unindent does not match any outer indentation level\n"
     ]
    }
   ],
   "source": [
    "def add1:\n",
    "         n1=10\n",
    "         n2=20\n",
    "    add=n1+n2"
   ]
  },
  {
   "cell_type": "code",
   "execution_count": 12,
   "id": "7bdb1722-d1f4-44eb-9118-f067f2cb8f8e",
   "metadata": {},
   "outputs": [],
   "source": [
    "def add1():\n",
    "    n1=eval(input('enter the number1:'))\n",
    "    n2=eval(input('enter the number2:'))\n",
    "    add=n1+n2\n",
    "    print(add)"
   ]
  },
  {
   "cell_type": "code",
   "execution_count": 14,
   "id": "552a0853-e688-4ba8-a0b5-1d5911f82ffd",
   "metadata": {},
   "outputs": [
    {
     "ename": "IndentationError",
     "evalue": "unexpected indent (2936008492.py, line 2)",
     "output_type": "error",
     "traceback": [
      "\u001b[1;36m  Cell \u001b[1;32mIn[14], line 2\u001b[1;36m\u001b[0m\n\u001b[1;33m    n2 = eval(input(\"Enter the num2: \"))\u001b[0m\n\u001b[1;37m    ^\u001b[0m\n\u001b[1;31mIndentationError\u001b[0m\u001b[1;31m:\u001b[0m unexpected indent\n"
     ]
    }
   ],
   "source": [
    "n1 = eval(input(\"Enter the num1: \"))\n",
    "    n2 = eval(input(\"Enter the num2: \"))\n",
    "    n3 = eval(input(\"Enter the num3: \"))\n",
    "    \n",
    "    # Calculate the average\n",
    "    avg = (n1 + n2 + n3) / 3\n",
    "\n"
   ]
  },
  {
   "cell_type": "code",
   "execution_count": 13,
   "id": "b1c13432-f632-4ece-8d52-78a8ffa98cf2",
   "metadata": {},
   "outputs": [
    {
     "name": "stdin",
     "output_type": "stream",
     "text": [
      "enter the number1: \n"
     ]
    },
    {
     "ename": "SyntaxError",
     "evalue": "invalid syntax (<string>, line 0)",
     "output_type": "error",
     "traceback": [
      "Traceback \u001b[1;36m(most recent call last)\u001b[0m:\n",
      "\u001b[0m  File \u001b[0;32m~\\anaconda3\\Lib\\site-packages\\IPython\\core\\interactiveshell.py:3553\u001b[0m in \u001b[0;35mrun_code\u001b[0m\n    exec(code_obj, self.user_global_ns, self.user_ns)\u001b[0m\n",
      "\u001b[0m  Cell \u001b[0;32mIn[13], line 1\u001b[0m\n    add1()\u001b[0m\n",
      "\u001b[1;36m  Cell \u001b[1;32mIn[12], line 2\u001b[1;36m in \u001b[1;35madd1\u001b[1;36m\n\u001b[1;33m    n1=eval(input('enter the number1:'))\u001b[1;36m\n",
      "\u001b[1;36m  File \u001b[1;32m<string>\u001b[1;36m\u001b[0m\n\u001b[1;33m    \u001b[0m\n\u001b[1;37m    ^\u001b[0m\n\u001b[1;31mSyntaxError\u001b[0m\u001b[1;31m:\u001b[0m invalid syntax\n"
     ]
    }
   ],
   "source": [
    "add1()"
   ]
  },
  {
   "cell_type": "markdown",
   "id": "3bf6d90a-ba06-46d5-83a3-c32150af8d71",
   "metadata": {},
   "source": [
    "** Note **\n",
    "- when we define sunction will not give the error\n",
    "\n",
    "- w=erros will display afer calling the function only"
   ]
  },
  {
   "cell_type": "markdown",
   "id": "3aa8c8c1-f322-43b6-820d-99b9c7fbdd2a",
   "metadata": {},
   "source": [
    "## Method-1\n",
    "\n",
    "**funtion with out argument**\n",
    "\n",
    "- when we define fnction we will provide breackerts\n",
    "\n",
    "- inside these breackets we can provide the value  also\n",
    "\n",
    "- these values are called as argument or parameters\n",
    "\n",
    "- if we dont provide"
   ]
  },
  {
   "cell_type": "markdown",
   "id": "1f8e8d1d-ddfd-41f3-9218-7bdc47510c37",
   "metadata": {},
   "source": [
    "# Q1 create a function read there number find the average\n",
    "# Q2 create a function ask tha user enter the bill aomout\n",
    "     # enter the tip per\n",
    "     #  calculate total bill pay\n",
    "# Q3 create a function asl the user enter  enter radiou\n",
    "    #cslculate the area of the circle\n",
    "# Q4 create a function ask the user enter breadth and height \n",
    "  # claculate arean of the trainglr\n",
    "# Q5 create a function ask the user enter a number find it is even aur odd\n",
    "# Q6 create a funtionn ask the user enter numbe find it ispostive or nagetibe or xero\n",
    "# Q7create a function ask the user enter threes number find the greatest number\n"
   ]
  },
  {
   "cell_type": "code",
   "execution_count": 24,
   "id": "0894d126-5656-4800-97b9-7d7ad70d44c3",
   "metadata": {},
   "outputs": [],
   "source": [
    "def average():\n",
    "    n1=eval(input('enter the value'))\n",
    "    n2=eval(input('enter the value'))\n",
    "    n3=eval(input('enter the value'))\n",
    "    avg=n1+n2+n3/100\n",
    "    print(avg)"
   ]
  },
  {
   "cell_type": "code",
   "execution_count": 25,
   "id": "1075c0b3-6894-4791-9bcf-7faea6adf3d9",
   "metadata": {},
   "outputs": [
    {
     "name": "stdin",
     "output_type": "stream",
     "text": [
      "enter the value 2\n",
      "enter the value 5\n",
      "enter the value 5\n"
     ]
    },
    {
     "name": "stdout",
     "output_type": "stream",
     "text": [
      "7.05\n"
     ]
    }
   ],
   "source": [
    "average()"
   ]
  },
  {
   "cell_type": "code",
   "execution_count": 26,
   "id": "cadc00e4-e420-48cc-acd3-d44071345555",
   "metadata": {},
   "outputs": [
    {
     "name": "stdin",
     "output_type": "stream",
     "text": [
      "Enter the bill amount:  45\n",
      "Enter the tip percentage:  521\n"
     ]
    },
    {
     "name": "stdout",
     "output_type": "stream",
     "text": [
      "Total bill amount with tip: 279.45\n"
     ]
    }
   ],
   "source": [
    "def calculate_total_bill():\n",
    "    # Ask the user to enter the bill amount\n",
    "    bill = float(input(\"Enter the bill amount: \"))\n",
    "    \n",
    "    # Ask the user to enter the tip percentage\n",
    "    tip_percent = float(input(\"Enter the tip percentage: \"))\n",
    "    \n",
    "    # Calculate the tip amount\n",
    "    tip = bill * (tip_percent / 100)\n",
    "    \n",
    "    # Calculate the total bill\n",
    "    total = bill + tip\n",
    "    \n",
    "    # Print the total bill amount\n",
    "    print(\"Total bill amount with tip:\", total)\n",
    "\n",
    "# Call the function to run it\n",
    "calculate_total_bill()"
   ]
  },
  {
   "cell_type": "code",
   "execution_count": 27,
   "id": "a33a48aa-a797-421c-89eb-f9802edfa166",
   "metadata": {},
   "outputs": [
    {
     "name": "stdin",
     "output_type": "stream",
     "text": [
      "Enter the num1:  45\n",
      "Enter the num2:  54\n",
      "Enter the num3:  54\n"
     ]
    },
    {
     "name": "stdout",
     "output_type": "stream",
     "text": [
      "The average of the three numbers is: 51.0\n"
     ]
    }
   ],
   "source": [
    "def addition():\n",
    "    # Read three numbers from the user\n",
    "    n1 = eval(input(\"Enter the num1: \"))\n",
    "    n2 = eval(input(\"Enter the num2: \"))\n",
    "    n3 = eval(input(\"Enter the num3: \"))\n",
    "    \n",
    "    # Calculate the average\n",
    "    avg = (n1 + n2 + n3) / 3\n",
    "    \n",
    "    # Print the average\n",
    "    print(f\"The average of the three numbers is: {avg}\")\n",
    "\n",
    "# Call the function to execute it\n",
    "addition()"
   ]
  },
  {
   "cell_type": "code",
   "execution_count": null,
   "id": "f9f286ab-c5d5-418a-998f-986cfabea4d9",
   "metadata": {},
   "outputs": [],
   "source": [
    "def positive_negative ():\n",
    "    num=eval(input('enter a number:'))\n",
    "    if(num>0):\n",
    "        print(f)"
   ]
  },
  {
   "cell_type": "code",
   "execution_count": null,
   "id": "12f6681e-4a70-48ec-bb58-3a14334d0c83",
   "metadata": {},
   "outputs": [],
   "source": [
    "def greatest():\n",
    "    num1=eval(input('enter the number1:'))\n",
    "    num2=eval(input('enter the number2:'))\n",
    "    num3=eval(input('enter the number3:'))\n",
    "    if num1>num2 and num"
   ]
  },
  {
   "cell_type": "markdown",
   "id": "4c815a57-bd78-4058-922f-1aeb4588c31e",
   "metadata": {},
   "source": [
    "##Method-2\n",
    "\n",
    "**functin with arguments**\n",
    "\n",
    "- how many variable are there in a given function\n",
    "\n",
    "    - input variables :user will provide\n",
    " \n",
    "    - suppose n1 and n2 are tow input variable\n",
    " \n",
    "    - output variable: we are creating a new variable using \n",
    "  \n"
   ]
  },
  {
   "cell_type": "code",
   "execution_count": null,
   "id": "94136df1-9c65-494d-bab5-f1674551b12f",
   "metadata": {},
   "outputs": [],
   "source": [
    "def add2 (n111,n222):\n",
    "    "
   ]
  },
  {
   "cell_type": "code",
   "execution_count": null,
   "id": "c0298893-1663-4bc6-99f3-5a7e89ef7822",
   "metadata": {},
   "outputs": [],
   "source": []
  },
  {
   "cell_type": "code",
   "execution_count": null,
   "id": "ed88c6b3-f0a1-4ed6-a439-b087300fbaed",
   "metadata": {},
   "outputs": [],
   "source": []
  }
 ],
 "metadata": {
  "kernelspec": {
   "display_name": "Python 3 (ipykernel)",
   "language": "python",
   "name": "python3"
  },
  "language_info": {
   "codemirror_mode": {
    "name": "ipython",
    "version": 3
   },
   "file_extension": ".py",
   "mimetype": "text/x-python",
   "name": "python",
   "nbconvert_exporter": "python",
   "pygments_lexer": "ipython3",
   "version": "3.11.7"
  }
 },
 "nbformat": 4,
 "nbformat_minor": 5
}
