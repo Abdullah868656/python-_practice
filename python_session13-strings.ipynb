{
 "cells": [
  {
   "cell_type": "markdown",
   "id": "2b29cb64-2339-4839-aa4d-beeaf342d8a1",
   "metadata": {},
   "source": [
    "**mutable-Immutable**\n",
    "\n",
    "- Value can not change using Index operation called as 'immutable'\n",
    "\n",
    "-  "
   ]
  },
  {
   "cell_type": "code",
   "execution_count": 3,
   "id": "1d6064e9-2b0f-410b-82f5-52e43eacdad4",
   "metadata": {},
   "outputs": [
    {
     "ename": "TypeError",
     "evalue": "'str' object does not support item assignment",
     "output_type": "error",
     "traceback": [
      "\u001b[1;31m---------------------------------------------------------------------------\u001b[0m",
      "\u001b[1;31mTypeError\u001b[0m                                 Traceback (most recent call last)",
      "Cell \u001b[1;32mIn[3], line 3\u001b[0m\n\u001b[0;32m      1\u001b[0m \u001b[38;5;66;03m# I want replace 'P' with 'p'\u001b[39;00m\n\u001b[0;32m      2\u001b[0m str1\u001b[38;5;241m=\u001b[39m\u001b[38;5;124m'\u001b[39m\u001b[38;5;124mpython\u001b[39m\u001b[38;5;124m'\u001b[39m\n\u001b[1;32m----> 3\u001b[0m str1[\u001b[38;5;241m0\u001b[39m]\u001b[38;5;241m=\u001b[39m\u001b[38;5;124m'\u001b[39m\u001b[38;5;124mp\u001b[39m\u001b[38;5;124m'\u001b[39m\n",
      "\u001b[1;31mTypeError\u001b[0m: 'str' object does not support item assignment"
     ]
    }
   ],
   "source": [
    "# I want replace 'P' with 'p'\n",
    "str1='python'\n",
    "str1[0]='p'"
   ]
  },
  {
   "cell_type": "code",
   "execution_count": null,
   "id": "3a1a4c96-500e-4d9c-afe6-bcb5622bd46f",
   "metadata": {},
   "outputs": [],
   "source": [
    "#"
   ]
  },
  {
   "cell_type": "code",
   "execution_count": null,
   "id": "160f772d-dc7e-4c21-b316-cac43342cf33",
   "metadata": {},
   "outputs": [],
   "source": [
    "l=[10,20,30]\n",
    "l[0]=100\n",
    "l"
   ]
  },
  {
   "cell_type": "markdown",
   "id": "614b9472-89e6-4b51-90a9-317f4c45bccc",
   "metadata": {},
   "source": [
    "**slice**\n",
    "\n",
    "- cut into pieces\n",
    "\n",
    "- which means we can extract some part of string \n",
    "\n",
    "- For that we need to understand the start ,stop,step\n",
    "\n",
    "- s[start:stop;step]\n"
   ]
  },
  {
   "cell_type": "code",
   "execution_count": null,
   "id": "d3542129-a4ff-42db-abd7-8eb13d86c109",
   "metadata": {},
   "outputs": [],
   "source": [
    "str='hello python'\n",
    "str[2:10]"
   ]
  },
  {
   "cell_type": "code",
   "execution_count": null,
   "id": "155de488-9ca5-4ff5-ae28-575036247ec8",
   "metadata": {},
   "outputs": [],
   "source": [
    "# -12 -11 -10 -9 -8 -7 -6 -5 -4 -3  -2  -1 \n",
    "#  h   e   l  l   o     p  y  t  h   o   n\n",
    "#  0   1   2  3   4  5  6  7  8  9  10  11 "
   ]
  },
  {
   "cell_type": "code",
   "execution_count": null,
   "id": "bca26056-9da1-43ae-acea-e93a9949abe9",
   "metadata": {},
   "outputs": [],
   "source": [
    "str='hello python'\n",
    "str[2:10:2]"
   ]
  },
  {
   "cell_type": "code",
   "execution_count": null,
   "id": "44ff2c88-865e-422c-bcc7-800ea2c96bd2",
   "metadata": {},
   "outputs": [],
   "source": [
    "str='hello python'\n",
    "str[2:10:-2]\n",
    "#star=2\n",
    "#direction= -negative\n",
    "#last=stop+1=10+1=11\n",
    "# -2 =====11(actual postive)\n",
    "#code says negavetive"
   ]
  },
  {
   "cell_type": "code",
   "execution_count": null,
   "id": "054de0a9-a945-430a-8775-66b70ebc418d",
   "metadata": {},
   "outputs": [],
   "source": [
    "str='hello python'\n",
    "str[7:-12:-2]"
   ]
  },
  {
   "cell_type": "code",
   "execution_count": null,
   "id": "561c467e-f9ed-4f22-abae-b98fc790bdba",
   "metadata": {},
   "outputs": [],
   "source": [
    "str='hello python'\n",
    "str[2:-1:2]"
   ]
  },
  {
   "cell_type": "code",
   "execution_count": null,
   "id": "6a10ff9d-1987-4dde-9912-22510ccd7eb3",
   "metadata": {},
   "outputs": [],
   "source": [
    "str[2:12:2]"
   ]
  },
  {
   "cell_type": "code",
   "execution_count": null,
   "id": "a25d6134-1a84-4cf6-9520-7509bacf9843",
   "metadata": {},
   "outputs": [],
   "source": [
    "str[2:-12:2]"
   ]
  },
  {
   "cell_type": "code",
   "execution_count": null,
   "id": "b627873f-4914-4640-8f0d-8335e06460dd",
   "metadata": {},
   "outputs": [],
   "source": [
    "str[2:12:-2]"
   ]
  },
  {
   "cell_type": "code",
   "execution_count": null,
   "id": "207fe86d-20a1-4657-91f3-8662c8112ee8",
   "metadata": {},
   "outputs": [],
   "source": [
    "str[-2:12:2]"
   ]
  },
  {
   "cell_type": "code",
   "execution_count": null,
   "id": "258cb5d2-2ab0-4873-b46d-83a796511f2f",
   "metadata": {},
   "outputs": [],
   "source": [
    "str[:]"
   ]
  },
  {
   "cell_type": "code",
   "execution_count": null,
   "id": "b16d4ab8-773d-4c6f-9d59-8f85102eff0d",
   "metadata": {},
   "outputs": [],
   "source": [
    "str[::2]"
   ]
  },
  {
   "cell_type": "code",
   "execution_count": null,
   "id": "64265451-0b34-4f6b-a941-c4d4fd3f440f",
   "metadata": {},
   "outputs": [],
   "source": [
    "str[2::-2]"
   ]
  },
  {
   "cell_type": "code",
   "execution_count": null,
   "id": "f7a6c8ec-526d-4366-8050-44e61874f7a2",
   "metadata": {},
   "outputs": [],
   "source": [
    "- type\n",
    "\n",
    "- \n",
    "\n",
    "- rev\n",
    "\n",
    "- sorted\n",
    "\n",
    "- in\n",
    "\n",
    "- for loop iterate\n",
    "\n",
    "- index\n",
    "\n",
    "- mutable immutable\n",
    "\n",
    "- slice "
   ]
  },
  {
   "cell_type": "code",
   "execution_count": null,
   "id": "f3759d5c-f7b4-4111-9e68-e62ae1cdc2cd",
   "metadata": {},
   "outputs": [],
   "source": [
    "str1='hello '\n",
    "str2='python '\n",
    "str1+str2\n",
    "str1+' '+str2"
   ]
  },
  {
   "cell_type": "code",
   "execution_count": null,
   "id": "7c1f179e-f2ff-41a3-a2ee-845eba5df999",
   "metadata": {},
   "outputs": [],
   "source": [
    "str1*str2"
   ]
  },
  {
   "cell_type": "code",
   "execution_count": null,
   "id": "b01a12a3-6504-4e3c-bd96-c661bb09685f",
   "metadata": {},
   "outputs": [],
   "source": [
    "str1*3"
   ]
  },
  {
   "cell_type": "code",
   "execution_count": null,
   "id": "2e1a155d-1ec4-4e21-842a-dfb6b7e9da66",
   "metadata": {},
   "outputs": [],
   "source": [
    "str1-str2"
   ]
  },
  {
   "cell_type": "code",
   "execution_count": null,
   "id": "520ba2c8-5442-464a-86f6-450f8596dc65",
   "metadata": {},
   "outputs": [],
   "source": [
    "str1/str2"
   ]
  },
  {
   "cell_type": "markdown",
   "id": "d24d1d09-2067-41d3-9203-f970062f948a",
   "metadata": {},
   "source": [
    "**String part-2**\n",
    "\n",
    "**String methods**"
   ]
  },
  {
   "cell_type": "markdown",
   "id": "dbe07e9b-8a3a-4dac-b1ef-711f498a6d91",
   "metadata": {},
   "source": [
    "- you need to treat strings is a package\n",
    "\n",
    "- so"
   ]
  },
  {
   "cell_type": "code",
   "execution_count": null,
   "id": "7c1dde8d-67ba-401c-b025-12e00de948ba",
   "metadata": {},
   "outputs": [],
   "source": [
    "s='python'\n",
    "dir(s)"
   ]
  },
  {
   "cell_type": "markdown",
   "id": "a1a9aca0-918b-4531-be2a-afe7ee10cdab",
   "metadata": {},
   "source": [
    "$capitalize$"
   ]
  },
  {
   "cell_type": "code",
   "execution_count": null,
   "id": "0dcb7d92-dc85-4b00-8574-09ae5fbec504",
   "metadata": {},
   "outputs": [],
   "source": [
    "str='python'\n",
    "str.capitalize()"
   ]
  },
  {
   "cell_type": "code",
   "execution_count": null,
   "id": "66ea584f-ae7e-450a-bd46-bccfc282b076",
   "metadata": {},
   "outputs": [],
   "source": [
    "import random\n",
    "random.randint(10,100)"
   ]
  },
  {
   "cell_type": "markdown",
   "id": "90ea510d-9f18-4ece-9a74-aa519c7b4b14",
   "metadata": {},
   "source": [
    "- upper\n",
    "\n",
    "- lower\n",
    "\n",
    "- casefold\n",
    "\n",
    "- center\n"
   ]
  },
  {
   "cell_type": "code",
   "execution_count": null,
   "id": "92f2a8ef-4f28-4212-b3e0-903f898faaf9",
   "metadata": {},
   "outputs": [],
   "source": [
    "str='rahman'\n",
    "str.upper()"
   ]
  },
  {
   "cell_type": "code",
   "execution_count": null,
   "id": "5d15a00c-09f3-4360-b882-0b167a7a907f",
   "metadata": {},
   "outputs": [],
   "source": [
    "str='RAHMAN'\n",
    "str.lower()"
   ]
  },
  {
   "cell_type": "markdown",
   "id": "8a8c487d-d189-475e-8605-bb3d9caf3cf1",
   "metadata": {},
   "source": [
    "$case fold$"
   ]
  },
  {
   "cell_type": "code",
   "execution_count": null,
   "id": "8fac6d45-da96-4046-9c56-4a6449e63a6e",
   "metadata": {},
   "outputs": [],
   "source": [
    "str.casefold()"
   ]
  },
  {
   "cell_type": "markdown",
   "id": "5f4879b6-4644-42e5-bc71-970c21ffccfe",
   "metadata": {},
   "source": [
    "$center$"
   ]
  },
  {
   "cell_type": "code",
   "execution_count": null,
   "id": "d2db5611-6d8f-47e8-842e-9f30acdfae58",
   "metadata": {},
   "outputs": [],
   "source": [
    "str.center(10,'$')\n",
    "#total new string width=10\n",
    "#"
   ]
  },
  {
   "cell_type": "code",
   "execution_count": null,
   "id": "631e7a15-800d-497e-a1fc-8e942136f122",
   "metadata": {},
   "outputs": [],
   "source": [
    "' '.center(11,'$')"
   ]
  },
  {
   "cell_type": "code",
   "execution_count": null,
   "id": "4d801358-e7cf-456c-8508-6664f5c50c5e",
   "metadata": {},
   "outputs": [],
   "source": [
    "'python'.center(8,'$')"
   ]
  },
  {
   "cell_type": "code",
   "execution_count": null,
   "id": "6a98afc4-fa44-4496-b8d2-bbb233109d5d",
   "metadata": {},
   "outputs": [],
   "source": []
  },
  {
   "cell_type": "code",
   "execution_count": null,
   "id": "d5604d18-b3e2-47f5-a4b8-97b7e89c26d2",
   "metadata": {},
   "outputs": [],
   "source": [
    "str1='aabbccddee'\n",
    "str2=''\n",
    "for i in str1:\n",
    "    if i in 'aeiou':\n",
    "        if i not in str2:\n",
    "            str2=str2+i\n",
    "len(str2)"
   ]
  },
  {
   "cell_type": "code",
   "execution_count": null,
   "id": "3c546a49-c746-4d00-8ea1-e4ad5ecae414",
   "metadata": {},
   "outputs": [],
   "source": [
    "str1='aabbccddee'\n",
    "str2=''\n",
    "for i in str1:\n",
    "    if i in 'aeiou' and i not in str2:\n",
    "        str2=str2+i\n",
    "len(str2)\n",
    "#i='a' if 'a in 'aeiou' and 'a' not in ''ctrue str= ''+'a'='a'\n",
    "# i='a' if 'a' in 'aeiou' and 'a' not in 'a'   <>"
   ]
  },
  {
   "cell_type": "code",
   "execution_count": null,
   "id": "4b5d58a8-bc51-4be5-ba7b-adcac0884cc4",
   "metadata": {},
   "outputs": [],
   "source": [
    "'a' is in 'aeiou'"
   ]
  },
  {
   "cell_type": "code",
   "execution_count": null,
   "id": "f75bb5dd-0085-4ac0-84e3-92db670e2fc0",
   "metadata": {},
   "outputs": [],
   "source": [
    "\n",
    "\n",
    "- lower\n",
    "\n",
    "- center\n",
    "\n",
    "- casefold\n",
    "\n",
    "- "
   ]
  },
  {
   "cell_type": "code",
   "execution_count": null,
   "id": "e0718857-87ef-49dd-bb53-847ca77187ef",
   "metadata": {},
   "outputs": [],
   "source": [
    "#Q:12) str='hello  how are you'\n",
    "\n",
    "#op:'Hello How Are You'"
   ]
  },
  {
   "cell_type": "code",
   "execution_count": null,
   "id": "f9395310-ddc4-4e23-ac9d-5f02c1f2697d",
   "metadata": {},
   "outputs": [],
   "source": [
    "\n",
    "str.title('hello how are you')"
   ]
  },
  {
   "cell_type": "code",
   "execution_count": null,
   "id": "58bc8f15-6f67-4cca-a870-c25782a34130",
   "metadata": {},
   "outputs": [],
   "source": [
    "str='hello how are you'\n",
    "str.title()"
   ]
  },
  {
   "cell_type": "code",
   "execution_count": null,
   "id": "989d27c5-1ce7-4c4d-b2ea-2ee3923dd122",
   "metadata": {},
   "outputs": [],
   "source": [
    "A='hello who are you'\n",
    "str.title()"
   ]
  },
  {
   "cell_type": "markdown",
   "id": "7b1e73b3-c0a4-45e8-a7b0-e61763095cda",
   "metadata": {},
   "source": [
    "$Count$"
   ]
  },
  {
   "cell_type": "code",
   "execution_count": null,
   "id": "9bf753bd-9ae8-43ae-b48a-187f2696a5f8",
   "metadata": {},
   "outputs": [],
   "source": [
    "str1='hai how are you'\n",
    "str1.count('a')"
   ]
  },
  {
   "cell_type": "code",
   "execution_count": null,
   "id": "8c805951-a6e1-4370-94a8-fb3278a4d89c",
   "metadata": {},
   "outputs": [],
   "source": [
    "count=0\n",
    "for i in str1"
   ]
  },
  {
   "cell_type": "code",
   "execution_count": null,
   "id": "493b55bd-71cf-4cb8-a8a4-367557f6a37d",
   "metadata": {},
   "outputs": [],
   "source": [
    "# You want count the umber of 'a' after 5th index\n",
    "# You want count the number of 'a' between 5th and 10 th index\n",
    "str1='ola ola ola'\n",
    "str1.count('a',7)"
   ]
  },
  {
   "cell_type": "code",
   "execution_count": null,
   "id": "8fb4ccae-1ee7-4007-a0db-e83cdcdee08c",
   "metadata": {},
   "outputs": [],
   "source": [
    "str1='ola ola ola'\n",
    "str1.count('a',4,7)"
   ]
  },
  {
   "cell_type": "markdown",
   "id": "60016f6f-f8bb-4a98-8188-68794848406b",
   "metadata": {},
   "source": [
    "- Note: there is no erro in count"
   ]
  },
  {
   "cell_type": "code",
   "execution_count": null,
   "id": "06e7eeff-2078-4100-a768-f93c9b7eeb52",
   "metadata": {},
   "outputs": [],
   "source": [
    "#Q13: without using count  find the number of 'ola'\n",
    "str1='ola ola ola'\n",
    "#ans=3"
   ]
  },
  {
   "cell_type": "code",
   "execution_count": null,
   "id": "fce1636f-51e1-4b89-a44a-ffef1629fe35",
   "metadata": {},
   "outputs": [],
   "source": [
    "str1='ola ola ola'\n",
    "for i in str1:\n",
    "    if 1234=='ola':\n",
    "\n",
    "\n",
    "#clue :index\n",
    "# i:i+3"
   ]
  },
  {
   "cell_type": "markdown",
   "id": "cf5e00f6-be49-40f3-998e-e3a526b540b2",
   "metadata": {},
   "source": [
    "$replace$"
   ]
  },
  {
   "cell_type": "code",
   "execution_count": null,
   "id": "264316a7-4362-4985-aaaa-c121251cf5cf",
   "metadata": {},
   "outputs": [],
   "source": [
    "str1='helo'\n",
    "# I want to replace 'l' with 'L'\n",
    "# tHIS WE are not able to do with index operations\n",
    "#That's why ae are calling strings are immutable\n",
    "\n",
    "# but this is possibile using replace\n"
   ]
  },
  {
   "cell_type": "code",
   "execution_count": null,
   "id": "5f099456-f008-4661-ab04-b0f60ebbe0d6",
   "metadata": {},
   "outputs": [],
   "source": [
    "str1.replace('l','L')"
   ]
  },
  {
   "cell_type": "code",
   "execution_count": null,
   "id": "5d85a6c7-ab93-4401-ba6c-18db614c7f14",
   "metadata": {},
   "outputs": [],
   "source": [
    "str1='helllo' \n",
    "str1.replace('z','L')"
   ]
  },
  {
   "cell_type": "markdown",
   "id": "9d06ad43-ba23-4775-946b-b76816a45536",
   "metadata": {},
   "source": [
    "- Read the doc string carefully\n",
    "\n",
    "- In that it will mwntion we get error at particular incident \n",
    "\n",
    "- for count \n",
    "\n",
    "- for replace also we will not get any error \n",
    "\n",
    "- If tere is no substing found, then the ans will be \n"
   ]
  },
  {
   "cell_type": "code",
   "execution_count": null,
   "id": "c350af63-5c61-44ee-a5d6-096a88997422",
   "metadata": {},
   "outputs": [],
   "source": [
    "#Q14) Wap ask the user replace the string \n",
    "# input str: 'restart'\n",
    "\n"
   ]
  },
  {
   "cell_type": "code",
   "execution_count": null,
   "id": "11da7bed-2e8a-47ae-8003-766b6ece407b",
   "metadata": {},
   "outputs": [],
   "source": [
    "str1='restart'\n",
    "str1.replace('r','$')"
   ]
  },
  {
   "cell_type": "code",
   "execution_count": null,
   "id": "30c0b2fa-cb52-4b99-98cc-d6c9fbf277b3",
   "metadata": {},
   "outputs": [],
   "source": [
    "str1[::-1].replace('r','$',1)[::-1]"
   ]
  },
  {
   "cell_type": "code",
   "execution_count": null,
   "id": "423a3c0c-8fbf-45dc-872f-d057c2003e52",
   "metadata": {},
   "outputs": [],
   "source": [
    "str2=str1[::-1] # Reverse\n",
    "str3=str2.replace ('r','$',1) #replace 1st occurenace\n",
    "str4=str3[::-1]# reverse it\n",
    "str4"
   ]
  },
  {
   "cell_type": "markdown",
   "id": "313e80ad-e93b-4007-b4df-9d5934635137",
   "metadata": {},
   "source": [
    "$Index$\n",
    "\n",
    "- index will give the index of letter in a given string\n",
    "\n",
    "- By default it will provide the frist occurence of letter only\n",
    "\n",
    "- i you want next occurence index of same letter you need to give start,stop\n",
    "\n",
    "- Like we given in count method"
   ]
  },
  {
   "cell_type": "code",
   "execution_count": null,
   "id": "d672f056-4df5-4947-a28c-769c4ce5fab8",
   "metadata": {},
   "outputs": [],
   "source": [
    "str1='restart'\n",
    "str1.index('r')"
   ]
  },
  {
   "cell_type": "code",
   "execution_count": null,
   "id": "28606b0d-5ef2-4538-b082-90de7d0b9e20",
   "metadata": {},
   "outputs": [],
   "source": [
    "# i want secound r\n",
    "str1.index('r',1)"
   ]
  },
  {
   "cell_type": "code",
   "execution_count": null,
   "id": "ab05dbf3-9439-4acf-8da2-83afe8cc67f6",
   "metadata": {},
   "outputs": [],
   "source": [
    "str1='hai hai hai hai'\n",
    "\n",
    "i1=str1.index('a')\n",
    "i2=str1.index('a',i1+1)\n",
    "i3=str1.index('a',i2+1)\n",
    "i4=str1.index('a',i3+1)\n",
    "i5=str1.index('a',i4+1)\n",
    "i1,i2,i3,i4,i5"
   ]
  },
  {
   "cell_type": "code",
   "execution_count": null,
   "id": "d27ffc61-7c5f-4011-91eb-1e5c030cf007",
   "metadata": {},
   "outputs": [],
   "source": [
    "i1"
   ]
  },
  {
   "cell_type": "markdown",
   "id": "a1b1cc69-4512-4b05-83e0-661d1255864f",
   "metadata": {},
   "source": [
    "$count-replace-index$"
   ]
  },
  {
   "cell_type": "code",
   "execution_count": null,
   "id": "2c0d84b4-d727-484c-9c80-c173d0e6756b",
   "metadata": {},
   "outputs": [],
   "source": [
    "str1='python'\n",
    "str1.replace(z)"
   ]
  },
  {
   "cell_type": "code",
   "execution_count": null,
   "id": "29e95f34-542c-4afa-93dc-edeff0e09677",
   "metadata": {},
   "outputs": [],
   "source": [
    "str1.index"
   ]
  },
  {
   "cell_type": "markdown",
   "id": "ba59e742-c980-4190-a127-e2af750549cb",
   "metadata": {},
   "source": [
    "$find$"
   ]
  },
  {
   "cell_type": "code",
   "execution_count": null,
   "id": "4579752e-bbe0-411e-9c28-e3cd0e8afb8f",
   "metadata": {},
   "outputs": [],
   "source": [
    "str1='hai hai hai hai'\n",
    "str1.find(a)"
   ]
  },
  {
   "cell_type": "markdown",
   "id": "6e312a88-40a6-47f4-8d16-9b6bd4b22ae7",
   "metadata": {},
   "source": [
    "**If substing not found**\n",
    "\n",
    "- do the shift+tab underdtsnf the docsting\n",
    "\n",
    "- if they mentioned any error or not\n",
    "\n",
    "- for count \n",
    "  \n",
    "- Count will give zero\n",
    "\n",
    "- Replace will give same string\n",
    "\n",
    "- index will give error\n",
    "\n",
    "-"
   ]
  },
  {
   "cell_type": "code",
   "execution_count": 5,
   "id": "5353c6b8-360e-4f22-980d-359dbf829982",
   "metadata": {},
   "outputs": [
    {
     "ename": "SyntaxError",
     "evalue": "'return' outside function (2176859556.py, line 7)",
     "output_type": "error",
     "traceback": [
      "\u001b[1;36m  Cell \u001b[1;32mIn[5], line 7\u001b[1;36m\u001b[0m\n\u001b[1;33m    return(count)\u001b[0m\n\u001b[1;37m    ^\u001b[0m\n\u001b[1;31mSyntaxError\u001b[0m\u001b[1;31m:\u001b[0m 'return' outside function\n"
     ]
    }
   ],
   "source": [
    "count=0\n",
    "str1='ola ola ola'\n",
    "s='ola'\n",
    "for i in range(len(str1)):\n",
    "    if str1[i:i+lens(s)]==s:\n",
    "        count=count=1\n",
    "    return(count)\n",
    "count"
   ]
  },
  {
   "cell_type": "code",
   "execution_count": 8,
   "id": "cab41ab1-32e0-4ce1-a4f4-66e1c43af623",
   "metadata": {},
   "outputs": [],
   "source": [
    "#Q15)\n",
    "name='omkar.nallagoni@cognizant.com'\n",
    "#first name='omkar'\n",
    "#s_name='nallagoni'\n",
    "#c_name='cognizant'\n",
    "\n"
   ]
  },
  {
   "cell_type": "code",
   "execution_count": 10,
   "id": "04fc3dd9-a06b-43e0-a885-13669d419174",
   "metadata": {},
   "outputs": [
    {
     "data": {
      "text/plain": [
       "5"
      ]
     },
     "execution_count": 10,
     "metadata": {},
     "output_type": "execute_result"
    }
   ],
   "source": [
    "name='omkar.nallagoni@cognizant.com'\n",
    "name.find('.')"
   ]
  },
  {
   "cell_type": "code",
   "execution_count": 12,
   "id": "db9a9141-1644-488e-9381-587728473056",
   "metadata": {},
   "outputs": [
    {
     "data": {
      "text/plain": [
       "15"
      ]
     },
     "execution_count": 12,
     "metadata": {},
     "output_type": "execute_result"
    }
   ],
   "source": [
    "name.find('@')"
   ]
  },
  {
   "cell_type": "code",
   "execution_count": 13,
   "id": "289736fc-05c3-4380-b24b-eb4fd03c83ba",
   "metadata": {},
   "outputs": [
    {
     "data": {
      "text/plain": [
       "25"
      ]
     },
     "execution_count": 13,
     "metadata": {},
     "output_type": "execute_result"
    }
   ],
   "source": [
    "name.find('.',15)"
   ]
  },
  {
   "cell_type": "code",
   "execution_count": 16,
   "id": "76c6e60f-ea06-4c06-8d3c-a0b79ed1c867",
   "metadata": {},
   "outputs": [
    {
     "data": {
      "text/plain": [
       "'omkar'"
      ]
     },
     "execution_count": 16,
     "metadata": {},
     "output_type": "execute_result"
    }
   ],
   "source": [
    "name[0:5]"
   ]
  },
  {
   "cell_type": "code",
   "execution_count": 17,
   "id": "ddd407ec-170f-469c-8deb-78848c49b4be",
   "metadata": {},
   "outputs": [
    {
     "data": {
      "text/plain": [
       "'.nallagoni'"
      ]
     },
     "execution_count": 17,
     "metadata": {},
     "output_type": "execute_result"
    }
   ],
   "source": [
    "name[5:15]"
   ]
  },
  {
   "cell_type": "code",
   "execution_count": 18,
   "id": "2d6de33f-55af-48de-bd6f-dc19c9e8dcf4",
   "metadata": {},
   "outputs": [
    {
     "data": {
      "text/plain": [
       "'@cognizant.com'"
      ]
     },
     "execution_count": 18,
     "metadata": {},
     "output_type": "execute_result"
    }
   ],
   "source": [
    "name[15:]"
   ]
  },
  {
   "cell_type": "code",
   "execution_count": 23,
   "id": "a720ebf4-7995-4143-b8c9-6e94759ed184",
   "metadata": {},
   "outputs": [
    {
     "ename": "AttributeError",
     "evalue": "'str' object has no attribute 'extraction'",
     "output_type": "error",
     "traceback": [
      "\u001b[1;31m---------------------------------------------------------------------------\u001b[0m",
      "\u001b[1;31mAttributeError\u001b[0m                            Traceback (most recent call last)",
      "Cell \u001b[1;32mIn[23], line 10\u001b[0m\n\u001b[0;32m      8\u001b[0m     s_name\u001b[38;5;241m=\u001b[39mname[i2\u001b[38;5;241m+\u001b[39m\u001b[38;5;241m1\u001b[39m:\u001b[38;5;241m12\u001b[39m]\n\u001b[0;32m      9\u001b[0m     c_name\u001b[38;5;241m=\u001b[39mname[i3\u001b[38;5;241m+\u001b[39m\u001b[38;5;241m1\u001b[39m:\u001b[38;5;241m15\u001b[39m]\n\u001b[1;32m---> 10\u001b[0m name\u001b[38;5;241m.\u001b[39mextraction()\n",
      "\u001b[1;31mAttributeError\u001b[0m: 'str' object has no attribute 'extraction'"
     ]
    }
   ],
   "source": [
    "name='omkar.nallagoni@cognizant.com'\n",
    "def name_extraction(name):\n",
    "    i1=name.find('.')\n",
    "    i2=name.find('@')\n",
    "    i3=name.find('.',i1+1)\n",
    "\n",
    "    f_name=name[0:i1+1]\n",
    "    s_name=name[i2+1:12]\n",
    "    c_name=name[i3+1:15]\n",
    "name.extraction()"
   ]
  },
  {
   "cell_type": "code",
   "execution_count": 27,
   "id": "d5a358a5-6aa8-419d-92cc-9cec729776d8",
   "metadata": {},
   "outputs": [],
   "source": [
    "name1=' python '\n",
    "name2=' python'\n",
    "name3='python '\n"
   ]
  },
  {
   "cell_type": "code",
   "execution_count": 28,
   "id": "f6e384d5-cf0a-4c03-a502-b84fe86e87bb",
   "metadata": {},
   "outputs": [
    {
     "data": {
      "text/plain": [
       "('python', 'python ', ' python')"
      ]
     },
     "execution_count": 28,
     "metadata": {},
     "output_type": "execute_result"
    }
   ],
   "source": [
    "name1.strip(),name1.lstrip(),name1.rstrip()"
   ]
  },
  {
   "cell_type": "code",
   "execution_count": 29,
   "id": "44952d30-c75a-4e8a-8c55-750b2bc84211",
   "metadata": {},
   "outputs": [
    {
     "data": {
      "text/plain": [
       "('python', 'python', ' python')"
      ]
     },
     "execution_count": 29,
     "metadata": {},
     "output_type": "execute_result"
    }
   ],
   "source": [
    "name2.strip(),name2.lstrip(),name2.rstrip()"
   ]
  },
  {
   "cell_type": "code",
   "execution_count": 31,
   "id": "377fea4d-8b87-4804-ae5b-4936d616d840",
   "metadata": {},
   "outputs": [
    {
     "data": {
      "text/plain": [
       "('python', 'python ', 'python')"
      ]
     },
     "execution_count": 31,
     "metadata": {},
     "output_type": "execute_result"
    }
   ],
   "source": [
    "name3.strip(),name3.lstrip(),name3.rstrip()"
   ]
  },
  {
   "cell_type": "code",
   "execution_count": 32,
   "id": "c32f26a2-61b5-4ae3-9089-24a369bcb681",
   "metadata": {},
   "outputs": [],
   "source": [
    "name4=' python$$'"
   ]
  },
  {
   "cell_type": "code",
   "execution_count": 36,
   "id": "ef1d34c9-e34a-4dd4-ae9f-8f6a9ed7d1ff",
   "metadata": {},
   "outputs": [
    {
     "data": {
      "text/plain": [
       "'python'"
      ]
     },
     "execution_count": 36,
     "metadata": {},
     "output_type": "execute_result"
    }
   ],
   "source": [
    "name4.strip().rstrip('$')"
   ]
  },
  {
   "cell_type": "code",
   "execution_count": 37,
   "id": "480c47e1-0985-4f16-b383-f0040fe20c81",
   "metadata": {},
   "outputs": [
    {
     "data": {
      "text/plain": [
       "'python'"
      ]
     },
     "execution_count": 37,
     "metadata": {},
     "output_type": "execute_result"
    }
   ],
   "source": [
    "name4.strip('$').strip()"
   ]
  },
  {
   "cell_type": "markdown",
   "id": "46ca5427-e18c-429d-b957-27d7d779fd94",
   "metadata": {},
   "source": [
    "$split$"
   ]
  },
  {
   "cell_type": "code",
   "execution_count": 39,
   "id": "1dc58ff6-8e36-45f3-98af-747f36d00e2e",
   "metadata": {},
   "outputs": [
    {
     "data": {
      "text/plain": [
       "['hello', 'how', 'are', 'you']"
      ]
     },
     "execution_count": 39,
     "metadata": {},
     "output_type": "execute_result"
    }
   ],
   "source": [
    "str='hello how are you'\n",
    "str.split()"
   ]
  },
  {
   "cell_type": "code",
   "execution_count": 43,
   "id": "6f76cf72-9622-4364-8cea-0865b8f4a8ac",
   "metadata": {},
   "outputs": [
    {
     "data": {
      "text/plain": [
       "['hell', ' h', 'w are y', 'u']"
      ]
     },
     "execution_count": 43,
     "metadata": {},
     "output_type": "execute_result"
    }
   ],
   "source": [
    "str2='hello how are you'\n",
    "str2.split('o')"
   ]
  },
  {
   "cell_type": "code",
   "execution_count": 44,
   "id": "e5c56feb-23c2-45c1-b587-5ef5b6c70d1e",
   "metadata": {},
   "outputs": [
    {
     "data": {
      "text/plain": [
       "['hello how are you']"
      ]
     },
     "execution_count": 44,
     "metadata": {},
     "output_type": "execute_result"
    }
   ],
   "source": [
    "str1='hello how are you'\n",
    "str1.split(',')"
   ]
  },
  {
   "cell_type": "markdown",
   "id": "bfcb9081-6d03-46ec-bd73-fc52fba30c7d",
   "metadata": {},
   "source": [
    "$startswith-endswith$"
   ]
  },
  {
   "cell_type": "code",
   "execution_count": 48,
   "id": "6de608df-f4d3-457a-924f-d245647c4cfa",
   "metadata": {},
   "outputs": [
    {
     "data": {
      "text/plain": [
       "False"
      ]
     },
     "execution_count": 48,
     "metadata": {},
     "output_type": "execute_result"
    }
   ],
   "source": [
    "str='hello how are you'\n",
    "str.startswith('o')"
   ]
  },
  {
   "cell_type": "code",
   "execution_count": 49,
   "id": "51f77a73-e086-4230-b82c-6dd1f648af8f",
   "metadata": {},
   "outputs": [
    {
     "data": {
      "text/plain": [
       "True"
      ]
     },
     "execution_count": 49,
     "metadata": {},
     "output_type": "execute_result"
    }
   ],
   "source": [
    "str='hello how are you'\n",
    "str.startswith('h')"
   ]
  },
  {
   "cell_type": "code",
   "execution_count": 51,
   "id": "5453d23f-7ee4-443a-85f7-b1a85c7e763f",
   "metadata": {},
   "outputs": [
    {
     "data": {
      "text/plain": [
       "True"
      ]
     },
     "execution_count": 51,
     "metadata": {},
     "output_type": "execute_result"
    }
   ],
   "source": [
    "str='hello how are you'\n",
    "str.startswith('h')"
   ]
  },
  {
   "cell_type": "code",
   "execution_count": 52,
   "id": "56de508c-5e5e-4c3c-ad5f-1ae3afbd6eb1",
   "metadata": {},
   "outputs": [
    {
     "data": {
      "text/plain": [
       "False"
      ]
     },
     "execution_count": 52,
     "metadata": {},
     "output_type": "execute_result"
    }
   ],
   "source": [
    "str='hello how are you'\n",
    "str.endswith('h')"
   ]
  },
  {
   "cell_type": "code",
   "execution_count": 53,
   "id": "e2f00436-5b44-4146-a8fc-f9b549cd336d",
   "metadata": {},
   "outputs": [
    {
     "data": {
      "text/plain": [
       "True"
      ]
     },
     "execution_count": 53,
     "metadata": {},
     "output_type": "execute_result"
    }
   ],
   "source": [
    "str='hello how are you'\n",
    "str.endswith('u')"
   ]
  },
  {
   "cell_type": "code",
   "execution_count": null,
   "id": "d7d0773f-6f50-4425-a5c9-00fea1fda324",
   "metadata": {},
   "outputs": [],
   "source": []
  }
 ],
 "metadata": {
  "kernelspec": {
   "display_name": "Python 3 (ipykernel)",
   "language": "python",
   "name": "python3"
  },
  "language_info": {
   "codemirror_mode": {
    "name": "ipython",
    "version": 3
   },
   "file_extension": ".py",
   "mimetype": "text/x-python",
   "name": "python",
   "nbconvert_exporter": "python",
   "pygments_lexer": "ipython3",
   "version": "3.11.7"
  }
 },
 "nbformat": 4,
 "nbformat_minor": 5
}
