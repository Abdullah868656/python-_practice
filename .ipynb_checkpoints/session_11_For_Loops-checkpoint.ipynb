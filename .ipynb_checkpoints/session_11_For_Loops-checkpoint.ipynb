{
 "cells": [
  {
   "cell_type": "markdown",
   "id": "38d2c4ec-7ea7-428c-aaee-50a201c0d6dd",
   "metadata": {},
   "source": [
    "**Loops**\n",
    "\n",
    "- Function:Reuse of the code\n",
    "\n",
    "- Loop: Reuse the code for multiple time unless the given condition saticfies\n",
    "\n",
    "  - For\n",
    "\n",
    "  - While\n",
    "\n",
    "- Any loop requires 3 tings\n",
    "  \n",
    "  - start point\n",
    " \n",
    "  - what is the condition to stop\n",
    " \n",
    "  - increment or decrement\n",
    " \n",
    "- In for loop we will apply all above 3 in a single line \n",
    "\n",
    "- in while loop we will apply al above 3 in 3 different lines"
   ]
  },
  {
   "cell_type": "markdown",
   "id": "bd785c25-8e65-44b9-84aa-6f4321cc5084",
   "metadata": {},
   "source": [
    "# For\n",
    "\n",
    " - method - 1"
   ]
  },
  {
   "cell_type": "code",
   "execution_count": 9,
   "id": "0e44abdf-f3a2-4898-9677-f94633c52089",
   "metadata": {},
   "outputs": [
    {
     "ename": "TypeError",
     "evalue": "type 'range' is not subscriptable",
     "output_type": "error",
     "traceback": [
      "\u001b[1;31m---------------------------------------------------------------------------\u001b[0m",
      "\u001b[1;31mTypeError\u001b[0m                                 Traceback (most recent call last)",
      "Cell \u001b[1;32mIn[9], line 2\u001b[0m\n\u001b[0;32m      1\u001b[0m \u001b[38;5;66;03m#syntax\u001b[39;00m\n\u001b[1;32m----> 2\u001b[0m \u001b[38;5;28;01mfor\u001b[39;00m i \u001b[38;5;129;01min\u001b[39;00m \u001b[38;5;28mrange\u001b[39m[\u001b[38;5;241m10\u001b[39m]:\n\u001b[0;32m      4\u001b[0m     \u001b[38;5;28mprint\u001b[39m(i)\n",
      "\u001b[1;31mTypeError\u001b[0m: type 'range' is not subscriptable"
     ]
    }
   ],
   "source": [
    "#syntax\n",
    "for i in range[10]:\n",
    "\n",
    "    print(i)"
   ]
  },
  {
   "cell_type": "code",
   "execution_count": 10,
   "id": "7c5dd326-78af-45c6-b3fe-4c04aaf2d7d7",
   "metadata": {},
   "outputs": [],
   "source": [
    "name=[1,2,3,4,5,6]\n"
   ]
  },
  {
   "cell_type": "code",
   "execution_count": 11,
   "id": "46ae0707-2864-42b6-974d-ef56831a7422",
   "metadata": {},
   "outputs": [
    {
     "name": "stdout",
     "output_type": "stream",
     "text": [
      "1\n",
      "2\n",
      "3\n",
      "4\n",
      "5\n",
      "6\n"
     ]
    }
   ],
   "source": [
    "for i in name[0:]:\n",
    "    print(i)"
   ]
  },
  {
   "cell_type": "code",
   "execution_count": 3,
   "id": "4de00ca2-31d4-43a5-ae1a-9505bcc526b9",
   "metadata": {},
   "outputs": [
    {
     "name": "stdout",
     "output_type": "stream",
     "text": [
      "0\n",
      "1\n",
      "2\n"
     ]
    },
    {
     "ename": "NameError",
     "evalue": "name 'i' is not defined",
     "output_type": "error",
     "traceback": [
      "\u001b[1;31m---------------------------------------------------------------------------\u001b[0m",
      "\u001b[1;31mNameError\u001b[0m                                 Traceback (most recent call last)",
      "Cell \u001b[1;32mIn[3], line 5\u001b[0m\n\u001b[0;32m      2\u001b[0m \u001b[38;5;28mprint\u001b[39m(\u001b[38;5;241m1\u001b[39m)\n\u001b[0;32m      3\u001b[0m \u001b[38;5;28mprint\u001b[39m(\u001b[38;5;241m2\u001b[39m)\n\u001b[1;32m----> 5\u001b[0m \u001b[38;5;28mprint\u001b[39m(i)\n",
      "\u001b[1;31mNameError\u001b[0m: name 'i' is not defined"
     ]
    }
   ],
   "source": [
    "print(0)\n",
    "print(1)\n",
    "print(2)\n",
    "\n",
    "print(i)"
   ]
  },
  {
   "cell_type": "markdown",
   "id": "dbc3df07-c089-413b-900d-764757501c5d",
   "metadata": {},
   "source": [
    "**Note**\n",
    "\n",
    "- The default start point is zero\n",
    "\n",
    "   **python index starts with zero**\n",
    "\n",
    "- Default increment is 1\n",
    "\n",
    "- Last value = stop - 1"
   ]
  },
  {
   "cell_type": "markdown",
   "id": "778d2cf0-f381-46a0-96d5-3c67a40a8aaa",
   "metadata": {},
   "source": [
    "**range(5)**\n",
    "\n",
    "- star value =0\n",
    "\n",
    "- increment=1\n",
    "\n",
    "- last value =5-1=4"
   ]
  },
  {
   "cell_type": "code",
   "execution_count": 4,
   "id": "fd68438c-b5ed-4a6f-af05-16556d5c794b",
   "metadata": {},
   "outputs": [
    {
     "name": "stdout",
     "output_type": "stream",
     "text": [
      "0\n",
      "1\n",
      "2\n",
      "3\n",
      "4\n"
     ]
    }
   ],
   "source": [
    "for i in range (5):\n",
    "    print(i)"
   ]
  },
  {
   "cell_type": "code",
   "execution_count": 5,
   "id": "f1b01790-2c81-49fb-9cb4-219d689a565c",
   "metadata": {},
   "outputs": [
    {
     "name": "stdout",
     "output_type": "stream",
     "text": [
      "0 1 2\n"
     ]
    }
   ],
   "source": [
    "print(0,end=' ')\n",
    "print(1,end=' ')\n",
    "print(2)"
   ]
  },
  {
   "cell_type": "code",
   "execution_count": 6,
   "id": "375d92cd-0b36-4efe-a056-41e6f0f7dc5f",
   "metadata": {},
   "outputs": [
    {
     "name": "stdout",
     "output_type": "stream",
     "text": [
      "0 1 2 3 4 "
     ]
    }
   ],
   "source": [
    "for i in range (5):\n",
    "    print(i,end=' ')"
   ]
  },
  {
   "cell_type": "code",
   "execution_count": 15,
   "id": "279209f0-2b1f-4c47-a9e4-d53d8444dc1f",
   "metadata": {},
   "outputs": [
    {
     "name": "stdout",
     "output_type": "stream",
     "text": [
      " hello  hello  hello "
     ]
    }
   ],
   "source": [
    "# I want to print 3 times hello\n",
    "\n",
    "for i in range (3):\n",
    "    print(' hello',end=' ')"
   ]
  },
  {
   "cell_type": "markdown",
   "id": "f4210522-cc21-48cb-8b57-5907df0ac7be",
   "metadata": {},
   "source": [
    "$method-2$\n",
    "\n",
    "**range(start,stop)**\n",
    "\n",
    "- start value = start\n",
    "\n",
    "- Default increment by 1\n",
    "  \n",
    "- Last value = stop-1"
   ]
  },
  {
   "cell_type": "code",
   "execution_count": 20,
   "id": "d5645cc0-26d4-4949-a2bb-a8df9514f3d2",
   "metadata": {},
   "outputs": [
    {
     "name": "stdout",
     "output_type": "stream",
     "text": [
      "3 4 5 6 7 8 "
     ]
    }
   ],
   "source": [
    "# syntax\n",
    "for i in range(3,9):\n",
    "    print(i,end=' ')"
   ]
  },
  {
   "cell_type": "code",
   "execution_count": 22,
   "id": "e3fbb219-4c4d-4a95-8c7f-5c25e3b270ca",
   "metadata": {},
   "outputs": [
    {
     "name": "stdout",
     "output_type": "stream",
     "text": [
      "the squre of 1 is 1\n",
      "the squre of 2 is 4\n",
      "the squre of 3 is 9\n",
      "the squre of 4 is 16\n",
      "the squre of 5 is 25\n"
     ]
    }
   ],
   "source": [
    "#Wap ask the use print the square of the number from 1to 5\n",
    "\n",
    "for i in range (1,6):\n",
    "    print (f\"the squre of {i} is {i*i}\")"
   ]
  },
  {
   "cell_type": "code",
   "execution_count": 29,
   "id": "ca613480-ef1e-405a-8256-53439b98c800",
   "metadata": {},
   "outputs": [
    {
     "ename": "IndentationError",
     "evalue": "unindent does not match any outer indentation level (<tokenize>, line 6)",
     "output_type": "error",
     "traceback": [
      "\u001b[1;36m  File \u001b[1;32m<tokenize>:6\u001b[1;36m\u001b[0m\n\u001b[1;33m    else:\u001b[0m\n\u001b[1;37m    ^\u001b[0m\n\u001b[1;31mIndentationError\u001b[0m\u001b[1;31m:\u001b[0m unindent does not match any outer indentation level\n"
     ]
    }
   ],
   "source": [
    "def main():\n",
    "    for i in range(1, 6):\n",
    "        user_input = int(input(f\"Enter the square of {i}: \"))\n",
    "    if user_input == i ** 2:\n",
    "         print(\"Correct!\")\n",
    "     else:\n",
    "         print(\"Incorrect! The correct answer is:\", i ** 2)\n",
    "\n",
    "if_name_ == \"_main_\":\n",
    "    \n",
    "main()"
   ]
  },
  {
   "cell_type": "code",
   "execution_count": 31,
   "id": "446e1634-8761-48ac-ada7-7b86dcf34284",
   "metadata": {},
   "outputs": [
    {
     "ename": "SyntaxError",
     "evalue": "incomplete input (2905558314.py, line 4)",
     "output_type": "error",
     "traceback": [
      "\u001b[1;36m  Cell \u001b[1;32mIn[31], line 4\u001b[1;36m\u001b[0m\n\u001b[1;33m    print(random.randint(0,5),(i*i)\u001b[0m\n\u001b[1;37m                                   ^\u001b[0m\n\u001b[1;31mSyntaxError\u001b[0m\u001b[1;31m:\u001b[0m incomplete input\n"
     ]
    }
   ],
   "source": [
    "#write a prog ask the user take 5 random number and print the square of the random numbers \n",
    "import random\n",
    "for i in range (5):\n",
    "    print(random.randint(0,5),(i*i)"
   ]
  },
  {
   "cell_type": "code",
   "execution_count": 34,
   "id": "7519dff2-d7a6-4ab8-abb8-92436fb5e8d9",
   "metadata": {},
   "outputs": [
    {
     "name": "stdout",
     "output_type": "stream",
     "text": [
      "the square of 74 is 5476\n",
      "the square of 43 is 1849\n",
      "the square of 18 is 324\n",
      "the square of 56 is 3136\n",
      "the square of 85 is 7225\n"
     ]
    }
   ],
   "source": [
    "import random\n",
    "for i in range(5):\n",
    "    num=random.randint(1,100)\n",
    "    print(f'the square of {num} is {num*num}')"
   ]
  },
  {
   "cell_type": "code",
   "execution_count": 37,
   "id": "7aa1873e-c46b-4a73-8a99-4e0118b33766",
   "metadata": {},
   "outputs": [
    {
     "name": "stdout",
     "output_type": "stream",
     "text": [
      "the square of 29 is 841\n",
      "the square of 77 is 5929\n",
      "the square of 12 is 144\n",
      "the square of 24 is 576\n",
      "the square of 100 is 10000\n"
     ]
    }
   ],
   "source": [
    "#create a function on reuse code line\n",
    "#call that function inside the for loop\n",
    "\n",
    "def square():\n",
    "    num=random.randint(1,100)\n",
    "    return(f'the square of {num} is {num*num}')\n",
    "for i in range (5):\n",
    "    ans=square()\n",
    "    print(ans)"
   ]
  },
  {
   "cell_type": "code",
   "execution_count": 38,
   "id": "2dfeec38-b4e2-496c-b820-c3a289c4473b",
   "metadata": {},
   "outputs": [
    {
     "name": "stdout",
     "output_type": "stream",
     "text": [
      "30\n",
      "None\n",
      "30\n",
      "None\n",
      "30\n",
      "None\n",
      "30\n",
      "None\n",
      "30\n",
      "None\n"
     ]
    }
   ],
   "source": [
    "def add():\n",
    "    a=10\n",
    "    b=20\n",
    "    print(a+b)\n",
    "    \n",
    "for i in range (5):\n",
    "    ans=add()\n",
    "    print(ans)"
   ]
  },
  {
   "cell_type": "code",
   "execution_count": 42,
   "id": "7edf495f-1d91-491a-912a-0b554e0fb311",
   "metadata": {},
   "outputs": [
    {
     "name": "stdout",
     "output_type": "stream",
     "text": [
      "0 is an even number\n",
      "85is an odd number\n",
      "2 is an even number\n",
      "85is an odd number\n",
      "4 is an even number\n"
     ]
    }
   ],
   "source": [
    "#wap ask the user print the even or odd value between 11 to 21\n",
    "for i in range (5):\n",
    "    if i%2==0:\n",
    "        print(f'{i} is an even number')\n",
    "    else:\n",
    "        print(f'{num}is an odd number')"
   ]
  },
  {
   "cell_type": "code",
   "execution_count": 39,
   "id": "7eda6a48-433d-4094-99af-ae57e6c70af4",
   "metadata": {},
   "outputs": [
    {
     "name": "stdout",
     "output_type": "stream",
     "text": [
      "entre the value\n",
      "entre the value\n",
      "entre the value\n",
      "entre the value\n",
      "entre the value\n"
     ]
    }
   ],
   "source": [
    "# wap ask the user enter a value from keyboard 5 times\n",
    "# print that value is even or odd\n",
    "for i in range(5):\n",
    "    print('entre the value')"
   ]
  },
  {
   "cell_type": "markdown",
   "id": "dc3a695e-8040-40e5-9453-9b00b9498427",
   "metadata": {},
   "source": [
    "$method-3$\n",
    "**range (start,stop,step)**\n",
    "\n",
    "- start = alway a sart value\n",
    "\n",
    "-step: Increment value\n",
    "\n",
    "  - If= Incement value is postive \n",
    "\n",
    "  - positive value means postive direction(Forward)\n",
    "\n",
    "       - Last=stop-1\n",
    "         \n",
    "  - In increment value is negative\n",
    "\n",
    "  - negative value means negative direction\n",
    "\n",
    "      - last=stop+1"
   ]
  },
  {
   "cell_type": "code",
   "execution_count": 43,
   "id": "eadfd1d4-4ae3-4681-ba96-00eb873bec0d",
   "metadata": {},
   "outputs": [
    {
     "name": "stdout",
     "output_type": "stream",
     "text": [
      "2 4 6 8 10 12 14 16 18 "
     ]
    }
   ],
   "source": [
    "#case-1\n",
    "\n",
    "for i in range(2,20,2):\n",
    "    print(i,end=' ')\n",
    "# start=2\n",
    "# step=2 +ve direction\n",
    "#lasr=stop -1=20-1=19\n",
    "\n",
    "#frist "
   ]
  },
  {
   "cell_type": "code",
   "execution_count": 44,
   "id": "96e14adb-b82a-474c-83b9-236581eb7234",
   "metadata": {},
   "outputs": [],
   "source": [
    "#case-2\n",
    "for i in range(2,20,-2):           # no ans no error its cant go 2 to negative value to reach psotive value of 20 its not possiable\n",
    "    print(i,end=' ')\n",
    "#star=2\n",
    "#step=2 negative direction\n",
    "#last= stop+:20+1=21\n"
   ]
  },
  {
   "cell_type": "code",
   "execution_count": 48,
   "id": "65926de4-3672-41ae-945d-f56044de8e99",
   "metadata": {},
   "outputs": [
    {
     "name": "stdout",
     "output_type": "stream",
     "text": [
      "2 0 -2 -4 -6 -8 -10 -12 -14 -16 -18 "
     ]
    }
   ],
   "source": [
    "#case-3\n",
    "for i in range(2,-20,-2):         \n",
    "    print(i,end=' ')\n",
    "#start=2\n",
    "#step=2 negative\n",
    "#last =stop+1=-20+1=19"
   ]
  },
  {
   "cell_type": "code",
   "execution_count": 50,
   "id": "108f443e-538e-419a-bd3b-cf57f29d86f0",
   "metadata": {},
   "outputs": [],
   "source": [
    "#case-4\n",
    "for i in range (-2,20,-2):\n",
    "    print(i,end=' ')\n",
    "#start=-2\n",
    "#step=2 negative\n",
    "# last value 20-1=19"
   ]
  },
  {
   "cell_type": "code",
   "execution_count": 51,
   "id": "efa4501e-53f2-45db-bfcd-9696af56f44b",
   "metadata": {},
   "outputs": [
    {
     "name": "stdout",
     "output_type": "stream",
     "text": [
      "3 6 9 12 15 18 "
     ]
    }
   ],
   "source": [
    "for i in range (3,19,3):\n",
    "    print(i,end=' ')"
   ]
  },
  {
   "cell_type": "code",
   "execution_count": 52,
   "id": "5b6789ed-a14f-48fc-a94c-5e9fe53009ed",
   "metadata": {},
   "outputs": [],
   "source": [
    "for i in range (3,19,-3):\n",
    "    print(i,end=' ')"
   ]
  },
  {
   "cell_type": "code",
   "execution_count": 53,
   "id": "547478f5-199e-4ca5-8f5a-ba6e1ea6b1c9",
   "metadata": {},
   "outputs": [],
   "source": [
    "for i in range (3,-19,3):\n",
    "    print(i,end=' ')"
   ]
  },
  {
   "cell_type": "code",
   "execution_count": 54,
   "id": "95e72694-bc5b-4dc8-afda-e44897941fba",
   "metadata": {},
   "outputs": [
    {
     "name": "stdout",
     "output_type": "stream",
     "text": [
      "3 0 -3 -6 -9 -12 -15 -18 "
     ]
    }
   ],
   "source": [
    "for i in range (3,-19,-3):\n",
    "    print(i,end=' ')"
   ]
  },
  {
   "cell_type": "code",
   "execution_count": null,
   "id": "a679b5c6-cfc1-42b6-b50e-4bf84f355c80",
   "metadata": {},
   "outputs": [],
   "source": [
    "for i in range (3,19,3):\n",
    "    print(i,end=' ')"
   ]
  },
  {
   "cell_type": "code",
   "execution_count": 1,
   "id": "dbb3b8ae-0b36-413e-b211-e789305d571f",
   "metadata": {},
   "outputs": [],
   "source": [
    "#Wap to create 9th table\n",
    "#9*1=9\n",
    "#\n",
    "#9*10=90"
   ]
  },
  {
   "cell_type": "code",
   "execution_count": 4,
   "id": "c3af4baa-c285-4786-8c5a-e88dcab2c20e",
   "metadata": {},
   "outputs": [
    {
     "name": "stdout",
     "output_type": "stream",
     "text": [
      "9x1=9\n",
      "9x2=18\n",
      "9x3=27\n",
      "9x4=36\n",
      "9x5=45\n",
      "9x6=54\n",
      "9x7=63\n",
      "9x8=72\n",
      "9x9=81\n",
      "9x10=90\n"
     ]
    }
   ],
   "source": [
    "for i in range (1,11):\n",
    "    print(f'9x{i}={9*i}')"
   ]
  },
  {
   "cell_type": "code",
   "execution_count": 5,
   "id": "3c2d68a6-f86a-4f33-8dec-67dc2f159170",
   "metadata": {},
   "outputs": [
    {
     "name": "stdout",
     "output_type": "stream",
     "text": [
      "10x1=10\n",
      "10x2=20\n",
      "10x3=30\n",
      "10x4=40\n",
      "10x5=50\n",
      "10x6=60\n",
      "10x7=70\n",
      "10x8=80\n",
      "10x9=90\n",
      "10x10=100\n"
     ]
    }
   ],
   "source": [
    "for i in range (1,11):\n",
    "    print(f'10x{i}={10*i}')"
   ]
  },
  {
   "cell_type": "code",
   "execution_count": null,
   "id": "bfa0c2f9-049b-4592-ae78-a85ea5d0bf60",
   "metadata": {},
   "outputs": [],
   "source": [
    "#7Q)Wap to print meaning \n",
    "\n",
    "\n",
    "#50%1=0\n",
    "\n",
    "#\n",
    "\n",
    "#50%50=0"
   ]
  },
  {
   "cell_type": "code",
   "execution_count": 10,
   "id": "534c2f70-0a2c-4ed2-88c5-92b1c0fe1676",
   "metadata": {},
   "outputs": [
    {
     "name": "stdout",
     "output_type": "stream",
     "text": [
      "1\n",
      "2\n",
      "5\n",
      "10\n",
      "25\n",
      "50\n"
     ]
    }
   ],
   "source": [
    "for i in range (1,51):\n",
    "   if 50%i==0:\n",
    "    print(i)\n",
    "# step-1 : i=1 if 50%1==0 true  print(1):1\n",
    "# step-2 : i="
   ]
  },
  {
   "cell_type": "code",
   "execution_count": 11,
   "id": "e23dbfab-364f-41fd-b3d7-4177f655586c",
   "metadata": {},
   "outputs": [
    {
     "name": "stdin",
     "output_type": "stream",
     "text": [
      "Enter the number which you want divisiable 74\n"
     ]
    },
    {
     "name": "stdout",
     "output_type": "stream",
     "text": [
      "1\n",
      "2\n",
      "5\n",
      "10\n",
      "25\n",
      "50\n"
     ]
    }
   ],
   "source": [
    "num=eval(input('Enter the number which you want divisiable'))\n",
    "for i in range (1,51):\n",
    "   if 50%i==0:\n",
    "    print(i)"
   ]
  },
  {
   "cell_type": "markdown",
   "id": "2f2e1154-eec9-47ef-8ff3-c01cfaff9b18",
   "metadata": {},
   "source": [
    "**summation wrapper**"
   ]
  },
  {
   "cell_type": "code",
   "execution_count": null,
   "id": "f68ed1e1-56c2-4a71-9650-c6269fedcec7",
   "metadata": {},
   "outputs": [],
   "source": [
    "#q8) wap print the sum of first 10 natural number\n",
    "# 1to 10\n",
    "#1+2+3+4+5+6+7+8+9+10=\n",
    "\n",
    "#whwnever you want to do any sum program\n",
    "#It is like wrapper\n",
    "\n",
    "\n"
   ]
  },
  {
   "cell_type": "code",
   "execution_count": 20,
   "id": "513d7907-25a6-4350-9437-69dc7ec11d52",
   "metadata": {},
   "outputs": [
    {
     "name": "stdout",
     "output_type": "stream",
     "text": [
      "1+1=2\n",
      "2+1=3\n",
      "3+1=4\n",
      "4+1=5\n",
      "5+1=6\n",
      "6+1=7\n",
      "7+1=8\n",
      "8+1=9\n",
      "9+1=10\n",
      "10+1=11\n"
     ]
    }
   ],
   "source": [
    "for i in range (1,11):\n",
    "    print(f'{i}+1={i+1}')"
   ]
  },
  {
   "cell_type": "code",
   "execution_count": null,
   "id": "cea0fce2-aaa5-49ba-b90f-a07d7227fa7c",
   "metadata": {},
   "outputs": [],
   "source": [
    "summ=0\n",
    "summ=summ+i\n",
    "#summ=0+1    summm=1\n",
    "#summ=1+2    summ=3\n",
    "#summ=6+4    summ=6"
   ]
  },
  {
   "cell_type": "code",
   "execution_count": 22,
   "id": "0fdef6b7-677d-4d6b-820c-f10082a7cacb",
   "metadata": {},
   "outputs": [
    {
     "name": "stdout",
     "output_type": "stream",
     "text": [
      "1\n",
      "3\n",
      "6\n",
      "10\n",
      "15\n",
      "21\n",
      "28\n",
      "36\n",
      "45\n",
      "55\n"
     ]
    }
   ],
   "source": [
    "summ=0\n",
    "for i in range (1,11):\n",
    "    summ=summ+i\n",
    "    print(summ)   # if in function print ans will come of all suprate"
   ]
  },
  {
   "cell_type": "code",
   "execution_count": 26,
   "id": "75553739-14bf-4694-a218-bb91d6dae156",
   "metadata": {},
   "outputs": [
    {
     "name": "stdout",
     "output_type": "stream",
     "text": [
      "the summ of first 10 natural number are: 55\n"
     ]
    }
   ],
   "source": [
    "summ=0\n",
    "for i in range(1,11):\n",
    "    summ=summ+i           # if we wannt only ans the print should write not side of the function\n",
    "print(\"the summ of first 10 natural number are:\",summ)"
   ]
  },
  {
   "cell_type": "markdown",
   "id": "0f23cac4-00b3-488d-b35d-c038f890a1a1",
   "metadata": {},
   "source": [
    "- do not give variable name as sum ,becuase sum is keywords\n",
    "\n",
    "- if you do print inside it will print every answer\n",
    "\n",
    "- "
   ]
  },
  {
   "cell_type": "code",
   "execution_count": 27,
   "id": "661b6ce2-53ae-4ae9-ac36-ea947443c541",
   "metadata": {},
   "outputs": [
    {
     "data": {
      "text/plain": [
       "6"
      ]
     },
     "execution_count": 27,
     "metadata": {},
     "output_type": "execute_result"
    }
   ],
   "source": [
    "l=[1,2,3]\n",
    "sum(l)"
   ]
  },
  {
   "cell_type": "code",
   "execution_count": 29,
   "id": "f8439141-e851-47a9-b33c-9f004ddba370",
   "metadata": {},
   "outputs": [
    {
     "data": {
      "text/plain": [
       "['False',\n",
       " 'None',\n",
       " 'True',\n",
       " 'and',\n",
       " 'as',\n",
       " 'assert',\n",
       " 'async',\n",
       " 'await',\n",
       " 'break',\n",
       " 'class',\n",
       " 'continue',\n",
       " 'def',\n",
       " 'del',\n",
       " 'elif',\n",
       " 'else',\n",
       " 'except',\n",
       " 'finally',\n",
       " 'for',\n",
       " 'from',\n",
       " 'global',\n",
       " 'if',\n",
       " 'import',\n",
       " 'in',\n",
       " 'is',\n",
       " 'lambda',\n",
       " 'nonlocal',\n",
       " 'not',\n",
       " 'or',\n",
       " 'pass',\n",
       " 'raise',\n",
       " 'return',\n",
       " 'try',\n",
       " 'while',\n",
       " 'with',\n",
       " 'yield']"
      ]
     },
     "execution_count": 29,
     "metadata": {},
     "output_type": "execute_result"
    }
   ],
   "source": [
    "import keyword\n",
    "keyword.kwlist"
   ]
  },
  {
   "cell_type": "markdown",
   "id": "17843a2b-68df-494a-9642-5928683f878b",
   "metadata": {},
   "source": [
    "- not callable, remove the brackets\n",
    "\n",
    "- bound method means add the brackerts\n",
    "\n",
    "- function means add the brackets"
   ]
  },
  {
   "cell_type": "markdown",
   "id": "0043b350-78e2-4b0e-a459-381aa0504db1",
   "metadata": {},
   "source": [
    "**Counter wrapper**"
   ]
  },
  {
   "cell_type": "code",
   "execution_count": 32,
   "id": "d034c666-b03a-4420-96d6-054029d18304",
   "metadata": {},
   "outputs": [],
   "source": [
    "#Q9) how many divisor are avilable for 50\n",
    "# tell the divisors:1,2,5,10,25,50\n",
    "# now I want to print : the number of divisors are 6\n",
    "\n",
    "#count=0\n",
    "#<for>\n",
    "#  if \n",
    "#"
   ]
  },
  {
   "cell_type": "code",
   "execution_count": null,
   "id": "17d8cc45-b113-41f0-a76c-9a774f04bf19",
   "metadata": {},
   "outputs": [],
   "source": [
    "count=0\n",
    "for i in range(1,11):\n",
    "    summ=summ+i           # if we wannt only ans the print should write not side of the function\n",
    "print(\"the summ of first 10 natural number are:\",summ)"
   ]
  },
  {
   "cell_type": "code",
   "execution_count": 36,
   "id": "0bc4d2b8-0d63-48ce-915f-10b321140790",
   "metadata": {},
   "outputs": [
    {
     "name": "stdin",
     "output_type": "stream",
     "text": [
      "Enter the number which you want divisiable: 10\n"
     ]
    },
    {
     "name": "stdout",
     "output_type": "stream",
     "text": [
      "6\n"
     ]
    }
   ],
   "source": [
    "count=0\n",
    "num=eval(input('Enter the number which you want divisiable:'))\n",
    "for i in range (1,51):\n",
    "   if 50%i==0:\n",
    "       count=count+1\n",
    "print(count)\n",
    "\n",
    "#step-1:  count=0 num=10 i=1 "
   ]
  },
  {
   "cell_type": "code",
   "execution_count": 37,
   "id": "58ddd266-e272-4018-ae77-5c8523d567b7",
   "metadata": {},
   "outputs": [],
   "source": [
    "summ=0\n",
    "summ=summ+1\n",
    "\n",
    "count=0\n",
    "count=count+1\n"
   ]
  },
  {
   "cell_type": "code",
   "execution_count": null,
   "id": "af976213-e951-4b01-a042-7729e7eda696",
   "metadata": {},
   "outputs": [],
   "source": [
    "#Q10) \n",
    "# ask the user enter one number from keyboard\n",
    "# ask the user get the secound number randomly from 1 to 10\n",
    "# if num1 ===num2 then print you won\n",
    "# otherwise print you lost \n",
    "# Iterate these line 3 time"
   ]
  },
  {
   "cell_type": "code",
   "execution_count": 41,
   "id": "13e6e58f-612b-4497-bb9f-b2ea84c4394e",
   "metadata": {},
   "outputs": [
    {
     "name": "stdin",
     "output_type": "stream",
     "text": [
      "Enter a number:  3\n"
     ]
    },
    {
     "name": "stdout",
     "output_type": "stream",
     "text": [
      "You lost!\n"
     ]
    },
    {
     "name": "stdin",
     "output_type": "stream",
     "text": [
      "Enter a number:  3\n"
     ]
    },
    {
     "name": "stdout",
     "output_type": "stream",
     "text": [
      "You lost!\n"
     ]
    },
    {
     "name": "stdin",
     "output_type": "stream",
     "text": [
      "Enter a number:  3\n"
     ]
    },
    {
     "name": "stdout",
     "output_type": "stream",
     "text": [
      "You won!\n"
     ]
    }
   ],
   "source": [
    "\n",
    "import random\n",
    "\n",
    "def main():\n",
    "    for _ in range(3):\n",
    "        num1 = int(input(\"Enter a number: \"))\n",
    "        num2 = random.randint(1, 10)\n",
    "\n",
    "        if num1 == num2:\n",
    "            print(\"You won!\")\n",
    "        else:\n",
    "            print(\"You lost!\")\n",
    "\n",
    "if __name__ == \"__main__\":\n",
    "    main()\n"
   ]
  },
  {
   "cell_type": "code",
   "execution_count": 49,
   "id": "ff2ab50e-f53d-4444-8fb4-35a026c130d8",
   "metadata": {},
   "outputs": [
    {
     "name": "stdout",
     "output_type": "stream",
     "text": [
      "4\n"
     ]
    },
    {
     "name": "stdin",
     "output_type": "stream",
     "text": [
      "Enter a number:  4\n"
     ]
    },
    {
     "name": "stdout",
     "output_type": "stream",
     "text": [
      "You won!\n"
     ]
    }
   ],
   "source": [
    "#case-1:\n",
    "\n",
    "import random\n",
    "\n",
    "def main():\n",
    "    for _ in range(3):\n",
    "        num1 = random.randint(1, 10)\n",
    "        print(num1)\n",
    "        num2 = int(input(\"Enter a number: \"))\n",
    "       \n",
    "\n",
    "        if num1 == num2:\n",
    "            print(\"You won!\")\n",
    "            break\n",
    "        else:\n",
    "            print(\"You lost!\")\n",
    "\n",
    "if __name__ == \"__main__\":\n",
    "    main()"
   ]
  },
  {
   "cell_type": "code",
   "execution_count": null,
   "id": "3c7b9127-b41d-488b-9a60-c5984524f545",
   "metadata": {},
   "outputs": [],
   "source": [
    "# case-2: give 5 chances\n",
    "# whenever fail print the number of chances left\n",
    "\n",
    "# case-3: suppose your all chances are over\n",
    "# print your account locked try after 24 hours"
   ]
  },
  {
   "cell_type": "markdown",
   "id": "20273016-6314-4f7a-97c7-12d7d1415b2c",
   "metadata": {},
   "source": [
    "lopppppp"
   ]
  },
  {
   "cell_type": "code",
   "execution_count": 4,
   "id": "ed213de7-428b-4476-9fc4-c00cfcc1ca94",
   "metadata": {},
   "outputs": [
    {
     "ename": "NameError",
     "evalue": "name 'i' is not defined",
     "output_type": "error",
     "traceback": [
      "\u001b[1;31m---------------------------------------------------------------------------\u001b[0m",
      "\u001b[1;31mNameError\u001b[0m                                 Traceback (most recent call last)",
      "Cell \u001b[1;32mIn[4], line 9\u001b[0m\n\u001b[0;32m      6\u001b[0m \u001b[38;5;124m'\u001b[39m\u001b[38;5;124mo\u001b[39m\u001b[38;5;124m'\u001b[39m \u001b[38;5;129;01min\u001b[39;00m name\n\u001b[0;32m      7\u001b[0m \u001b[38;5;124m'\u001b[39m\u001b[38;5;124mn\u001b[39m\u001b[38;5;124m'\u001b[39m \u001b[38;5;129;01min\u001b[39;00m name\n\u001b[1;32m----> 9\u001b[0m i \u001b[38;5;129;01min\u001b[39;00m name\n",
      "\u001b[1;31mNameError\u001b[0m: name 'i' is not defined"
     ]
    }
   ],
   "source": [
    "name='python'\n",
    "'p' in name\n",
    "'y' in name\n",
    "'t' in name\n",
    "'h' in name\n",
    "'o' in name\n",
    "'n' in name\n",
    "\n",
    "i in name"
   ]
  },
  {
   "cell_type": "code",
   "execution_count": 8,
   "id": "c7eb60ed-826c-4c0a-b61f-e84c3913dc8e",
   "metadata": {},
   "outputs": [
    {
     "name": "stdout",
     "output_type": "stream",
     "text": [
      "p y t h o n "
     ]
    }
   ],
   "source": [
    "for i in name:\n",
    "    print(i,end=' ')"
   ]
  },
  {
   "cell_type": "code",
   "execution_count": 9,
   "id": "15d14ed5-e380-4b02-8a7e-ee694f0816d3",
   "metadata": {},
   "outputs": [
    {
     "data": {
      "text/plain": [
       "False"
      ]
     },
     "execution_count": 9,
     "metadata": {},
     "output_type": "execute_result"
    }
   ],
   "source": [
    "'A'=='a'"
   ]
  },
  {
   "cell_type": "code",
   "execution_count": 10,
   "id": "1bad91da-c6dc-45c8-bd9c-30ae30d0cc29",
   "metadata": {},
   "outputs": [
    {
     "data": {
      "text/plain": [
       "False"
      ]
     },
     "execution_count": 10,
     "metadata": {},
     "output_type": "execute_result"
    }
   ],
   "source": [
    "'A'>'a'"
   ]
  },
  {
   "cell_type": "code",
   "execution_count": 11,
   "id": "013d198f-8208-469f-ae17-9c48b6545c24",
   "metadata": {},
   "outputs": [
    {
     "data": {
      "text/plain": [
       "False"
      ]
     },
     "execution_count": 11,
     "metadata": {},
     "output_type": "execute_result"
    }
   ],
   "source": [
    "'a'<'A'"
   ]
  },
  {
   "cell_type": "code",
   "execution_count": 12,
   "id": "7bc86b37-0628-451a-b071-aad9937d1602",
   "metadata": {},
   "outputs": [
    {
     "data": {
      "text/plain": [
       "True"
      ]
     },
     "execution_count": 12,
     "metadata": {},
     "output_type": "execute_result"
    }
   ],
   "source": [
    "'a'>'A'"
   ]
  },
  {
   "cell_type": "markdown",
   "id": "fa21ba40-6dff-4f2e-b2d2-b2e5c44a5e8e",
   "metadata": {},
   "source": [
    "**ASCII**\n",
    "\n",
    "- American standard cord for Information Interchange"
   ]
  },
  {
   "cell_type": "code",
   "execution_count": 14,
   "id": "d733c677-0090-4b57-b6ef-460858df53ab",
   "metadata": {},
   "outputs": [
    {
     "ename": "SyntaxError",
     "evalue": "cannot assign to literal here. Maybe you meant '==' instead of '='? (2370427289.py, line 1)",
     "output_type": "error",
     "traceback": [
      "\u001b[1;36m  Cell \u001b[1;32mIn[14], line 1\u001b[1;36m\u001b[0m\n\u001b[1;33m    'A'= 65 'B'=66 #so on\u001b[0m\n\u001b[1;37m    ^\u001b[0m\n\u001b[1;31mSyntaxError\u001b[0m\u001b[1;31m:\u001b[0m cannot assign to literal here. Maybe you meant '==' instead of '='?\n"
     ]
    }
   ],
   "source": [
    "'A'= 65 'B'=66 #so on\n",
    "'a'=97 #so on \n"
   ]
  },
  {
   "cell_type": "markdown",
   "id": "dd48477c-e79f-46b0-8182-3098eb884a3f",
   "metadata": {},
   "source": [
    "**ord-chr**\n",
    "\n",
    "- ord is the keyword which provide ASCII number of charcters\n",
    "\n",
    "- char is the keyword which provides charecters for given ASCII numbers"
   ]
  },
  {
   "cell_type": "code",
   "execution_count": 15,
   "id": "2b45055d-9959-4ccf-8d95-17afdc809187",
   "metadata": {},
   "outputs": [
    {
     "data": {
      "text/plain": [
       "(65, 97)"
      ]
     },
     "execution_count": 15,
     "metadata": {},
     "output_type": "execute_result"
    }
   ],
   "source": [
    "ord('A'),ord ('a')"
   ]
  },
  {
   "cell_type": "code",
   "execution_count": 17,
   "id": "4b866ccd-118d-4c84-8bd6-b1c9d8185caf",
   "metadata": {},
   "outputs": [
    {
     "data": {
      "text/plain": [
       "('A', 'a')"
      ]
     },
     "execution_count": 17,
     "metadata": {},
     "output_type": "execute_result"
    }
   ],
   "source": [
    "chr(65),chr(97)"
   ]
  },
  {
   "cell_type": "code",
   "execution_count": null,
   "id": "d4a94ff0-8bd7-4aef-a32a-7001c91c3d4b",
   "metadata": {},
   "outputs": [],
   "source": [
    "#  i want to print all ascii number of A to Z \n",
    "# using for loop\n",
    "ord('A')\n",
    "ord('B')\n",
    "ord('C')\n",
    "\n",
    "ord(i)"
   ]
  },
  {
   "cell_type": "markdown",
   "id": "3f147042-c638-4444-bfb9-6faeed58ec51",
   "metadata": {},
   "source": [
    "**PACKAGE NAME:string**"
   ]
  },
  {
   "cell_type": "code",
   "execution_count": 23,
   "id": "1abc20e1-a8f3-42a5-93a4-4744087bffd4",
   "metadata": {},
   "outputs": [
    {
     "data": {
      "text/plain": [
       "['Formatter',\n",
       " 'Template',\n",
       " '_ChainMap',\n",
       " '__all__',\n",
       " '__builtins__',\n",
       " '__cached__',\n",
       " '__doc__',\n",
       " '__file__',\n",
       " '__loader__',\n",
       " '__name__',\n",
       " '__package__',\n",
       " '__spec__',\n",
       " '_re',\n",
       " '_sentinel_dict',\n",
       " '_string',\n",
       " 'ascii_letters',\n",
       " 'ascii_lowercase',\n",
       " 'ascii_uppercase',\n",
       " 'capwords',\n",
       " 'digits',\n",
       " 'hexdigits',\n",
       " 'octdigits',\n",
       " 'printable',\n",
       " 'punctuation',\n",
       " 'whitespace']"
      ]
     },
     "execution_count": 23,
     "metadata": {},
     "output_type": "execute_result"
    }
   ],
   "source": [
    "import string\n",
    "dir(string)\n"
   ]
  },
  {
   "cell_type": "code",
   "execution_count": 26,
   "id": "fcf4c187-c821-4ac3-8185-cd4e82cc8e6a",
   "metadata": {},
   "outputs": [
    {
     "name": "stdout",
     "output_type": "stream",
     "text": [
      "abcdefghijklmnopqrstuvwxyzABCDEFGHIJKLMNOPQRSTUVWXYZ\n",
      "abcdefghijklmnopqrstuvwxyz\n",
      "ABCDEFGHIJKLMNOPQRSTUVWXYZ\n"
     ]
    }
   ],
   "source": [
    "print(string.ascii_letters)\n",
    "print(string.ascii_lowercase)\n",
    "print(string.ascii_uppercase)"
   ]
  },
  {
   "cell_type": "code",
   "execution_count": 33,
   "id": "a36afcf1-ebdd-45fb-b5e3-f2e9804eb583",
   "metadata": {},
   "outputs": [
    {
     "name": "stdout",
     "output_type": "stream",
     "text": [
      "97,98,99,100,101,102,103,104,105,106,107,108,109,110,111,112,113,114,115,116,117,118,119,120,121,122,65,66,67,68,69,70,71,72,73,74,75,76,77,78,79,80,81,82,83,84,85,86,87,88,89,90,"
     ]
    }
   ],
   "source": [
    "for i in string.ascii_letters:\n",
    "    print(ord(i),end=',')"
   ]
  },
  {
   "cell_type": "code",
   "execution_count": 36,
   "id": "8c06e49f-981d-49c9-aea7-057dfb6fa0eb",
   "metadata": {},
   "outputs": [
    {
     "name": "stdout",
     "output_type": "stream",
     "text": [
      "The ASCII value of A is 65\n",
      "The ASCII value of B is 66\n",
      "The ASCII value of C is 67\n",
      "The ASCII value of D is 68\n",
      "The ASCII value of E is 69\n",
      "The ASCII value of F is 70\n",
      "The ASCII value of G is 71\n",
      "The ASCII value of H is 72\n",
      "The ASCII value of I is 73\n",
      "The ASCII value of J is 74\n",
      "The ASCII value of K is 75\n",
      "The ASCII value of L is 76\n",
      "The ASCII value of M is 77\n",
      "The ASCII value of N is 78\n",
      "The ASCII value of O is 79\n",
      "The ASCII value of P is 80\n",
      "The ASCII value of Q is 81\n",
      "The ASCII value of R is 82\n",
      "The ASCII value of S is 83\n",
      "The ASCII value of T is 84\n",
      "The ASCII value of U is 85\n",
      "The ASCII value of V is 86\n",
      "The ASCII value of W is 87\n",
      "The ASCII value of X is 88\n",
      "The ASCII value of Y is 89\n",
      "The ASCII value of Z is 90\n"
     ]
    }
   ],
   "source": [
    "for i in string.ascii_uppercase:\n",
    "    print(f'The ASCII value of {i} is {ord(i)}')"
   ]
  },
  {
   "cell_type": "code",
   "execution_count": 38,
   "id": "97efa4c0-4534-494a-91d7-7b9667af643c",
   "metadata": {},
   "outputs": [
    {
     "name": "stdout",
     "output_type": "stream",
     "text": [
      "50 2\n",
      "51 3\n",
      "52 4\n",
      "53 5\n",
      "54 6\n",
      "55 7\n",
      "56 8\n",
      "57 9\n",
      "58 :\n",
      "59 ;\n",
      "60 <\n",
      "61 =\n",
      "62 >\n",
      "63 ?\n",
      "64 @\n",
      "65 A\n",
      "66 B\n",
      "67 C\n",
      "68 D\n",
      "69 E\n",
      "70 F\n",
      "71 G\n",
      "72 H\n",
      "73 I\n",
      "74 J\n",
      "75 K\n",
      "76 L\n",
      "77 M\n",
      "78 N\n",
      "79 O\n",
      "80 P\n",
      "81 Q\n",
      "82 R\n",
      "83 S\n",
      "84 T\n",
      "85 U\n",
      "86 V\n",
      "87 W\n",
      "88 X\n",
      "89 Y\n",
      "90 Z\n",
      "91 [\n",
      "92 \\\n",
      "93 ]\n",
      "94 ^\n",
      "95 _\n",
      "96 `\n",
      "97 a\n",
      "98 b\n",
      "99 c\n",
      "100 d\n",
      "101 e\n",
      "102 f\n",
      "103 g\n",
      "104 h\n",
      "105 i\n",
      "106 j\n",
      "107 k\n",
      "108 l\n",
      "109 m\n",
      "110 n\n",
      "111 o\n",
      "112 p\n",
      "113 q\n",
      "114 r\n",
      "115 s\n",
      "116 t\n",
      "117 u\n",
      "118 v\n",
      "119 w\n",
      "120 x\n",
      "121 y\n",
      "122 z\n",
      "123 {\n",
      "124 |\n",
      "125 }\n",
      "126 ~\n",
      "127 \n",
      "128 \n",
      "129 \n",
      "130 \n",
      "131 \n",
      "132 \n",
      "133 ",
      "\n",
      "134 \n",
      "135 \n",
      "136 \n",
      "137 \n",
      "138 \n",
      "139 \n",
      "140 \n",
      "141 \n",
      "142 \n",
      "143 \n",
      "144 \n",
      "145 \n",
      "146 \n",
      "147 \n",
      "148 \n",
      "149 \n"
     ]
    }
   ],
   "source": [
    "# i want to know ho many ascii number are available \n",
    "#65-90 A-Z\n",
    "#97-122 a-z\n",
    "\n",
    "for i in range(50,150):\n",
    "    print(i,chr(i))"
   ]
  },
  {
   "cell_type": "code",
   "execution_count": 39,
   "id": "7f626474-204f-4c4c-b900-08ca5085c63f",
   "metadata": {},
   "outputs": [
    {
     "name": "stdout",
     "output_type": "stream",
     "text": [
      "The ASCII value of 50 is 2\n",
      "The ASCII value of 51 is 3\n",
      "The ASCII value of 52 is 4\n",
      "The ASCII value of 53 is 5\n",
      "The ASCII value of 54 is 6\n",
      "The ASCII value of 55 is 7\n",
      "The ASCII value of 56 is 8\n",
      "The ASCII value of 57 is 9\n",
      "The ASCII value of 58 is :\n",
      "The ASCII value of 59 is ;\n",
      "The ASCII value of 60 is <\n",
      "The ASCII value of 61 is =\n",
      "The ASCII value of 62 is >\n",
      "The ASCII value of 63 is ?\n",
      "The ASCII value of 64 is @\n",
      "The ASCII value of 65 is A\n",
      "The ASCII value of 66 is B\n",
      "The ASCII value of 67 is C\n",
      "The ASCII value of 68 is D\n",
      "The ASCII value of 69 is E\n",
      "The ASCII value of 70 is F\n",
      "The ASCII value of 71 is G\n",
      "The ASCII value of 72 is H\n",
      "The ASCII value of 73 is I\n",
      "The ASCII value of 74 is J\n",
      "The ASCII value of 75 is K\n",
      "The ASCII value of 76 is L\n",
      "The ASCII value of 77 is M\n",
      "The ASCII value of 78 is N\n",
      "The ASCII value of 79 is O\n",
      "The ASCII value of 80 is P\n",
      "The ASCII value of 81 is Q\n",
      "The ASCII value of 82 is R\n",
      "The ASCII value of 83 is S\n",
      "The ASCII value of 84 is T\n",
      "The ASCII value of 85 is U\n",
      "The ASCII value of 86 is V\n",
      "The ASCII value of 87 is W\n",
      "The ASCII value of 88 is X\n",
      "The ASCII value of 89 is Y\n",
      "The ASCII value of 90 is Z\n",
      "The ASCII value of 91 is [\n",
      "The ASCII value of 92 is \\\n",
      "The ASCII value of 93 is ]\n",
      "The ASCII value of 94 is ^\n",
      "The ASCII value of 95 is _\n",
      "The ASCII value of 96 is `\n",
      "The ASCII value of 97 is a\n",
      "The ASCII value of 98 is b\n",
      "The ASCII value of 99 is c\n",
      "The ASCII value of 100 is d\n",
      "The ASCII value of 101 is e\n",
      "The ASCII value of 102 is f\n",
      "The ASCII value of 103 is g\n",
      "The ASCII value of 104 is h\n",
      "The ASCII value of 105 is i\n",
      "The ASCII value of 106 is j\n",
      "The ASCII value of 107 is k\n",
      "The ASCII value of 108 is l\n",
      "The ASCII value of 109 is m\n",
      "The ASCII value of 110 is n\n",
      "The ASCII value of 111 is o\n",
      "The ASCII value of 112 is p\n",
      "The ASCII value of 113 is q\n",
      "The ASCII value of 114 is r\n",
      "The ASCII value of 115 is s\n",
      "The ASCII value of 116 is t\n",
      "The ASCII value of 117 is u\n",
      "The ASCII value of 118 is v\n",
      "The ASCII value of 119 is w\n",
      "The ASCII value of 120 is x\n",
      "The ASCII value of 121 is y\n",
      "The ASCII value of 122 is z\n",
      "The ASCII value of 123 is {\n",
      "The ASCII value of 124 is |\n",
      "The ASCII value of 125 is }\n",
      "The ASCII value of 126 is ~\n",
      "The ASCII value of 127 is \n",
      "The ASCII value of 128 is \n",
      "The ASCII value of 129 is \n",
      "The ASCII value of 130 is \n",
      "The ASCII value of 131 is \n",
      "The ASCII value of 132 is \n",
      "The ASCII value of 133 is ",
      "\n",
      "The ASCII value of 134 is \n",
      "The ASCII value of 135 is \n",
      "The ASCII value of 136 is \n",
      "The ASCII value of 137 is \n",
      "The ASCII value of 138 is \n",
      "The ASCII value of 139 is \n",
      "The ASCII value of 140 is \n",
      "The ASCII value of 141 is \n",
      "The ASCII value of 142 is \n",
      "The ASCII value of 143 is \n",
      "The ASCII value of 144 is \n",
      "The ASCII value of 145 is \n",
      "The ASCII value of 146 is \n",
      "The ASCII value of 147 is \n",
      "The ASCII value of 148 is \n",
      "The ASCII value of 149 is \n"
     ]
    }
   ],
   "source": [
    "for i in range(50,150):\n",
    "    print(f'The ASCII value of {i} is {chr(i)}')"
   ]
  },
  {
   "cell_type": "code",
   "execution_count": 43,
   "id": "be363eb4-cebf-49bd-a296-75354d006b70",
   "metadata": {},
   "outputs": [
    {
     "name": "stdout",
     "output_type": "stream",
     "text": [
      "The ASCII value of 33 is !\n",
      "The ASCII value of 34 is \"\n",
      "The ASCII value of 35 is #\n",
      "The ASCII value of 36 is $\n",
      "The ASCII value of 37 is %\n",
      "The ASCII value of 38 is &\n",
      "The ASCII value of 39 is '\n",
      "The ASCII value of 40 is (\n",
      "The ASCII value of 41 is )\n",
      "The ASCII value of 42 is *\n",
      "The ASCII value of 43 is +\n",
      "The ASCII value of 44 is ,\n",
      "The ASCII value of 45 is -\n",
      "The ASCII value of 46 is .\n",
      "The ASCII value of 47 is /\n",
      "The ASCII value of 48 is 0\n",
      "The ASCII value of 49 is 1\n",
      "The ASCII value of 50 is 2\n",
      "The ASCII value of 51 is 3\n",
      "The ASCII value of 52 is 4\n",
      "The ASCII value of 53 is 5\n",
      "The ASCII value of 54 is 6\n",
      "The ASCII value of 55 is 7\n",
      "The ASCII value of 56 is 8\n",
      "The ASCII value of 57 is 9\n",
      "The ASCII value of 58 is :\n",
      "The ASCII value of 59 is ;\n",
      "The ASCII value of 60 is <\n",
      "The ASCII value of 61 is =\n",
      "The ASCII value of 62 is >\n",
      "The ASCII value of 63 is ?\n",
      "The ASCII value of 64 is @\n",
      "The ASCII value of 65 is A\n",
      "The ASCII value of 66 is B\n",
      "The ASCII value of 67 is C\n",
      "The ASCII value of 68 is D\n",
      "The ASCII value of 69 is E\n",
      "The ASCII value of 70 is F\n",
      "The ASCII value of 71 is G\n",
      "The ASCII value of 72 is H\n",
      "The ASCII value of 73 is I\n",
      "The ASCII value of 74 is J\n",
      "The ASCII value of 75 is K\n",
      "The ASCII value of 76 is L\n",
      "The ASCII value of 77 is M\n",
      "The ASCII value of 78 is N\n",
      "The ASCII value of 79 is O\n",
      "The ASCII value of 80 is P\n",
      "The ASCII value of 81 is Q\n",
      "The ASCII value of 82 is R\n",
      "The ASCII value of 83 is S\n",
      "The ASCII value of 84 is T\n",
      "The ASCII value of 85 is U\n",
      "The ASCII value of 86 is V\n",
      "The ASCII value of 87 is W\n",
      "The ASCII value of 88 is X\n",
      "The ASCII value of 89 is Y\n",
      "The ASCII value of 90 is Z\n",
      "The ASCII value of 91 is [\n",
      "The ASCII value of 92 is \\\n",
      "The ASCII value of 93 is ]\n",
      "The ASCII value of 94 is ^\n",
      "The ASCII value of 95 is _\n",
      "The ASCII value of 96 is `\n",
      "The ASCII value of 97 is a\n",
      "The ASCII value of 98 is b\n",
      "The ASCII value of 99 is c\n",
      "The ASCII value of 100 is d\n",
      "The ASCII value of 101 is e\n",
      "The ASCII value of 102 is f\n",
      "The ASCII value of 103 is g\n",
      "The ASCII value of 104 is h\n",
      "The ASCII value of 105 is i\n",
      "The ASCII value of 106 is j\n",
      "The ASCII value of 107 is k\n",
      "The ASCII value of 108 is l\n",
      "The ASCII value of 109 is m\n",
      "The ASCII value of 110 is n\n",
      "The ASCII value of 111 is o\n",
      "The ASCII value of 112 is p\n",
      "The ASCII value of 113 is q\n",
      "The ASCII value of 114 is r\n",
      "The ASCII value of 115 is s\n",
      "The ASCII value of 116 is t\n",
      "The ASCII value of 117 is u\n",
      "The ASCII value of 118 is v\n",
      "The ASCII value of 119 is w\n",
      "The ASCII value of 120 is x\n",
      "The ASCII value of 121 is y\n",
      "The ASCII value of 122 is z\n",
      "The ASCII value of 123 is {\n",
      "The ASCII value of 124 is |\n",
      "The ASCII value of 125 is }\n",
      "The ASCII value of 126 is ~\n"
     ]
    }
   ],
   "source": [
    "for i in range(33,127):                                 #start for33 and end 126 is last\n",
    "    print(f'The ASCII value of {i} is {chr(i)}')"
   ]
  },
  {
   "cell_type": "code",
   "execution_count": null,
   "id": "4c16bab5-c818-44fc-9dc3-5c2c33411a7c",
   "metadata": {},
   "outputs": [],
   "source": []
  },
  {
   "cell_type": "code",
   "execution_count": null,
   "id": "51cf725e-e31c-4d29-acfc-bc8691660abf",
   "metadata": {},
   "outputs": [],
   "source": []
  },
  {
   "cell_type": "code",
   "execution_count": null,
   "id": "8f9b35d4-b315-4ae7-885a-44480c87b007",
   "metadata": {},
   "outputs": [],
   "source": []
  },
  {
   "cell_type": "code",
   "execution_count": null,
   "id": "b4228108-49c9-4834-9264-3c4095788386",
   "metadata": {},
   "outputs": [],
   "source": []
  },
  {
   "cell_type": "code",
   "execution_count": null,
   "id": "cb1dbf23-ac57-4288-adb0-ac194ff85a6b",
   "metadata": {},
   "outputs": [],
   "source": []
  },
  {
   "cell_type": "code",
   "execution_count": null,
   "id": "297c75ea-cbe6-47a3-8e14-6ffbcc58f16e",
   "metadata": {},
   "outputs": [],
   "source": []
  },
  {
   "cell_type": "code",
   "execution_count": null,
   "id": "dc3bc1de-b64a-4d6f-bd9a-5e2f3dff4ada",
   "metadata": {},
   "outputs": [],
   "source": []
  },
  {
   "cell_type": "code",
   "execution_count": null,
   "id": "351d1915-b3df-4d21-adec-1748301ea7f2",
   "metadata": {},
   "outputs": [],
   "source": []
  },
  {
   "cell_type": "code",
   "execution_count": null,
   "id": "13b20a4b-dcd8-4626-9e63-4b2a8f5deea4",
   "metadata": {},
   "outputs": [],
   "source": []
  }
 ],
 "metadata": {
  "kernelspec": {
   "display_name": "Python 3 (ipykernel)",
   "language": "python",
   "name": "python3"
  },
  "language_info": {
   "codemirror_mode": {
    "name": "ipython",
    "version": 3
   },
   "file_extension": ".py",
   "mimetype": "text/x-python",
   "name": "python",
   "nbconvert_exporter": "python",
   "pygments_lexer": "ipython3",
   "version": "3.11.7"
  }
 },
 "nbformat": 4,
 "nbformat_minor": 5
}
