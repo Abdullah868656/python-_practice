{
 "cells": [
  {
   "cell_type": "code",
   "execution_count": null,
   "id": "985c8a10-a628-4d74-80e1-97bb320d58b2",
   "metadata": {},
   "outputs": [],
   "source": [
    "**Dictionary**\n",
    "\n"
   ]
  },
  {
   "cell_type": "code",
   "execution_count": 1,
   "id": "9dd37dcb-4805-45ac-92b6-6c9708c84f29",
   "metadata": {},
   "outputs": [
    {
     "name": "stdout",
     "output_type": "stream",
     "text": [
      "the Manish age is 25\n",
      "the Shuba age is 20\n",
      "the Govindh age is 15\n"
     ]
    }
   ],
   "source": [
    "name=['Manish','Shuba','Govindh']\n",
    "age=[25,20,15]\n",
    "for i,j in zip(name,age):\n",
    "    print(f\"the {i} age is {j}\")"
   ]
  },
  {
   "cell_type": "code",
   "execution_count": 2,
   "id": "19fb4023-1e72-4cf7-9ff1-ef950521035c",
   "metadata": {},
   "outputs": [
    {
     "data": {
      "text/plain": [
       "{'Manish': 25, 'Shubam': 20, 'Govindh': 15}"
      ]
     },
     "execution_count": 2,
     "metadata": {},
     "output_type": "execute_result"
    }
   ],
   "source": [
    "# {<key>:<value>}\n",
    "dict1={'Manish':25,'Shubam':20,'Govindh':15}\n",
    "dict1"
   ]
  },
  {
   "cell_type": "code",
   "execution_count": 3,
   "id": "7a845388-f4ab-4b56-a32f-60af750cc8c9",
   "metadata": {},
   "outputs": [],
   "source": [
    "# key are : Manish, Shubam,Govindh\n",
    "# value are : 25,20,15\n",
    "# Manish and 25 together\n"
   ]
  },
  {
   "cell_type": "code",
   "execution_count": 4,
   "id": "cc7b221b-bef3-4308-845b-9bac41c79ae4",
   "metadata": {},
   "outputs": [
    {
     "data": {
      "text/plain": [
       "dict"
      ]
     },
     "execution_count": 4,
     "metadata": {},
     "output_type": "execute_result"
    }
   ],
   "source": [
    "type(dict1)"
   ]
  },
  {
   "cell_type": "code",
   "execution_count": 5,
   "id": "15c09e31-2b85-4282-8388-83e7937798ef",
   "metadata": {},
   "outputs": [
    {
     "ename": "SyntaxError",
     "evalue": "invalid syntax (3386135207.py, line 1)",
     "output_type": "error",
     "traceback": [
      "\u001b[1;36m  Cell \u001b[1;32mIn[5], line 1\u001b[1;36m\u001b[0m\n\u001b[1;33m    quotes for 25??\u001b[0m\n\u001b[1;37m           ^\u001b[0m\n\u001b[1;31mSyntaxError\u001b[0m\u001b[1;31m:\u001b[0m invalid syntax\n"
     ]
    }
   ],
   "source": [
    "quotes for 25??"
   ]
  },
  {
   "cell_type": "code",
   "execution_count": 11,
   "id": "cf59dcdc-52fc-416b-9070-4f2eba05717e",
   "metadata": {},
   "outputs": [
    {
     "data": {
      "text/plain": [
       "{'Manish': 25, 'Shubam': 20, 'Govindh': 15}"
      ]
     },
     "execution_count": 11,
     "metadata": {},
     "output_type": "execute_result"
    }
   ],
   "source": [
    "d1={'Manish':25,'Shubam':20,'Govindh':15}\n",
    "d1"
   ]
  },
  {
   "cell_type": "code",
   "execution_count": 13,
   "id": "69961ec7-6e27-4dd6-9633-c79034e9c42d",
   "metadata": {},
   "outputs": [
    {
     "data": {
      "text/plain": [
       "{'Manish': '25', 'Shubam': '20', 'Govindh': '15'}"
      ]
     },
     "execution_count": 13,
     "metadata": {},
     "output_type": "execute_result"
    }
   ],
   "source": [
    "d2={'Manish':'25','Shubam':'20','Govindh':'15'}\n",
    "d2"
   ]
  },
  {
   "cell_type": "code",
   "execution_count": null,
   "id": "44e00a65-8af6-45aa-9a93-66dc54efec01",
   "metadata": {},
   "outputs": [],
   "source": [
    "d3"
   ]
  },
  {
   "cell_type": "code",
   "execution_count": null,
   "id": "7f249dff-63df-4e88-bbcc-5a7ff448e7a0",
   "metadata": {},
   "outputs": [],
   "source": []
  },
  {
   "cell_type": "code",
   "execution_count": null,
   "id": "583c5530-c897-48c3-8ccc-552c1708eea7",
   "metadata": {},
   "outputs": [],
   "source": []
  },
  {
   "cell_type": "code",
   "execution_count": null,
   "id": "628e391c-c9cd-4dd8-a488-6360cb8402c6",
   "metadata": {},
   "outputs": [],
   "source": []
  },
  {
   "cell_type": "code",
   "execution_count": null,
   "id": "f94dab5b-b1b4-459f-87a1-97ed0b2a5632",
   "metadata": {},
   "outputs": [],
   "source": []
  },
  {
   "cell_type": "code",
   "execution_count": 14,
   "id": "3d1dc2bd-e122-4607-afc2-3d0d5bcd8724",
   "metadata": {},
   "outputs": [
    {
     "data": {
      "text/plain": [
       "{'Ajay': 30}"
      ]
     },
     "execution_count": 14,
     "metadata": {},
     "output_type": "execute_result"
    }
   ],
   "source": [
    "d7={'Ajay':25,'Ajay':30}\n",
    "d7"
   ]
  },
  {
   "cell_type": "code",
   "execution_count": 15,
   "id": "de816e4e-b135-40c7-93c3-5462c9546038",
   "metadata": {},
   "outputs": [
    {
     "data": {
      "text/plain": [
       "{25: 'Ajay', 30: 'Ajay'}"
      ]
     },
     "execution_count": 15,
     "metadata": {},
     "output_type": "execute_result"
    }
   ],
   "source": [
    "d8={25:'Ajay',30:'Ajay'}\n",
    "d8"
   ]
  },
  {
   "cell_type": "code",
   "execution_count": null,
   "id": "fde04cb5-7fae-468f-bcd3-1ca096b8d622",
   "metadata": {},
   "outputs": [],
   "source": [
    "d9={25:'Ajay',30:{}}"
   ]
  },
  {
   "cell_type": "markdown",
   "id": "c3d45759-5220-4bc6-8e5f-48cf628ff62a",
   "metadata": {},
   "source": [
    "- **keys are important**\n",
    "\n",
    "- Keys have only latest value\n",
    "\n",
    "- No duplicate keys\n",
    "\n",
    "- Keys should be only one\n",
    "\n",
    "- value can be deplicate\n",
    "\n",
    "- Which means different keys can have same value\n",
    "\n",
    "- List can not be a key\n",
    "\n",
    "- tuple can be a key"
   ]
  },
  {
   "cell_type": "code",
   "execution_count": null,
   "id": "61536819-631d-451d-9c41-8b4592926a51",
   "metadata": {},
   "outputs": [],
   "source": [
    "- min\n",
    "\n",
    "- max\n",
    "\n",
    "- len\n",
    "\n",
    "- sorted\n",
    "\n",
    "- reversed\n"
   ]
  },
  {
   "cell_type": "code",
   "execution_count": null,
   "id": "e6f1e90e-30a3-4a00-8492-8122e1c7d2c6",
   "metadata": {},
   "outputs": [],
   "source": [
    "for i in d1:\n",
    "    print(f\"{i} \"1)\n"
   ]
  },
  {
   "cell_type": "code",
   "execution_count": 10,
   "id": "bffdbd95-f30e-4d36-9e64-f2756343a540",
   "metadata": {},
   "outputs": [
    {
     "data": {
      "text/plain": [
       "'Apple'"
      ]
     },
     "execution_count": 10,
     "metadata": {},
     "output_type": "execute_result"
    }
   ],
   "source": [
    "# How to access elements\n",
    "d1={'Fruites':['Apple']}\n",
    "d1['Fruites'][0]"
   ]
  },
  {
   "cell_type": "code",
   "execution_count": 11,
   "id": "a663f0a0-17a7-4c29-a9f8-4c462d1aa823",
   "metadata": {},
   "outputs": [
    {
     "data": {
      "text/plain": [
       "{'Fruites': {'Apple': ['Kashmir']}}"
      ]
     },
     "execution_count": 11,
     "metadata": {},
     "output_type": "execute_result"
    }
   ],
   "source": [
    "d1={'Fruites':{\"Apple\":['Kashmir']}}\n",
    "d1"
   ]
  },
  {
   "cell_type": "code",
   "execution_count": 12,
   "id": "baef0889-6c7f-414b-a39b-88cc4f43f661",
   "metadata": {},
   "outputs": [
    {
     "data": {
      "text/plain": [
       "['Kashmir']"
      ]
     },
     "execution_count": 12,
     "metadata": {},
     "output_type": "execute_result"
    }
   ],
   "source": [
    "d1['Fruites']['Apple']"
   ]
  },
  {
   "cell_type": "code",
   "execution_count": 14,
   "id": "cda36af1-f30f-4968-b294-b4c5aa0dfcd5",
   "metadata": {},
   "outputs": [
    {
     "data": {
      "text/plain": [
       "'Kashmir'"
      ]
     },
     "execution_count": 14,
     "metadata": {},
     "output_type": "execute_result"
    }
   ],
   "source": [
    "d1['Fruites']['Apple'][0]"
   ]
  },
  {
   "cell_type": "code",
   "execution_count": 25,
   "id": "9d49a086-42f6-4387-a055-0d530084a901",
   "metadata": {},
   "outputs": [
    {
     "data": {
      "text/plain": [
       "{'Fruites': {'Apple': [{'Kashmir': 'india'}, {'Hyd': 'TS'}]}}"
      ]
     },
     "execution_count": 25,
     "metadata": {},
     "output_type": "execute_result"
    }
   ],
   "source": [
    "d1={'Fruites':{\"Apple\":[\n",
    "                     {'Kashmir':'india'},\n",
    "                     {'Hyd':'TS'}\n",
    "                     ]\n",
    "               }\n",
    "   }\n",
    "d1"
   ]
  },
  {
   "cell_type": "code",
   "execution_count": 26,
   "id": "8c7359dd-c432-46bf-b1bb-a825da4bfd65",
   "metadata": {},
   "outputs": [
    {
     "data": {
      "text/plain": [
       "{'Apple': [{'Kashmir': 'india'}, {'Hyd': 'TS'}]}"
      ]
     },
     "execution_count": 26,
     "metadata": {},
     "output_type": "execute_result"
    }
   ],
   "source": [
    "d1['Fruites']"
   ]
  },
  {
   "cell_type": "code",
   "execution_count": 27,
   "id": "1ea3ec4f-96c3-4561-a53c-0920299b5235",
   "metadata": {},
   "outputs": [
    {
     "data": {
      "text/plain": [
       "[{'Kashmir': 'india'}, {'Hyd': 'TS'}]"
      ]
     },
     "execution_count": 27,
     "metadata": {},
     "output_type": "execute_result"
    }
   ],
   "source": [
    "d1['Fruites']['Apple']"
   ]
  },
  {
   "cell_type": "code",
   "execution_count": 28,
   "id": "639672f0-7a57-4d91-b853-b2dcc3ab9fc0",
   "metadata": {},
   "outputs": [
    {
     "data": {
      "text/plain": [
       "{'Kashmir': 'india'}"
      ]
     },
     "execution_count": 28,
     "metadata": {},
     "output_type": "execute_result"
    }
   ],
   "source": [
    "d1['Fruites']['Apple'][0]"
   ]
  },
  {
   "cell_type": "code",
   "execution_count": 31,
   "id": "9de5293a-1fb5-449a-b0de-cf2ef68be579",
   "metadata": {},
   "outputs": [
    {
     "data": {
      "text/plain": [
       "'india'"
      ]
     },
     "execution_count": 31,
     "metadata": {},
     "output_type": "execute_result"
    }
   ],
   "source": [
    "d1['Fruites']['Apple'][0]['Kashmir']"
   ]
  },
  {
   "cell_type": "code",
   "execution_count": 32,
   "id": "a86a6258-c9fa-4093-b5ca-2f05c659452a",
   "metadata": {},
   "outputs": [
    {
     "data": {
      "text/plain": [
       "{'Fruites': {'Mango': {'Benganpalli': {'Nagpur market': {'MH': {'Shivaji'}}}}}}"
      ]
     },
     "execution_count": 32,
     "metadata": {},
     "output_type": "execute_result"
    }
   ],
   "source": [
    "d1={'Fruites':{\"Apple\":[\n",
    "                     {'Kashmir':'india'},\n",
    "                     {'Hyd':'TS'}\n",
    "                     ]\n",
    "               }\n",
    "   }\n",
    "d1\n",
    "d1={'Fruites':{'Mango':{'Benganpalli':{'Nagpur market':{'MH':{'Shivaji'}}}}}}\n",
    "d1"
   ]
  },
  {
   "cell_type": "code",
   "execution_count": 33,
   "id": "8055bf24-eec6-42cd-b376-1a1932127ceb",
   "metadata": {},
   "outputs": [
    {
     "data": {
      "text/plain": [
       "{'Mango': {'Benganpalli': {'Nagpur market': {'MH': {'Shivaji'}}}}}"
      ]
     },
     "execution_count": 33,
     "metadata": {},
     "output_type": "execute_result"
    }
   ],
   "source": [
    "d1['Fruites']"
   ]
  },
  {
   "cell_type": "code",
   "execution_count": 34,
   "id": "360737c2-dd14-4a17-8d63-a13cf33a7cdc",
   "metadata": {},
   "outputs": [
    {
     "data": {
      "text/plain": [
       "{'Benganpalli': {'Nagpur market': {'MH': {'Shivaji'}}}}"
      ]
     },
     "execution_count": 34,
     "metadata": {},
     "output_type": "execute_result"
    }
   ],
   "source": [
    "d1['Fruites']['Mango']"
   ]
  },
  {
   "cell_type": "code",
   "execution_count": 36,
   "id": "95bb0d41-fcaa-475c-abb1-c0b455c1413f",
   "metadata": {},
   "outputs": [
    {
     "data": {
      "text/plain": [
       "{'Nagpur market': {'MH': {'Shivaji'}}}"
      ]
     },
     "execution_count": 36,
     "metadata": {},
     "output_type": "execute_result"
    }
   ],
   "source": [
    "d1['Fruites']['Mango']['Benganpalli']"
   ]
  },
  {
   "cell_type": "code",
   "execution_count": 37,
   "id": "bbc6da47-ebef-4113-b904-b777a5eaadbe",
   "metadata": {},
   "outputs": [
    {
     "data": {
      "text/plain": [
       "{'MH': {'Shivaji'}}"
      ]
     },
     "execution_count": 37,
     "metadata": {},
     "output_type": "execute_result"
    }
   ],
   "source": [
    "d1['Fruites']['Mango']['Benganpalli']['Nagpur market']"
   ]
  },
  {
   "cell_type": "code",
   "execution_count": 38,
   "id": "278c97ab-56c6-46bc-ada9-fa93330727ec",
   "metadata": {},
   "outputs": [
    {
     "data": {
      "text/plain": [
       "{'Shivaji'}"
      ]
     },
     "execution_count": 38,
     "metadata": {},
     "output_type": "execute_result"
    }
   ],
   "source": [
    "d1['Fruites']['Mango']['Benganpalli']['Nagpur market']['MH']"
   ]
  },
  {
   "cell_type": "code",
   "execution_count": 39,
   "id": "3b5bbffc-8574-42d9-934e-2cf1516d86dd",
   "metadata": {},
   "outputs": [
    {
     "data": {
      "text/plain": [
       "1"
      ]
     },
     "execution_count": 39,
     "metadata": {},
     "output_type": "execute_result"
    }
   ],
   "source": [
    "len(d1)"
   ]
  },
  {
   "cell_type": "markdown",
   "id": "7bd1895b-27fd-4bfa-a397-9a18dcff77be",
   "metadata": {},
   "source": [
    "**How to create empty dictionary**\n",
    "\n",
    "- it is very important to know to make empty list\n",
    "\n",
    "- how to make empty string\n",
    "\n",
    "- how to make empty dictionary\n"
   ]
  },
  {
   "cell_type": "code",
   "execution_count": null,
   "id": "43eb552b-a88c-4269-b2cc-1a9c946a0336",
   "metadata": {},
   "outputs": [],
   "source": [
    "str1='python'\n",
    "str2=''\n",
    "for i in str1:\n",
    "    str2=str2+i\n",
    "    "
   ]
  },
  {
   "cell_type": "code",
   "execution_count": 42,
   "id": "63036dc1-1f8d-408e-80d0-e3a80756da74",
   "metadata": {},
   "outputs": [
    {
     "data": {
      "text/plain": [
       "[1, 2, 3, 4]"
      ]
     },
     "execution_count": 42,
     "metadata": {},
     "output_type": "execute_result"
    }
   ],
   "source": [
    "l1=[1,2,3,4]\n",
    "l2=[]\n",
    "for i in l1:\n",
    "    l2.append(i)\n",
    "l2"
   ]
  },
  {
   "cell_type": "code",
   "execution_count": 46,
   "id": "4081c58b-22e1-4fb7-bbf1-a29076d0c1a3",
   "metadata": {},
   "outputs": [
    {
     "data": {
      "text/plain": [
       "{'Ramesh': 50, 'Rahman': 100}"
      ]
     },
     "execution_count": 46,
     "metadata": {},
     "output_type": "execute_result"
    }
   ],
   "source": [
    "d={}\n",
    "d['Ramesh']=50\n",
    "d['Rahman']=100\n",
    "d"
   ]
  },
  {
   "cell_type": "markdown",
   "id": "7f69bec6-827b-4ed4-8cf6-65d591c8dbd0",
   "metadata": {},
   "source": [
    "**Convert string to list**"
   ]
  },
  {
   "cell_type": "code",
   "execution_count": 50,
   "id": "882ab359-9c25-4438-8e78-7a98bb1e7bef",
   "metadata": {},
   "outputs": [
    {
     "data": {
      "text/plain": [
       "['hai', 'how', 'are', 'you']"
      ]
     },
     "execution_count": 50,
     "metadata": {},
     "output_type": "execute_result"
    }
   ],
   "source": [
    "str1='hai how are you'\n",
    "l=str1.split()\n",
    "l"
   ]
  },
  {
   "cell_type": "markdown",
   "id": "57f7d087-2e1f-4960-a57f-67606152b339",
   "metadata": {},
   "source": [
    "**join:convert list to string**"
   ]
  },
  {
   "cell_type": "code",
   "execution_count": null,
   "id": "87d2a37e-8b89-43bd-ac32-ae10d1544ee1",
   "metadata": {},
   "outputs": [],
   "source": [
    "l=['hai','how','are','you']\n",
    "new_str=\n",
    "new_str"
   ]
  },
  {
   "cell_type": "markdown",
   "id": "34cf66c4-28e8-4ffb-af90-814cc39bd396",
   "metadata": {},
   "source": [
    "**we have two list to convert into dictonary**\n"
   ]
  },
  {
   "cell_type": "code",
   "execution_count": 54,
   "id": "b6bf855f-a0f9-44a2-bb4a-5bab2b5777e5",
   "metadata": {},
   "outputs": [
    {
     "data": {
      "text/plain": [
       "{'Ramesh': 25, 'suresh': 30, 'Manish': 35}"
      ]
     },
     "execution_count": 54,
     "metadata": {},
     "output_type": "execute_result"
    }
   ],
   "source": [
    "name=['Ramesh','suresh','Manish']\n",
    "age=[25,30,35]\n",
    "d={}\n",
    "for i,j in zip (name,age):\n",
    "    d[i]=j\n",
    "d"
   ]
  },
  {
   "cell_type": "code",
   "execution_count": 55,
   "id": "5578d036-7b3d-457c-a5fa-3235cf95fd8b",
   "metadata": {},
   "outputs": [
    {
     "data": {
      "text/plain": [
       "['what', 'is', 'your', 'name']"
      ]
     },
     "execution_count": 55,
     "metadata": {},
     "output_type": "execute_result"
    }
   ],
   "source": [
    "str1= 'what is your name'\n",
    "l=str1.split()\n",
    "l"
   ]
  },
  {
   "cell_type": "code",
   "execution_count": 57,
   "id": "b275891e-686e-43da-8687-f221afc880f5",
   "metadata": {},
   "outputs": [
    {
     "data": {
      "text/plain": [
       "['__add__',\n",
       " '__class__',\n",
       " '__class_getitem__',\n",
       " '__contains__',\n",
       " '__delattr__',\n",
       " '__dir__',\n",
       " '__doc__',\n",
       " '__eq__',\n",
       " '__format__',\n",
       " '__ge__',\n",
       " '__getattribute__',\n",
       " '__getitem__',\n",
       " '__getnewargs__',\n",
       " '__getstate__',\n",
       " '__gt__',\n",
       " '__hash__',\n",
       " '__init__',\n",
       " '__init_subclass__',\n",
       " '__iter__',\n",
       " '__le__',\n",
       " '__len__',\n",
       " '__lt__',\n",
       " '__mul__',\n",
       " '__ne__',\n",
       " '__new__',\n",
       " '__reduce__',\n",
       " '__reduce_ex__',\n",
       " '__repr__',\n",
       " '__rmul__',\n",
       " '__setattr__',\n",
       " '__sizeof__',\n",
       " '__str__',\n",
       " '__subclasshook__',\n",
       " 'count',\n",
       " 'index']"
      ]
     },
     "execution_count": 57,
     "metadata": {},
     "output_type": "execute_result"
    }
   ],
   "source": [
    "#dir('') #string\n",
    "#dir([])  #list\n",
    "#dir({})  #dic\n",
    "dir(())  #tuble\n"
   ]
  },
  {
   "cell_type": "markdown",
   "id": "38f670a0-eb86-49c8-a0ec-92e0761cc4f2",
   "metadata": {},
   "source": [
    "**items keys value**\n",
    "\n",
    "- items means both and values comes together\n",
    "\n",
    "- keys means only dictionary keys\n",
    "\n",
    "- values means dicginary values"
   ]
  },
  {
   "cell_type": "code",
   "execution_count": 62,
   "id": "e6441baa-c86d-4a90-982b-bd234e4e15e2",
   "metadata": {},
   "outputs": [
    {
     "data": {
      "text/plain": [
       "dict_items([('Ramesh', 50), ('Suresh', 100), ('Sathish', 150), ('Manishh', 200)])"
      ]
     },
     "execution_count": 62,
     "metadata": {},
     "output_type": "execute_result"
    }
   ],
   "source": [
    "d={'Ramesh':50,'Suresh':100,'Sathish':150,'Manishh':200}\n",
    "it=d.items()\n",
    "it"
   ]
  },
  {
   "cell_type": "code",
   "execution_count": null,
   "id": "671ebe59-325b-418d-bdd7-051ca095207d",
   "metadata": {},
   "outputs": [],
   "source": [
    "for i in items_list:\n",
    "    print(i{0},i{1})\n",
    "\n"
   ]
  },
  {
   "cell_type": "code",
   "execution_count": 68,
   "id": "14826e2f-4e45-47c7-b74d-f771ee5bbcad",
   "metadata": {},
   "outputs": [
    {
     "ename": "NameError",
     "evalue": "name 'items_list' is not defined",
     "output_type": "error",
     "traceback": [
      "\u001b[1;31m---------------------------------------------------------------------------\u001b[0m",
      "\u001b[1;31mNameError\u001b[0m                                 Traceback (most recent call last)",
      "Cell \u001b[1;32mIn[68], line 4\u001b[0m\n\u001b[0;32m      2\u001b[0m name\u001b[38;5;241m=\u001b[39m[]\n\u001b[0;32m      3\u001b[0m age\u001b[38;5;241m=\u001b[39m[]\n\u001b[1;32m----> 4\u001b[0m \u001b[38;5;28;01mfor\u001b[39;00m i \u001b[38;5;129;01min\u001b[39;00m items_list:\n\u001b[0;32m      5\u001b[0m     name\u001b[38;5;241m.\u001b[39mappend(i[\u001b[38;5;241m0\u001b[39m])\n\u001b[0;32m      6\u001b[0m     age\u001b[38;5;241m.\u001b[39mappend(i[\u001b[38;5;241m1\u001b[39m])\n",
      "\u001b[1;31mNameError\u001b[0m: name 'items_list' is not defined"
     ]
    }
   ],
   "source": [
    "item_list=\n",
    "name=[]\n",
    "age=[]\n",
    "for i in items_list:\n",
    "    name.append(i[0])\n",
    "    age.append(i[1])\n",
    "name"
   ]
  },
  {
   "cell_type": "code",
   "execution_count": 66,
   "id": "3d54fa1c-a333-470c-b4a8-e95cc5fe515f",
   "metadata": {},
   "outputs": [
    {
     "data": {
      "text/plain": [
       "'abcdefghijklmnopqrstuvwxyz'"
      ]
     },
     "execution_count": 66,
     "metadata": {},
     "output_type": "execute_result"
    }
   ],
   "source": [
    "import string\n",
    "dir(string)\n",
    "string.ascii_lowercase\n",
    "\n",
    "#step-1:create lowercase letters list using string package\n",
    "#step-2: create a digits list 1 to 26\n",
    "#step-3: create a dictionary{'a':1,'b':2,.....'z':26}\n",
    "#step-4: enter a string: hai\n",
    "#step-5: output: 8-1-9"
   ]
  },
  {
   "cell_type": "code",
   "execution_count": null,
   "id": "8c52c155-2a5d-45a9-80cd-23f84a12522f",
   "metadata": {},
   "outputs": [],
   "source": [
    "# Methods of the dictionary"
   ]
  },
  {
   "cell_type": "code",
   "execution_count": null,
   "id": "68d9be0f-a423-4eaa-87dc-6692aa09825a",
   "metadata": {},
   "outputs": [],
   "source": []
  },
  {
   "cell_type": "code",
   "execution_count": null,
   "id": "6cbed96d-674f-4606-9e68-284ef35ff939",
   "metadata": {},
   "outputs": [],
   "source": []
  },
  {
   "cell_type": "code",
   "execution_count": null,
   "id": "2e755acf-74e6-4f8c-b55b-34fa16990767",
   "metadata": {},
   "outputs": [],
   "source": []
  },
  {
   "cell_type": "code",
   "execution_count": null,
   "id": "7885c48e-e27f-441c-8b8b-634a61db9411",
   "metadata": {},
   "outputs": [],
   "source": []
  },
  {
   "cell_type": "code",
   "execution_count": null,
   "id": "ca0fdc3f-f77b-4166-ba7d-1a1323da07fe",
   "metadata": {},
   "outputs": [],
   "source": []
  },
  {
   "cell_type": "code",
   "execution_count": null,
   "id": "de50fb44-0781-4562-8c40-86c0012ecb47",
   "metadata": {},
   "outputs": [],
   "source": []
  },
  {
   "cell_type": "code",
   "execution_count": null,
   "id": "bd47e91a-49c2-4504-8763-e7fd90b542b1",
   "metadata": {},
   "outputs": [],
   "source": []
  }
 ],
 "metadata": {
  "kernelspec": {
   "display_name": "Python 3 (ipykernel)",
   "language": "python",
   "name": "python3"
  },
  "language_info": {
   "codemirror_mode": {
    "name": "ipython",
    "version": 3
   },
   "file_extension": ".py",
   "mimetype": "text/x-python",
   "name": "python",
   "nbconvert_exporter": "python",
   "pygments_lexer": "ipython3",
   "version": "3.11.7"
  }
 },
 "nbformat": 4,
 "nbformat_minor": 5
}
