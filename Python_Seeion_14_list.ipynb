{
 "cells": [
  {
   "cell_type": "markdown",
   "id": "03704a2e-0028-4e36-a93c-855577cbd872",
   "metadata": {},
   "source": [
    "- How to display\n",
    "\n",
    "- type\n",
    "\n",
    "- len\n",
    "\n",
    "- max\n",
    "\n",
    "- min\n",
    "\n",
    "- sum\n",
    "\n",
    "- reversed\n",
    "\n",
    "- sorted\n",
    "\n",
    "- in\n",
    "\n",
    "- not in\n",
    "\n",
    "- index\n",
    "\n",
    "- for loop\n",
    "\n",
    "- mutable\n",
    "\n",
    "- slice\n",
    "\n",
    "- concatenation\n",
    "\n",
    "- methods\n",
    "- "
   ]
  },
  {
   "cell_type": "code",
   "execution_count": 1,
   "id": "7b58203c-99c6-48a9-bce3-0e5389e4bb3b",
   "metadata": {},
   "outputs": [
    {
     "data": {
      "text/plain": [
       "[1, 2, 3, 4]"
      ]
     },
     "execution_count": 1,
     "metadata": {},
     "output_type": "execute_result"
    }
   ],
   "source": [
    "list1=[1,2,3,4]\n",
    "list1"
   ]
  },
  {
   "cell_type": "code",
   "execution_count": 2,
   "id": "9e6529ff-2e58-4b78-8fdb-401c958d243a",
   "metadata": {},
   "outputs": [
    {
     "data": {
      "text/plain": [
       "list"
      ]
     },
     "execution_count": 2,
     "metadata": {},
     "output_type": "execute_result"
    }
   ],
   "source": [
    "type(list1)"
   ]
  },
  {
   "cell_type": "code",
   "execution_count": 3,
   "id": "ae2deea8-ec91-44e2-8811-2da3641ede27",
   "metadata": {},
   "outputs": [
    {
     "data": {
      "text/plain": [
       "['Apple', 'Ball', 'Cat']"
      ]
     },
     "execution_count": 3,
     "metadata": {},
     "output_type": "execute_result"
    }
   ],
   "source": [
    "list2=['Apple','Ball','Cat']\n",
    "list2"
   ]
  },
  {
   "cell_type": "code",
   "execution_count": 5,
   "id": "5cd67ce9-97fa-4e39-93ce-97a0cb2fabea",
   "metadata": {},
   "outputs": [
    {
     "data": {
      "text/plain": [
       "[1, 2, 3, 'Apple', 'Ball', 'Cat']"
      ]
     },
     "execution_count": 5,
     "metadata": {},
     "output_type": "execute_result"
    }
   ],
   "source": [
    "list3=[1,2,3,'Apple','Ball','Cat']\n",
    "list3"
   ]
  },
  {
   "cell_type": "code",
   "execution_count": 13,
   "id": "db158a37-593b-40ce-abd7-d4a39debd022",
   "metadata": {},
   "outputs": [
    {
     "ename": "SyntaxError",
     "evalue": "unmatched ']' (2205316233.py, line 1)",
     "output_type": "error",
     "traceback": [
      "\u001b[1;36m  Cell \u001b[1;32mIn[13], line 1\u001b[1;36m\u001b[0m\n\u001b[1;33m    list4=[]1,'Apple',10.5,True]\u001b[0m\n\u001b[1;37m                               ^\u001b[0m\n\u001b[1;31mSyntaxError\u001b[0m\u001b[1;31m:\u001b[0m unmatched ']'\n"
     ]
    }
   ],
   "source": [
    "list4=[]1,'Apple',10.5,True]\n",
    "list4"
   ]
  },
  {
   "cell_type": "code",
   "execution_count": 11,
   "id": "a11f8799-9d7d-4bee-aab8-693104289291",
   "metadata": {},
   "outputs": [
    {
     "data": {
      "text/plain": [
       "['Apple', 'Ball', [1, 2, 3]]"
      ]
     },
     "execution_count": 11,
     "metadata": {},
     "output_type": "execute_result"
    }
   ],
   "source": [
    "list5=['Apple','Ball',[1,2,3]]\n",
    "list5"
   ]
  },
  {
   "cell_type": "code",
   "execution_count": 8,
   "id": "919949cb-63ec-4048-a4f6-2b0932672b45",
   "metadata": {},
   "outputs": [
    {
     "data": {
      "text/plain": [
       "['Apple', 'Ball', [1, 2, 3]]"
      ]
     },
     "execution_count": 8,
     "metadata": {},
     "output_type": "execute_result"
    }
   ],
   "source": [
    "list6=['Apple','Ball',[1,2,3]]\n",
    "list6"
   ]
  },
  {
   "cell_type": "markdown",
   "id": "3d823ef6-56dd-4602-979b-7e0b4fd596b3",
   "metadata": {},
   "source": [
    "- list item can be heterogeous\n",
    "\n",
    "  - which means list items can be all data types\n",
    " \n",
    "- list oitems can be duplicate\n",
    "\n",
    "  - which means list csn have some value   "
   ]
  },
  {
   "cell_type": "markdown",
   "id": "89d926da-1529-4875-87d4-89143de7be15",
   "metadata": {},
   "source": [
    "$length$"
   ]
  },
  {
   "cell_type": "code",
   "execution_count": 17,
   "id": "66ac561b-1e13-4ffc-aa06-fd3c97433816",
   "metadata": {},
   "outputs": [
    {
     "data": {
      "text/plain": [
       "3"
      ]
     },
     "execution_count": 17,
     "metadata": {},
     "output_type": "execute_result"
    }
   ],
   "source": [
    "len(list6)"
   ]
  },
  {
   "cell_type": "markdown",
   "id": "1ae92048-fd4e-482d-b0e6-9b2d8274a30e",
   "metadata": {},
   "source": [
    "$max$"
   ]
  },
  {
   "cell_type": "code",
   "execution_count": 22,
   "id": "f8348d83-80af-412f-bc1d-0de92b684514",
   "metadata": {},
   "outputs": [
    {
     "data": {
      "text/plain": [
       "4"
      ]
     },
     "execution_count": 22,
     "metadata": {},
     "output_type": "execute_result"
    }
   ],
   "source": [
    "max(list1)"
   ]
  },
  {
   "cell_type": "markdown",
   "id": "8b996705-9ebf-4473-ae02-6b625d076689",
   "metadata": {},
   "source": [
    "$min$"
   ]
  },
  {
   "cell_type": "code",
   "execution_count": 24,
   "id": "7b8dd0a4-445d-4ab0-8cf9-a4ab1bb09c47",
   "metadata": {},
   "outputs": [
    {
     "data": {
      "text/plain": [
       "1"
      ]
     },
     "execution_count": 24,
     "metadata": {},
     "output_type": "execute_result"
    }
   ],
   "source": [
    "min(list1)"
   ]
  },
  {
   "cell_type": "markdown",
   "id": "402f8251-abb2-4c98-a0e9-79bf2f03dba9",
   "metadata": {},
   "source": [
    "$sum$"
   ]
  },
  {
   "cell_type": "code",
   "execution_count": 25,
   "id": "f7733b9d-8f2d-428f-9552-e061966cd1ef",
   "metadata": {},
   "outputs": [
    {
     "data": {
      "text/plain": [
       "10"
      ]
     },
     "execution_count": 25,
     "metadata": {},
     "output_type": "execute_result"
    }
   ],
   "source": [
    "sum(list1)"
   ]
  },
  {
   "cell_type": "code",
   "execution_count": 27,
   "id": "460f32ef-0fab-4e1a-8805-1abf139b1bde",
   "metadata": {},
   "outputs": [
    {
     "ename": "TypeError",
     "evalue": "unsupported operand type(s) for +: 'int' and 'str'",
     "output_type": "error",
     "traceback": [
      "\u001b[1;31m---------------------------------------------------------------------------\u001b[0m",
      "\u001b[1;31mTypeError\u001b[0m                                 Traceback (most recent call last)",
      "Cell \u001b[1;32mIn[27], line 1\u001b[0m\n\u001b[1;32m----> 1\u001b[0m \u001b[38;5;28msum\u001b[39m(list3)\n",
      "\u001b[1;31mTypeError\u001b[0m: unsupported operand type(s) for +: 'int' and 'str'"
     ]
    }
   ],
   "source": [
    "sum(list3     #   not work because its have string sum is for number "
   ]
  },
  {
   "cell_type": "markdown",
   "id": "32278528-2f9e-46c3-84e1-61e2b4e0e2ea",
   "metadata": {},
   "source": [
    "$reversed$"
   ]
  },
  {
   "cell_type": "code",
   "execution_count": 29,
   "id": "9a83941d-5356-494d-8255-ee3f2084aa8f",
   "metadata": {},
   "outputs": [
    {
     "ename": "NameError",
     "evalue": "name 'list5_reversed' is not defined",
     "output_type": "error",
     "traceback": [
      "\u001b[1;31m---------------------------------------------------------------------------\u001b[0m",
      "\u001b[1;31mNameError\u001b[0m                                 Traceback (most recent call last)",
      "Cell \u001b[1;32mIn[29], line 1\u001b[0m\n\u001b[1;32m----> 1\u001b[0m list5_reversed\n",
      "\u001b[1;31mNameError\u001b[0m: name 'list5_reversed' is not defined"
     ]
    }
   ],
   "source": [
    "reversed"
   ]
  },
  {
   "cell_type": "code",
   "execution_count": 30,
   "id": "a6f33123-831d-42af-b473-79ed66c0cc9d",
   "metadata": {},
   "outputs": [
    {
     "data": {
      "text/plain": [
       "'Apple'"
      ]
     },
     "execution_count": 30,
     "metadata": {},
     "output_type": "execute_result"
    }
   ],
   "source": [
    "list2[0]"
   ]
  },
  {
   "cell_type": "code",
   "execution_count": null,
   "id": "149181bf-05f6-464e-a98f-ee99d0fcd24b",
   "metadata": {},
   "outputs": [],
   "source": [
    "#postive index\n",
    "#negative index\n",
    "#podtive and negative"
   ]
  },
  {
   "cell_type": "code",
   "execution_count": 31,
   "id": "b227b2d2-af93-4e9e-90e2-37d4bab9a8a1",
   "metadata": {},
   "outputs": [
    {
     "name": "stdout",
     "output_type": "stream",
     "text": [
      "2\n",
      "3\n",
      "4\n"
     ]
    },
    {
     "ename": "IndexError",
     "evalue": "list index out of range",
     "output_type": "error",
     "traceback": [
      "\u001b[1;31m---------------------------------------------------------------------------\u001b[0m",
      "\u001b[1;31mIndexError\u001b[0m                                Traceback (most recent call last)",
      "Cell \u001b[1;32mIn[31], line 2\u001b[0m\n\u001b[0;32m      1\u001b[0m \u001b[38;5;28;01mfor\u001b[39;00m i \u001b[38;5;129;01min\u001b[39;00m list1:\n\u001b[1;32m----> 2\u001b[0m     \u001b[38;5;28mprint\u001b[39m(list1[i])\n",
      "\u001b[1;31mIndexError\u001b[0m: list index out of range"
     ]
    }
   ],
   "source": [
    "for i in list1:\n",
    "    print(list1[i])"
   ]
  },
  {
   "cell_type": "code",
   "execution_count": 32,
   "id": "f7ed2598-ea2d-45dc-91c2-8f51cb9ba50b",
   "metadata": {},
   "outputs": [
    {
     "name": "stdout",
     "output_type": "stream",
     "text": [
      "10\n",
      "20\n",
      "30\n",
      "40\n"
     ]
    }
   ],
   "source": [
    "list1=[10,20,30,40]\n",
    "for i in range(len(list1)):\n",
    "    print(list1[i])"
   ]
  },
  {
   "cell_type": "code",
   "execution_count": 34,
   "id": "564ced0e-6390-479d-8f3d-add903715710",
   "metadata": {},
   "outputs": [
    {
     "data": {
      "text/plain": [
       "1"
      ]
     },
     "execution_count": 34,
     "metadata": {},
     "output_type": "execute_result"
    }
   ],
   "source": [
    "#list of squre beraket of squre beraket\n",
    "list1=[[1]]\n",
    "list1[0][0]"
   ]
  },
  {
   "cell_type": "code",
   "execution_count": 35,
   "id": "6db370c7-84c5-431c-821a-8d58c3d0ae00",
   "metadata": {},
   "outputs": [
    {
     "data": {
      "text/plain": [
       "[10]"
      ]
     },
     "execution_count": 35,
     "metadata": {},
     "output_type": "execute_result"
    }
   ],
   "source": [
    "list1=[1,2,3,[10]]\n",
    "list1[3]\n"
   ]
  },
  {
   "cell_type": "code",
   "execution_count": 37,
   "id": "0e938101-e2c3-441c-a998-f61db8491e1a",
   "metadata": {},
   "outputs": [
    {
     "data": {
      "text/plain": [
       "10"
      ]
     },
     "execution_count": 37,
     "metadata": {},
     "output_type": "execute_result"
    }
   ],
   "source": [
    "list1[3][0]"
   ]
  },
  {
   "cell_type": "code",
   "execution_count": 40,
   "id": "1fb68f0e-8608-46c5-9ae5-281fa09570c1",
   "metadata": {},
   "outputs": [
    {
     "data": {
      "text/plain": [
       "4"
      ]
     },
     "execution_count": 40,
     "metadata": {},
     "output_type": "execute_result"
    }
   ],
   "source": [
    "list1=[1,2,3,['A',['B']]]\n",
    "len(list1)"
   ]
  },
  {
   "cell_type": "code",
   "execution_count": 42,
   "id": "a0f7e049-35ab-40fc-a691-3c12007c33c4",
   "metadata": {},
   "outputs": [
    {
     "data": {
      "text/plain": [
       "['A', ['B']]"
      ]
     },
     "execution_count": 42,
     "metadata": {},
     "output_type": "execute_result"
    }
   ],
   "source": [
    "list1[3]"
   ]
  },
  {
   "cell_type": "code",
   "execution_count": 43,
   "id": "2659d278-9414-4fe0-a95d-2d2b17d8b802",
   "metadata": {},
   "outputs": [
    {
     "data": {
      "text/plain": [
       "['B']"
      ]
     },
     "execution_count": 43,
     "metadata": {},
     "output_type": "execute_result"
    }
   ],
   "source": [
    "list1[3][1]"
   ]
  },
  {
   "cell_type": "code",
   "execution_count": 44,
   "id": "5120c88a-5432-48df-9977-10d57bc0f6f4",
   "metadata": {},
   "outputs": [
    {
     "data": {
      "text/plain": [
       "'B'"
      ]
     },
     "execution_count": 44,
     "metadata": {},
     "output_type": "execute_result"
    }
   ],
   "source": [
    "list1[3][1][0]"
   ]
  },
  {
   "cell_type": "code",
   "execution_count": 48,
   "id": "a8253055-3a99-4ed4-9c84-c92ef30cd8a4",
   "metadata": {},
   "outputs": [
    {
     "ename": "SyntaxError",
     "evalue": "'[' was never closed (410140615.py, line 1)",
     "output_type": "error",
     "traceback": [
      "\u001b[1;36m  Cell \u001b[1;32mIn[48], line 1\u001b[1;36m\u001b[0m\n\u001b[1;33m    list1=[1,2,3,['Apple',['Fruites',['Cherry']]]\u001b[0m\n\u001b[1;37m          ^\u001b[0m\n\u001b[1;31mSyntaxError\u001b[0m\u001b[1;31m:\u001b[0m '[' was never closed\n"
     ]
    }
   ],
   "source": [
    "list1=[1,2,3,['Apple',['Fruites',['Cherry']]]\n",
    "len(list1)"
   ]
  },
  {
   "cell_type": "code",
   "execution_count": 51,
   "id": "2ef9c04c-6997-4492-ba81-e0bbad15f8fa",
   "metadata": {},
   "outputs": [
    {
     "data": {
      "text/plain": [
       "4"
      ]
     },
     "execution_count": 51,
     "metadata": {},
     "output_type": "execute_result"
    }
   ],
   "source": [
    "list1=[1,2,3,['Apple',['Fruites',['Cherry']]]]\n",
    "len(list1)"
   ]
  },
  {
   "cell_type": "code",
   "execution_count": 52,
   "id": "262f26aa-5a33-43fa-b1ac-c3e7ed6d73ae",
   "metadata": {},
   "outputs": [
    {
     "data": {
      "text/plain": [
       "['Cherry']"
      ]
     },
     "execution_count": 52,
     "metadata": {},
     "output_type": "execute_result"
    }
   ],
   "source": [
    "list1[3][1][1]"
   ]
  },
  {
   "cell_type": "code",
   "execution_count": 53,
   "id": "1a4eac0e-8125-43de-b6e0-d4be0bdf45a7",
   "metadata": {},
   "outputs": [
    {
     "data": {
      "text/plain": [
       "'Cherry'"
      ]
     },
     "execution_count": 53,
     "metadata": {},
     "output_type": "execute_result"
    }
   ],
   "source": [
    "list1[3][1][1][0]"
   ]
  },
  {
   "cell_type": "code",
   "execution_count": 54,
   "id": "bf82e8e7-6cd5-402f-b399-75bf126c2ff4",
   "metadata": {},
   "outputs": [],
   "source": [
    "list1=[[[1,2,3,['Apple',['Fruites',['Mango',['Cherry']]]]]]]\n"
   ]
  },
  {
   "cell_type": "code",
   "execution_count": 57,
   "id": "ac3a45a7-4702-4e5f-b870-fb06e88b6257",
   "metadata": {},
   "outputs": [
    {
     "data": {
      "text/plain": [
       "1"
      ]
     },
     "execution_count": 57,
     "metadata": {},
     "output_type": "execute_result"
    }
   ],
   "source": [
    "len(list1)"
   ]
  },
  {
   "cell_type": "code",
   "execution_count": 58,
   "id": "c6b36c4a-3268-4013-b316-95dcb45382c0",
   "metadata": {},
   "outputs": [
    {
     "ename": "IndexError",
     "evalue": "list index out of range",
     "output_type": "error",
     "traceback": [
      "\u001b[1;31m---------------------------------------------------------------------------\u001b[0m",
      "\u001b[1;31mIndexError\u001b[0m                                Traceback (most recent call last)",
      "Cell \u001b[1;32mIn[58], line 1\u001b[0m\n\u001b[1;32m----> 1\u001b[0m \u001b[38;5;28mlen\u001b[39m(list1[\u001b[38;5;241m3\u001b[39m])\n",
      "\u001b[1;31mIndexError\u001b[0m: list index out of range"
     ]
    }
   ],
   "source": [
    "len(list1[3])"
   ]
  },
  {
   "cell_type": "code",
   "execution_count": 66,
   "id": "2fa48687-3f9a-420a-82e7-8ee29bcd92cb",
   "metadata": {},
   "outputs": [
    {
     "data": {
      "text/plain": [
       "'Cherry'"
      ]
     },
     "execution_count": 66,
     "metadata": {},
     "output_type": "execute_result"
    }
   ],
   "source": [
    "list1[0][0][3][1][1][1][0]"
   ]
  },
  {
   "cell_type": "markdown",
   "id": "a58de64c-e122-4f97-8ee9-ddef9787ad8a",
   "metadata": {},
   "source": [
    "# mutable - unmutable"
   ]
  },
  {
   "cell_type": "code",
   "execution_count": 1,
   "id": "537d2789-0e33-479d-afd5-2a105fd60101",
   "metadata": {},
   "outputs": [
    {
     "data": {
      "text/plain": [
       "27"
      ]
     },
     "execution_count": 1,
     "metadata": {},
     "output_type": "execute_result"
    }
   ],
   "source": [
    "3**3"
   ]
  },
  {
   "cell_type": "code",
   "execution_count": 2,
   "id": "81248d12-11af-447a-9573-a0ac843fceb5",
   "metadata": {},
   "outputs": [
    {
     "data": {
      "text/plain": [
       "3"
      ]
     },
     "execution_count": 2,
     "metadata": {},
     "output_type": "execute_result"
    }
   ],
   "source": [
    "3*1**3"
   ]
  },
  {
   "cell_type": "code",
   "execution_count": null,
   "id": "63c452d0-9f87-4015-aed7-37cc1a2b3257",
   "metadata": {},
   "outputs": [],
   "source": [
    "- python mutable concept always based on index\n",
    "\n",
    "- list are "
   ]
  },
  {
   "cell_type": "code",
   "execution_count": null,
   "id": "abb1ebec-8ddf-41de-a7fa-f0ae91583055",
   "metadata": {},
   "outputs": [],
   "source": [
    "- type\n",
    "\n",
    "- \n",
    "\n",
    "- revesrd\n",
    "\n",
    "- sorted\n",
    "\n",
    "- index\n",
    "\n",
    "- for loop\n"
   ]
  },
  {
   "cell_type": "markdown",
   "id": "8bcdba1d-0ca8-4472-9f78-504112196f5d",
   "metadata": {},
   "source": [
    "$concatenation$"
   ]
  },
  {
   "cell_type": "code",
   "execution_count": 4,
   "id": "2eff0793-00e2-48c1-a41d-8e6661a97b89",
   "metadata": {},
   "outputs": [
    {
     "data": {
      "text/plain": [
       "[1, 2, 3, 4, 10, 20, 30, 40]"
      ]
     },
     "execution_count": 4,
     "metadata": {},
     "output_type": "execute_result"
    }
   ],
   "source": [
    "l1=[1,2,3,4]\n",
    "l2=[10,20,30,40]\n",
    "l1+l2"
   ]
  },
  {
   "cell_type": "code",
   "execution_count": null,
   "id": "70bd7bd4-4256-45f8-8a51-5ad05462fb93",
   "metadata": {},
   "outputs": [],
   "source": [
    "l1+l2"
   ]
  },
  {
   "cell_type": "markdown",
   "id": "0dabf87a-130b-4ac6-aa08-7eab7212e502",
   "metadata": {},
   "source": [
    "# method"
   ]
  },
  {
   "cell_type": "code",
   "execution_count": 9,
   "id": "ea0fa32b-fa91-4039-b924-498b715462f2",
   "metadata": {},
   "outputs": [
    {
     "data": {
      "text/plain": [
       "['__add__',\n",
       " '__class__',\n",
       " '__class_getitem__',\n",
       " '__contains__',\n",
       " '__delattr__',\n",
       " '__delitem__',\n",
       " '__dir__',\n",
       " '__doc__',\n",
       " '__eq__',\n",
       " '__format__',\n",
       " '__ge__',\n",
       " '__getattribute__',\n",
       " '__getitem__',\n",
       " '__getstate__',\n",
       " '__gt__',\n",
       " '__hash__',\n",
       " '__iadd__',\n",
       " '__imul__',\n",
       " '__init__',\n",
       " '__init_subclass__',\n",
       " '__iter__',\n",
       " '__le__',\n",
       " '__len__',\n",
       " '__lt__',\n",
       " '__mul__',\n",
       " '__ne__',\n",
       " '__new__',\n",
       " '__reduce__',\n",
       " '__reduce_ex__',\n",
       " '__repr__',\n",
       " '__reversed__',\n",
       " '__rmul__',\n",
       " '__setattr__',\n",
       " '__setitem__',\n",
       " '__sizeof__',\n",
       " '__str__',\n",
       " '__subclasshook__',\n",
       " 'append',\n",
       " 'clear',\n",
       " 'copy',\n",
       " 'count',\n",
       " 'extend',\n",
       " 'index',\n",
       " 'insert',\n",
       " 'pop',\n",
       " 'remove',\n",
       " 'reverse',\n",
       " 'sort']"
      ]
     },
     "execution_count": 9,
     "metadata": {},
     "output_type": "execute_result"
    }
   ],
   "source": [
    "dir([])"
   ]
  },
  {
   "cell_type": "code",
   "execution_count": null,
   "id": "03d86ebd-4b8d-4149-a1e0-cbc2a366af4d",
   "metadata": {},
   "outputs": [],
   "source": [
    "'append',\n",
    " 'clear',\n",
    " 'copy',\n",
    " 'count',\n",
    " 'extend',\n",
    " 'index',\n",
    " 'insert',\n",
    " 'pop',\n",
    " 'remove',\n",
    " 'reverse',\n",
    " 'sort'"
   ]
  },
  {
   "cell_type": "markdown",
   "id": "6aab45b1-33dd-419e-b99a-8fc5952bf475",
   "metadata": {},
   "source": [
    "**append**\n",
    "\n",
    "- append means adding a number at the end of the list\n",
    "\n",
    "- append is a basic method we will use many time inour code\n",
    "\n",
    "- append is use mainly to store the result\n",
    "\n",
    "- append the values overwrite"
   ]
  },
  {
   "cell_type": "code",
   "execution_count": 12,
   "id": "fd839a52-6193-4e9a-97ec-f5449acfec9b",
   "metadata": {},
   "outputs": [
    {
     "data": {
      "text/plain": [
       "'four'"
      ]
     },
     "execution_count": 12,
     "metadata": {},
     "output_type": "execute_result"
    }
   ],
   "source": [
    "number=['one','two','three','four','five']\n",
    "number[3]"
   ]
  },
  {
   "cell_type": "code",
   "execution_count": 14,
   "id": "5642e8e9-43c7-42c2-90ea-4fddf944d503",
   "metadata": {},
   "outputs": [
    {
     "data": {
      "text/plain": [
       "[1, 2, 3, 4, 100]"
      ]
     },
     "execution_count": 14,
     "metadata": {},
     "output_type": "execute_result"
    }
   ],
   "source": [
    "l=[1,2,3,4]\n",
    "l.append(100)\n",
    "l"
   ]
  },
  {
   "cell_type": "code",
   "execution_count": 15,
   "id": "ee135403-d7b4-446a-80f2-731d72792c3d",
   "metadata": {},
   "outputs": [],
   "source": [
    "l=[]\n",
    "l.append(10)\n",
    "l.append('apple')"
   ]
  },
  {
   "cell_type": "code",
   "execution_count": 16,
   "id": "034ed5c4-098f-4277-bf93-0b6a0e458253",
   "metadata": {},
   "outputs": [
    {
     "data": {
      "text/plain": [
       "[10, 'apple']"
      ]
     },
     "execution_count": 16,
     "metadata": {},
     "output_type": "execute_result"
    }
   ],
   "source": [
    "l"
   ]
  },
  {
   "cell_type": "code",
   "execution_count": null,
   "id": "ba38cc95-12d9-4316-899b-311b2ee78810",
   "metadata": {},
   "outputs": [],
   "source": [
    "#Q1) wap ask the user print 1,5 number square\n",
    "# save the result in a list"
   ]
  },
  {
   "cell_type": "code",
   "execution_count": 17,
   "id": "3f4b81b9-86a7-4170-89bd-02a79090de4f",
   "metadata": {},
   "outputs": [
    {
     "name": "stdout",
     "output_type": "stream",
     "text": [
      "1\n",
      "4\n",
      "9\n",
      "16\n",
      "25\n"
     ]
    }
   ],
   "source": [
    "for i in range(1,6):\n",
    "    print(i*i)"
   ]
  },
  {
   "cell_type": "code",
   "execution_count": 18,
   "id": "2136d7b2-dd3d-4959-8c4d-ee34e060ead5",
   "metadata": {},
   "outputs": [
    {
     "data": {
      "text/plain": [
       "[1, 4, 9, 16, 25]"
      ]
     },
     "execution_count": 18,
     "metadata": {},
     "output_type": "execute_result"
    }
   ],
   "source": [
    "l=[]\n",
    "for i in range(1,6):\n",
    "    l.append(i*i)\n",
    "l"
   ]
  },
  {
   "cell_type": "code",
   "execution_count": null,
   "id": "59035b1e-5217-4ac4-bcbe-46b2a376fd49",
   "metadata": {},
   "outputs": [],
   "source": [
    "#Q2) l= ['Hyd','blr','Chennai','pune']\n",
    "# output =['Hyd','chennai']\n",
    "\n",
    "# istitle\n",
    "# step1: make one empty list\n",
    "# step2: iterate each word from list \n",
    "# step3: apply is title method if condition\n",
    "# step4: if that condition is satify\n",
    "# step5: then append the result in empty"
   ]
  },
  {
   "cell_type": "code",
   "execution_count": 21,
   "id": "7829fbd6-795e-41fd-9c80-9f4194dc1143",
   "metadata": {},
   "outputs": [
    {
     "data": {
      "text/plain": [
       "True"
      ]
     },
     "execution_count": 21,
     "metadata": {},
     "output_type": "execute_result"
    }
   ],
   "source": [
    "'Hyd'.istitle()"
   ]
  },
  {
   "cell_type": "code",
   "execution_count": 22,
   "id": "9a6c8901-0bd3-447d-9313-53f5db998e59",
   "metadata": {},
   "outputs": [
    {
     "data": {
      "text/plain": [
       "['Hyd', 'Chennai']"
      ]
     },
     "execution_count": 22,
     "metadata": {},
     "output_type": "execute_result"
    }
   ],
   "source": [
    "l=['Hyd','blr','Chennai','pune']\n",
    "out=[]\n",
    "for i in l:\n",
    "    if i.istitle():\n",
    "        out.append(i)\n",
    "out"
   ]
  },
  {
   "cell_type": "code",
   "execution_count": 21,
   "id": "37de6a56-d3c0-4b73-8c91-3b35d5be8c2f",
   "metadata": {},
   "outputs": [],
   "source": [
    "#Q3) l['Hyd','blr','chennai','Pune']\n",
    "# out =[Hyd, Pune]"
   ]
  },
  {
   "cell_type": "code",
   "execution_count": 23,
   "id": "252a7be6-86c1-43d6-b7a0-8153612cb7ba",
   "metadata": {},
   "outputs": [
    {
     "data": {
      "text/plain": [
       "[]"
      ]
     },
     "execution_count": 23,
     "metadata": {},
     "output_type": "execute_result"
    }
   ],
   "source": [
    "l=['Hyd','blr','chennai','Pune']\n",
    "out=[]\n",
    "for i in l:\n",
    "    if i.isupper():\n",
    "         out.append(i)\n",
    "out"
   ]
  },
  {
   "cell_type": "code",
   "execution_count": null,
   "id": "1f990033-5ee0-419c-a8d7-eb2bd6c52e98",
   "metadata": {},
   "outputs": [],
   "source": [
    "#Q4) l=[]"
   ]
  },
  {
   "cell_type": "code",
   "execution_count": 40,
   "id": "009a61cb-b5a3-45c1-a254-079a8965f60f",
   "metadata": {},
   "outputs": [
    {
     "data": {
      "text/plain": [
       "['bl#r', 'che#nnai']"
      ]
     },
     "execution_count": 40,
     "metadata": {},
     "output_type": "execute_result"
    }
   ],
   "source": [
    "l=['Hyd','bl#r','che#nnai','Pune']\n",
    "out=[]\n",
    "for i in l:\n",
    "    if'#'in i:\n",
    "        out.append(i)\n",
    "out"
   ]
  },
  {
   "cell_type": "code",
   "execution_count": null,
   "id": "8617ef58-5a32-463c-b474-a89d0eccfb27",
   "metadata": {},
   "outputs": [],
   "source": [
    "#Q5)l=['Hyd','blr','Chennai','Pune']\n",
    "#out =['Chennai']\n",
    "# >4"
   ]
  },
  {
   "cell_type": "code",
   "execution_count": 39,
   "id": "bc969051-b41d-4ee6-91ce-8f4b969d0320",
   "metadata": {},
   "outputs": [
    {
     "data": {
      "text/plain": [
       "['chennai']"
      ]
     },
     "execution_count": 39,
     "metadata": {},
     "output_type": "execute_result"
    }
   ],
   "source": [
    "l=['Hyd','blr','Chennai','Pune']\n",
    "out=[]\n",
    "for i in l:\n",
    "    if len(i)>4:\n",
    "        out.append(i)\n",
    "out"
   ]
  },
  {
   "cell_type": "code",
   "execution_count": null,
   "id": "b883e271-ed09-40de-be08-b7b3e4c3ed1c",
   "metadata": {},
   "outputs": [],
   "source": [
    "# Q6) can canner can not a can but canner can you make a can \n",
    "# find out the each  word how many time repeatend\n",
    "#step1 :split it \n",
    "# step2: iterate it\n",
    "#step3: we have to count method (count should not use)"
   ]
  },
  {
   "cell_type": "code",
   "execution_count": 2,
   "id": "34ba659a-b75e-44d1-b37f-b0cf5a05deea",
   "metadata": {},
   "outputs": [],
   "source": [
    "s='can canner can not a can but canner can you make a can '\n"
   ]
  },
  {
   "cell_type": "code",
   "execution_count": 3,
   "id": "2bf7d9d1-da93-4b75-8740-7ed92740cebd",
   "metadata": {},
   "outputs": [],
   "source": [
    "#Q7):wap ask the user get the even and odd number\n",
    "#   you want 5 number\n",
    "#   5 number  randomly\n",
    "#   even list and odd list\n",
    "#   append the odd number in even list\n",
    "#   append the odd number in odd list"
   ]
  },
  {
   "cell_type": "code",
   "execution_count": 4,
   "id": "4cfc604e-b54b-41a6-be76-89cc0a10a97b",
   "metadata": {},
   "outputs": [
    {
     "name": "stdout",
     "output_type": "stream",
     "text": [
      "can 1\n",
      "can 1\n",
      "can 2\n",
      "can 2\n",
      "can 2\n",
      "can 3\n",
      "can 3\n",
      "can 3\n",
      "can 4\n",
      "can 4\n",
      "can 4\n",
      "can 4\n",
      "can 5\n",
      "canner 0\n",
      "canner 1\n",
      "canner 1\n",
      "canner 1\n",
      "canner 1\n",
      "canner 1\n",
      "canner 1\n",
      "canner 2\n",
      "canner 2\n",
      "canner 2\n",
      "canner 2\n",
      "canner 2\n",
      "canner 2\n",
      "can 1\n",
      "can 1\n",
      "can 2\n",
      "can 2\n",
      "can 2\n",
      "can 3\n",
      "can 3\n",
      "can 3\n",
      "can 4\n",
      "can 4\n",
      "can 4\n",
      "can 4\n",
      "can 5\n",
      "not 0\n",
      "not 0\n",
      "not 0\n",
      "not 1\n",
      "not 1\n",
      "not 1\n",
      "not 1\n",
      "not 1\n",
      "not 1\n",
      "not 1\n",
      "not 1\n",
      "not 1\n",
      "not 1\n",
      "a 0\n",
      "a 0\n",
      "a 0\n",
      "a 0\n",
      "a 1\n",
      "a 1\n",
      "a 1\n",
      "a 1\n",
      "a 1\n",
      "a 1\n",
      "a 1\n",
      "a 2\n",
      "a 2\n",
      "can 1\n",
      "can 1\n",
      "can 2\n",
      "can 2\n",
      "can 2\n",
      "can 3\n",
      "can 3\n",
      "can 3\n",
      "can 4\n",
      "can 4\n",
      "can 4\n",
      "can 4\n",
      "can 5\n",
      "but 0\n",
      "but 0\n",
      "but 0\n",
      "but 0\n",
      "but 0\n",
      "but 0\n",
      "but 1\n",
      "but 1\n",
      "but 1\n",
      "but 1\n",
      "but 1\n",
      "but 1\n",
      "but 1\n",
      "canner 0\n",
      "canner 1\n",
      "canner 1\n",
      "canner 1\n",
      "canner 1\n",
      "canner 1\n",
      "canner 1\n",
      "canner 2\n",
      "canner 2\n",
      "canner 2\n",
      "canner 2\n",
      "canner 2\n",
      "canner 2\n",
      "can 1\n",
      "can 1\n",
      "can 2\n",
      "can 2\n",
      "can 2\n",
      "can 3\n",
      "can 3\n",
      "can 3\n",
      "can 4\n",
      "can 4\n",
      "can 4\n",
      "can 4\n",
      "can 5\n",
      "you 0\n",
      "you 0\n",
      "you 0\n",
      "you 0\n",
      "you 0\n",
      "you 0\n",
      "you 0\n",
      "you 0\n",
      "you 0\n",
      "you 1\n",
      "you 1\n",
      "you 1\n",
      "you 1\n",
      "make 0\n",
      "make 0\n",
      "make 0\n",
      "make 0\n",
      "make 0\n",
      "make 0\n",
      "make 0\n",
      "make 0\n",
      "make 0\n",
      "make 0\n",
      "make 1\n",
      "make 1\n",
      "make 1\n",
      "a 0\n",
      "a 0\n",
      "a 0\n",
      "a 0\n",
      "a 1\n",
      "a 1\n",
      "a 1\n",
      "a 1\n",
      "a 1\n",
      "a 1\n",
      "a 1\n",
      "a 2\n",
      "a 2\n",
      "can 1\n",
      "can 1\n",
      "can 2\n",
      "can 2\n",
      "can 2\n",
      "can 3\n",
      "can 3\n",
      "can 3\n",
      "can 4\n",
      "can 4\n",
      "can 4\n",
      "can 4\n",
      "can 5\n"
     ]
    }
   ],
   "source": [
    "l=s.split()\n",
    "for i in l :\n",
    "    count=0\n",
    "    for j in l:\n",
    "        if i==j:\n",
    "            count=count+1\n",
    "        print(i,count)"
   ]
  },
  {
   "cell_type": "code",
   "execution_count": null,
   "id": "6b1fc616-3cbc-4953-9891-2291809a864b",
   "metadata": {},
   "outputs": [],
   "source": [
    "import random\n",
    "odd_list=[]\n",
    "even_list=[]\n",
    "for i in range():\n",
    "    ["
   ]
  },
  {
   "cell_type": "code",
   "execution_count": null,
   "id": "25ef63d2-eeb0-40cc-8797-f97c837da120",
   "metadata": {},
   "outputs": [],
   "source": [
    "l=['apple','cat','dog','ball']\n",
    "# sort oit with out sort method\n",
    "\n",
    "\n",
    "l=[10,15,2,25,89]\n",
    "\n",
    "#find the max word find the min word\n",
    "\n",
    "l1=[1,2,3,4]\n",
    "l2=[10,20,30,40]\n",
    "out=[11,22,33,44]\n",
    "\n",
    "l1=[1,2,3,4,5]\n",
    "l2=[10,20,30,40]\n",
    "out=[11,22,33,44,5]\n",
    "\n",
    "s='hello how are you imgood at python in naresh it'\n",
    "find the maximun length word \n",
    "find the minimum length word\n",
    "find most repeated word"
   ]
  },
  {
   "cell_type": "markdown",
   "id": "ce5c9be3-9e1d-402e-9c22-cbfccbe7e905",
   "metadata": {},
   "source": [
    "$List comprehensions$"
   ]
  },
  {
   "cell_type": "code",
   "execution_count": 6,
   "id": "39a542c4-52af-4edd-8c16-0d1eab335d6b",
   "metadata": {},
   "outputs": [],
   "source": [
    "# Q1) wap ask the use print 1,5 number number square\n",
    "# save the result in a list\n",
    "l=[]\n",
    "for i in range (1,6):\n",
    "    l.append(i*i)\n",
    "\n"
   ]
  },
  {
   "cell_type": "code",
   "execution_count": null,
   "id": "dbde8b77-3748-4b6e-bb10-29eda3371173",
   "metadata": {},
   "outputs": [],
   "source": [
    "$pattern-1$\n",
    "\n",
    "**only for loop **\n",
    "\n",
    "# syntax\n",
    "l=[<output>_<forloop>]"
   ]
  },
  {
   "cell_type": "code",
   "execution_count": 7,
   "id": "0503c002-7fd3-46ee-bffc-933112de3428",
   "metadata": {},
   "outputs": [],
   "source": [
    "l=[]\n",
    "for i in range (1,6):\n",
    "    l.append(i*i)\n",
    "l1=[i*i for i in range (1,6)]"
   ]
  },
  {
   "cell_type": "code",
   "execution_count": 8,
   "id": "baf21101-c188-4269-a2eb-3bd201e8c63f",
   "metadata": {},
   "outputs": [
    {
     "data": {
      "text/plain": [
       "[1, 4, 9, 16, 25]"
      ]
     },
     "execution_count": 8,
     "metadata": {},
     "output_type": "execute_result"
    }
   ],
   "source": [
    "l1"
   ]
  },
  {
   "cell_type": "code",
   "execution_count": null,
   "id": "1be0fa8c-d14c-418f-a1f8-71503115ef12",
   "metadata": {},
   "outputs": [],
   "source": [
    "# wap ask user say 5 time hello\n",
    "# save hello in a list\n",
    "# use list comprehension\n"
   ]
  },
  {
   "cell_type": "code",
   "execution_count": 13,
   "id": "0b3b2e35-6ecc-4970-912e-ff7bff9c4f3c",
   "metadata": {},
   "outputs": [],
   "source": [
    "l1=['hello' for i in range (5)]"
   ]
  },
  {
   "cell_type": "code",
   "execution_count": 14,
   "id": "78c4bad6-01cd-4bbb-9de2-40add415bb64",
   "metadata": {},
   "outputs": [
    {
     "data": {
      "text/plain": [
       "['hello', 'hello', 'hello', 'hello', 'hello']"
      ]
     },
     "execution_count": 14,
     "metadata": {},
     "output_type": "execute_result"
    }
   ],
   "source": [
    "l1"
   ]
  },
  {
   "cell_type": "code",
   "execution_count": 16,
   "id": "8fece034-1189-450f-bb01-da84d1a537d8",
   "metadata": {},
   "outputs": [
    {
     "ename": "SyntaxError",
     "evalue": "invalid syntax (1577713034.py, line 1)",
     "output_type": "error",
     "traceback": [
      "\u001b[1;36m  Cell \u001b[1;32mIn[16], line 1\u001b[1;36m\u001b[0m\n\u001b[1;33m    **for loop with if condition**\u001b[0m\n\u001b[1;37m    ^\u001b[0m\n\u001b[1;31mSyntaxError\u001b[0m\u001b[1;31m:\u001b[0m invalid syntax\n"
     ]
    }
   ],
   "source": [
    "**for loop with if condition**\n",
    "\n",
    "[<output>_<for loop>_<if condition>]"
   ]
  },
  {
   "cell_type": "code",
   "execution_count": 19,
   "id": "5c19dbc1-a6b7-4c95-9fd6-4a6839f73865",
   "metadata": {},
   "outputs": [
    {
     "data": {
      "text/plain": [
       "['Hyd', 'Chennai']"
      ]
     },
     "execution_count": 19,
     "metadata": {},
     "output_type": "execute_result"
    }
   ],
   "source": [
    "l=['Hyd','blr','Chennai','pune']\n",
    "[i for i in l if i.istitle()]"
   ]
  },
  {
   "cell_type": "code",
   "execution_count": 25,
   "id": "462f4b44-72ad-418c-b7f0-18c61f189470",
   "metadata": {},
   "outputs": [
    {
     "data": {
      "text/plain": [
       "['Hyd', 'Pune']"
      ]
     },
     "execution_count": 25,
     "metadata": {},
     "output_type": "execute_result"
    }
   ],
   "source": [
    "l=['Hyd','blr','chennai','Pune']\n",
    "[i for i in l if i.istitle()]"
   ]
  },
  {
   "cell_type": "code",
   "execution_count": 27,
   "id": "a8c5ee95-6a24-4910-b97f-ecadb2c06568",
   "metadata": {},
   "outputs": [
    {
     "data": {
      "text/plain": [
       "['bl#r', 'Che#nnai']"
      ]
     },
     "execution_count": 27,
     "metadata": {},
     "output_type": "execute_result"
    }
   ],
   "source": [
    "l=['Hyd','bl#r','Che#nnai','Pune']\n",
    "[i for i in l if '#' in i]"
   ]
  },
  {
   "cell_type": "code",
   "execution_count": 28,
   "id": "25ecf25d-2752-4b41-8fa9-ce47e15523d1",
   "metadata": {},
   "outputs": [
    {
     "data": {
      "text/plain": [
       "['odd 1',\n",
       " 'even 2',\n",
       " 'odd 3',\n",
       " 'even 4',\n",
       " 'odd 5',\n",
       " 'even 6',\n",
       " 'odd 7',\n",
       " 'even 8',\n",
       " 'odd 9',\n",
       " 'even 10']"
      ]
     },
     "execution_count": 28,
     "metadata": {},
     "output_type": "execute_result"
    }
   ],
   "source": [
    "for i in range (1,11):\n",
    "    if i%2==0:\n",
    "        out.append(f\"even {i}\")\n",
    "    else:\n",
    "        out.append(f\"odd {i}\")\n",
    "out"
   ]
  },
  {
   "cell_type": "code",
   "execution_count": 32,
   "id": "a292046b-3709-4403-9c39-a8984127727f",
   "metadata": {},
   "outputs": [
    {
     "data": {
      "text/plain": [
       "['odd 1',\n",
       " 'even 2',\n",
       " 'odd 3',\n",
       " 'even 4',\n",
       " 'odd 5',\n",
       " 'even 6',\n",
       " 'odd 7',\n",
       " 'even 8',\n",
       " 'odd 9',\n",
       " 'even 10']"
      ]
     },
     "execution_count": 32,
     "metadata": {},
     "output_type": "execute_result"
    }
   ],
   "source": [
    "#out =[]\n",
    "# for i in range (1,11):\n",
    "#  if i%2==0\n",
    "\n",
    "#   out.append \n",
    "[f\"even {i}\" if i%2==0 else f\"odd {i}\" for i in range(1,11)]"
   ]
  },
  {
   "cell_type": "markdown",
   "id": "c4d961d5-df01-4aa6-838f-8e941fca76d6",
   "metadata": {},
   "source": [
    "$copy$"
   ]
  },
  {
   "cell_type": "code",
   "execution_count": 33,
   "id": "93a9306f-51b0-489f-93e8-33a17582cbb1",
   "metadata": {},
   "outputs": [
    {
     "data": {
      "text/plain": [
       "3"
      ]
     },
     "execution_count": 33,
     "metadata": {},
     "output_type": "execute_result"
    }
   ],
   "source": [
    "l=[10,10,10,100,200,300]\n",
    "l.count(10)"
   ]
  },
  {
   "cell_type": "markdown",
   "id": "1d66146f-043a-4efb-813d-47eb55a0aef3",
   "metadata": {},
   "source": [
    "**unique vowels wrapper**"
   ]
  },
  {
   "cell_type": "code",
   "execution_count": 39,
   "id": "b99008da-7db0-494e-bded-0bcf3decf29a",
   "metadata": {},
   "outputs": [
    {
     "name": "stdout",
     "output_type": "stream",
     "text": [
      "can 5\n",
      "canner 2\n",
      "not 1\n",
      "a 2\n",
      "but 1\n",
      "you 1\n",
      "make 1\n"
     ]
    }
   ],
   "source": [
    "s='can canner can not a can but canner can you make a can '\n",
    "l=s.split()\n",
    "l1=[]\n",
    "for i in l:\n",
    "    if i not in l1:\n",
    "        print(i,l.count(i))\n",
    "        l1.append(i)\n",
    "# step-1 i='can' if 'can' not in l1 true print ('can',5) l1=['can']\n",
    "\n",
    "# step-3 i= 'can' if 'can' not in l1 False"
   ]
  },
  {
   "cell_type": "markdown",
   "id": "70e09699-0e67-48cf-955c-3d570064a676",
   "metadata": {},
   "source": [
    "**Extend**"
   ]
  },
  {
   "cell_type": "code",
   "execution_count": 44,
   "id": "a7b3f469-54c4-419d-a698-557b082ce18d",
   "metadata": {},
   "outputs": [
    {
     "data": {
      "text/plain": [
       "['a', 'b', 'c', 1, 2, 3, 'a', 'b', 'c', ['a', 'b', 'c']]"
      ]
     },
     "execution_count": 44,
     "metadata": {},
     "output_type": "execute_result"
    }
   ],
   "source": [
    "l1=[1,2,3]\n",
    "l2=['a','b','c']\n",
    "l1.extend(l2)\n",
    "l1.append(l2)\n",
    "l2+l1"
   ]
  },
  {
   "cell_type": "code",
   "execution_count": null,
   "id": "18edf0a1-a77d-45fe-87c3-6fc7d90a7daf",
   "metadata": {},
   "outputs": [],
   "source": [
    "l1=[1,2,3]\n",
    "l2=['a','b','c']\n"
   ]
  },
  {
   "cell_type": "markdown",
   "id": "0256ed60-9b3a-47a0-99d7-33f47cf4d47d",
   "metadata": {},
   "source": [
    "$Difference between extend and concatenation$\n",
    "\n"
   ]
  },
  {
   "cell_type": "code",
   "execution_count": null,
   "id": "22f42a98-ee5d-4b48-9a4b-1ec67e634c91",
   "metadata": {},
   "outputs": [],
   "source": [
    "'insert',\n",
    "'pop',\n",
    "'remove'"
   ]
  },
  {
   "cell_type": "code",
   "execution_count": 46,
   "id": "725bb8d3-7499-459b-8b04-6dc1f1d763e4",
   "metadata": {},
   "outputs": [
    {
     "data": {
      "text/plain": [
       "[1, 2, 3, 4, 100]"
      ]
     },
     "execution_count": 46,
     "metadata": {},
     "output_type": "execute_result"
    }
   ],
   "source": [
    "l=[1,2,3,4]\n",
    "l.append(100)\n",
    "l"
   ]
  },
  {
   "cell_type": "code",
   "execution_count": 48,
   "id": "6d5749dc-025f-4030-9f86-0bfed55c5ec5",
   "metadata": {},
   "outputs": [
    {
     "data": {
      "text/plain": [
       "[1, 2, 3, 100, 4]"
      ]
     },
     "execution_count": 48,
     "metadata": {},
     "output_type": "execute_result"
    }
   ],
   "source": [
    "l=[1,2,3,4]\n",
    "l.insert(3,100)\n",
    "l\n",
    "#at second index i want insert 100"
   ]
  },
  {
   "cell_type": "code",
   "execution_count": 49,
   "id": "1bf636ed-153f-479f-a4fc-47594edaeb05",
   "metadata": {},
   "outputs": [],
   "source": [
    "# concatenation\n",
    "# extend\n",
    "# append\n",
    "# insert"
   ]
  },
  {
   "cell_type": "code",
   "execution_count": 55,
   "id": "179148ba-5971-49a1-a973-b47ab5f96598",
   "metadata": {},
   "outputs": [
    {
     "data": {
      "text/plain": [
       "[1, 4, 7, 10, 'apple', 13, 16, 19]"
      ]
     },
     "execution_count": 55,
     "metadata": {},
     "output_type": "execute_result"
    }
   ],
   "source": [
    "l=[i for i in range (1,20,3)]\n",
    "l\n",
    "\n",
    "# i want insert 'apple' after 10\n",
    "# after 10 means index=4\n",
    "# we ashould not count it \n",
    "# automatically the index value should come\n",
    "index=l.index(10)\n",
    "l.insert(index+1,'apple')\n",
    "l"
   ]
  },
  {
   "cell_type": "markdown",
   "id": "55e06797-e8ea-4eca-b723-822aa124eda0",
   "metadata": {},
   "source": [
    "**pop and remove**"
   ]
  },
  {
   "cell_type": "code",
   "execution_count": 61,
   "id": "9410b94a-9922-4a61-a4f3-340b8f9e2801",
   "metadata": {},
   "outputs": [
    {
     "data": {
      "text/plain": [
       "50"
      ]
     },
     "execution_count": 61,
     "metadata": {},
     "output_type": "execute_result"
    }
   ],
   "source": [
    "l=[20,30,40,50]\n",
    "l.pop()\n"
   ]
  },
  {
   "cell_type": "markdown",
   "id": "1d05eb8a-7a48-4998-a1d2-43fa37ff43d0",
   "metadata": {},
   "source": [
    "- pop will remove the last last value \n",
    "\n",
    "- inside opop we have index argument\n",
    "\n",
    "- be default index=-1, -1 means last value\n",
    "\n",
    "- pop will remove the value ,the output will overwrite\n",
    "\n",
    "- pop also return the item value ,which it is removing"
   ]
  },
  {
   "cell_type": "code",
   "execution_count": 64,
   "id": "e2f44830-07b6-474a-8b36-48afd3f0bd81",
   "metadata": {},
   "outputs": [
    {
     "data": {
      "text/plain": [
       "['apple', 'ball', 10, 20, 'dog']"
      ]
     },
     "execution_count": 64,
     "metadata": {},
     "output_type": "execute_result"
    }
   ],
   "source": [
    "l=['apple','ball','cat',10,20,'dog']\n",
    "l.pop(2)\n",
    "l"
   ]
  },
  {
   "cell_type": "code",
   "execution_count": 65,
   "id": "72a7817e-b3ef-4605-943f-2e6f311ffe07",
   "metadata": {},
   "outputs": [
    {
     "data": {
      "text/plain": [
       "['apple', 'ball', 10, 20, 'dog']"
      ]
     },
     "execution_count": 65,
     "metadata": {},
     "output_type": "execute_result"
    }
   ],
   "source": [
    "l=['apple','ball','cat',10,20,'dog']\n",
    "id=l.index('cat')\n",
    "l.pop(id)\n",
    "l"
   ]
  },
  {
   "cell_type": "code",
   "execution_count": null,
   "id": "20e832c9-55fa-4efb-bdf1-499ab0ba62b5",
   "metadata": {},
   "outputs": [],
   "source": [
    "l=['apple','ball','cat',10,20,'dog']\n",
    "l.pop()\n",
    "l\n",
    "\n",
    "l=['apple','ball','cat',10,20,'dog']\n",
    "l.pop(2)\n",
    "l\n",
    "\n",
    "l=['apple','ball','cat',10,20,'dog']\n",
    "id=l.index('cat')\n",
    "l.pop(id)\n",
    "l\n"
   ]
  },
  {
   "cell_type": "markdown",
   "id": "4d1694fa-dee3-4684-a5a9-817352734064",
   "metadata": {},
   "source": [
    "**Remove**"
   ]
  },
  {
   "cell_type": "code",
   "execution_count": 66,
   "id": "9bc4adb5-f843-4bb6-becd-c5474470e1f2",
   "metadata": {},
   "outputs": [
    {
     "data": {
      "text/plain": [
       "['ball', 'cat', 10, 20, 'dog', 'apple']"
      ]
     },
     "execution_count": 66,
     "metadata": {},
     "output_type": "execute_result"
    }
   ],
   "source": [
    "l=['apple','ball','cat',10,20,'dog','apple']\n",
    "l.remove('apple')\n",
    "l"
   ]
  },
  {
   "cell_type": "code",
   "execution_count": null,
   "id": "401a6e29-62ef-4912-851b-7d3a0a30ce6c",
   "metadata": {},
   "outputs": [],
   "source": [
    "- remove will take the direct itme name \n",
    "\n",
    "- "
   ]
  },
  {
   "cell_type": "code",
   "execution_count": null,
   "id": "57cd844a-bdb2-4b73-9dfd-a16ca502be23",
   "metadata": {},
   "outputs": [],
   "source": [
    "[1,2,3,4].reverse"
   ]
  },
  {
   "cell_type": "code",
   "execution_count": 1,
   "id": "1900bbeb-8b2e-4bc0-80cc-cea1665b15ae",
   "metadata": {},
   "outputs": [],
   "source": [
    "l=[10,2,4,40]\n",
    "# sorted is a keyword\n",
    "#"
   ]
  },
  {
   "cell_type": "code",
   "execution_count": 2,
   "id": "28762c2a-ef19-4fbe-9ab8-234db68c21d1",
   "metadata": {},
   "outputs": [
    {
     "data": {
      "text/plain": [
       "[2, 4, 10, 40]"
      ]
     },
     "execution_count": 2,
     "metadata": {},
     "output_type": "execute_result"
    }
   ],
   "source": [
    "sorted(l)"
   ]
  },
  {
   "cell_type": "code",
   "execution_count": null,
   "id": "252bf2f5-1bf9-461f-a71c-a62fd35539a4",
   "metadata": {},
   "outputs": [],
   "source": [
    "sorted\n",
    "reversed\n",
    "\n",
    "sort/ reverse: overwriting"
   ]
  },
  {
   "cell_type": "code",
   "execution_count": null,
   "id": "439585de-0ba2-43dc-9646-14b860b2d798",
   "metadata": {},
   "outputs": [],
   "source": [
    "l=[1,2,3,4]\n",
    "l.split() # it will not work become its split function is for strings not for list"
   ]
  },
  {
   "cell_type": "code",
   "execution_count": null,
   "id": "54a6b2c2-cca0-445c-ba31-f156edbd63eb",
   "metadata": {},
   "outputs": [],
   "source": [
    "- keywords are generic\n",
    "\n",
    "- sorted and reverseed keyword can use for strings and list\n",
    "\n",
    "- every data has its own methods\n",
    "\n",
    "- whenever you work on which data type you need to work "
   ]
  },
  {
   "cell_type": "markdown",
   "id": "e686e181-6b66-4b2a-8844-9795accc0a37",
   "metadata": {},
   "source": [
    "**del**"
   ]
  },
  {
   "cell_type": "code",
   "execution_count": 4,
   "id": "4e5c3d6d-83d3-44fa-8184-b4892b6ee27a",
   "metadata": {},
   "outputs": [],
   "source": [
    "l=[1,2,3,4]\n",
    "del(l[0])"
   ]
  },
  {
   "cell_type": "code",
   "execution_count": 5,
   "id": "e174910e-cf80-4866-abd3-5818847a27a0",
   "metadata": {},
   "outputs": [
    {
     "data": {
      "text/plain": [
       "[2, 3, 4]"
      ]
     },
     "execution_count": 5,
     "metadata": {},
     "output_type": "execute_result"
    }
   ],
   "source": [
    "l"
   ]
  },
  {
   "cell_type": "code",
   "execution_count": 6,
   "id": "31f3e65a-8659-4359-bceb-aa33ab62cbc5",
   "metadata": {},
   "outputs": [],
   "source": [
    "del(l)  # del for deleting the index in l or you can del all l also\n"
   ]
  },
  {
   "cell_type": "markdown",
   "id": "fc54d07b-0c1f-47c6-a3e3-d89839911c11",
   "metadata": {},
   "source": [
    "**zip*"
   ]
  },
  {
   "cell_type": "code",
   "execution_count": 7,
   "id": "21e8e202-7c61-4069-970f-f217e403803b",
   "metadata": {},
   "outputs": [
    {
     "data": {
      "text/plain": [
       "[11, 14, 16]"
      ]
     },
     "execution_count": 7,
     "metadata": {},
     "output_type": "execute_result"
    }
   ],
   "source": [
    "l1=[1,2,3]\n",
    "l2=[10,12,13]\n",
    "#out=[11,14,16]\n",
    "out=[]\n",
    "for i in range(len(l1)):\n",
    "    out.append(l1[i]+l2[i])\n",
    "out\n",
    "# step-1: i=0 l1[0]+l2[0] 1+10=11"
   ]
  },
  {
   "cell_type": "code",
   "execution_count": 8,
   "id": "6f1464a5-35a2-44e3-bef7-7a6d640bc6e4",
   "metadata": {},
   "outputs": [
    {
     "data": {
      "text/plain": [
       "<zip at 0x148d5333c80>"
      ]
     },
     "execution_count": 8,
     "metadata": {},
     "output_type": "execute_result"
    }
   ],
   "source": [
    "l1=[1,2,3]\n",
    "l2=[10,12,13]\n",
    "#apply the zip\n",
    "#zip is a iterator\n",
    "# get the for loop\n",
    "# two values we zipped\n",
    "#we need two varaible\n",
    "zip(l1,l2)\n",
    "    "
   ]
  },
  {
   "cell_type": "code",
   "execution_count": 12,
   "id": "71e2a9a5-06e5-4d9c-84c7-e56a44ceefda",
   "metadata": {},
   "outputs": [
    {
     "name": "stdout",
     "output_type": "stream",
     "text": [
      "11\n",
      "14\n",
      "16\n"
     ]
    }
   ],
   "source": [
    "for i,j in zip(l1,l2):\n",
    "    print(i+j)"
   ]
  },
  {
   "cell_type": "code",
   "execution_count": 14,
   "id": "a29d149e-08a3-43f3-b56f-bb510091b88a",
   "metadata": {},
   "outputs": [
    {
     "data": {
      "text/plain": [
       "[11, 14, 16]"
      ]
     },
     "execution_count": 14,
     "metadata": {},
     "output_type": "execute_result"
    }
   ],
   "source": [
    "out=[i+j for i,j in zip(l1,l2)]\n",
    "out"
   ]
  },
  {
   "cell_type": "code",
   "execution_count": null,
   "id": "b72691c4-8f64-4abd-a637-3f6bb3d9c295",
   "metadata": {},
   "outputs": [],
   "source": [
    "#############  part-1  ################3\n",
    "1) how to display\n",
    "2) \n",
    "\n",
    "\n",
    "\n",
    "\n",
    "\n",
    "\n",
    "15)\n",
    "\n",
    "#################   part-2      #######################\n",
    "method"
   ]
  },
  {
   "cell_type": "code",
   "execution_count": null,
   "id": "f9148aa2-5858-46a4-8ebc-7615e4a21625",
   "metadata": {},
   "outputs": [],
   "source": [
    "t=(1,2,3,4,4,4)\n",
    "t"
   ]
  },
  {
   "cell_type": "code",
   "execution_count": null,
   "id": "6ac4ee43-050f-4dd4-8bfb-3c04eb8516aa",
   "metadata": {},
   "outputs": [],
   "source": []
  }
 ],
 "metadata": {
  "kernelspec": {
   "display_name": "Python 3 (ipykernel)",
   "language": "python",
   "name": "python3"
  },
  "language_info": {
   "codemirror_mode": {
    "name": "ipython",
    "version": 3
   },
   "file_extension": ".py",
   "mimetype": "text/x-python",
   "name": "python",
   "nbconvert_exporter": "python",
   "pygments_lexer": "ipython3",
   "version": "3.11.7"
  }
 },
 "nbformat": 4,
 "nbformat_minor": 5
}
